{
 "cells": [
  {
   "cell_type": "code",
   "execution_count": 3,
   "metadata": {},
   "outputs": [],
   "source": [
    "# 必要なライブラリのインポート\n",
    "import matplotlib.pyplot as plt #描画ライブラリ\n",
    "import pandas_datareader.data as web #データのダウンロードライブラリ\n",
    "import pandas as pd\n",
    "import numpy as np\n",
    "import cvxopt\n",
    "import os\n",
    "import datetime\n",
    "\n",
    "# ディレクトリの指定\n",
    "os.chdir('C:/Users/bldyr/OneDrive/デスクトップ/自己研鑽用/データ取得')"
   ]
  },
  {
   "cell_type": "markdown",
   "metadata": {},
   "source": [
    "データソースから日次データ（株価等）を取得し，週次の収益率に変換する関数  \n",
    "1. data     : 取得データを選択（例：TOPIX）\n",
    "2. company  : データソースを選択（例：Yahoo finance）\n",
    "3. start    : データ取得開始日\n",
    "4. end      : データ取得終了日"
   ]
  },
  {
   "cell_type": "code",
   "execution_count": 4,
   "metadata": {},
   "outputs": [],
   "source": [
    "def get_val(data, company, start, end):\n",
    "    try: \n",
    "        return ((web.DataReader(data, company, start, end)[\"Adj Close\"].dropna()).pct_change(axis = 0)).resample(rule=\"W\").mean() # resample で止めちゃうとエラーが出る\n",
    "    except:\n",
    "        pass\n",
    "    return 0"
   ]
  },
  {
   "cell_type": "markdown",
   "metadata": {},
   "source": [
    "日経225とS&P500のデータを取得し，週率の収益率に変換後，Excelファイルに書き出し（取得データの確認のため）"
   ]
  },
  {
   "cell_type": "code",
   "execution_count": 14,
   "metadata": {},
   "outputs": [],
   "source": [
    "data = [\"^N225\", \"2510.T\"]               # Yahoo_financeの証券コード \"2510.T\":NOMURA BPI, \"^GSPC\":S&P500\n",
    "company = \"yahoo\"                       # Yahoo Finance からデータ取得\n",
    "start = datetime.datetime(1983,1,4)     # データのスタート時点\n",
    "end = datetime.datetime(2022,1,14)      # データの終了時点\n",
    "\n",
    "df = get_val(data, company, start, end)\n",
    "df.to_excel('Data_weekly.xlsx', sheet_name = 'Data')"
   ]
  },
  {
   "cell_type": "code",
   "execution_count": 20,
   "metadata": {},
   "outputs": [
    {
     "data": {
      "text/plain": [
       "<AxesSubplot:>"
      ]
     },
     "execution_count": 20,
     "metadata": {},
     "output_type": "execute_result"
    },
    {
     "data": {
      "image/png": "[encoded data removed]",
      "text/plain": [
       "<Figure size 432x288 with 1 Axes>"
      ]
     },
     "metadata": {
      "needs_background": "light"
     },
     "output_type": "display_data"
    }
   ],
   "source": [
    "df.loc[:, \"NOMURA BPI\"].plot()"
   ]
  },
  {
   "cell_type": "markdown",
   "metadata": {},
   "source": [
    "データの確認後に再度収益率（週率）を読み込みし，データの確認"
   ]
  },
  {
   "cell_type": "code",
   "execution_count": 42,
   "metadata": {},
   "outputs": [
    {
     "data": {
      "text/html": [
       "<div>\n",
       "<style scoped>\n",
       "    .dataframe tbody tr th:only-of-type {\n",
       "        vertical-align: middle;\n",
       "    }\n",
       "\n",
       "    .dataframe tbody tr th {\n",
       "        vertical-align: top;\n",
       "    }\n",
       "\n",
       "    .dataframe thead th {\n",
       "        text-align: right;\n",
       "    }\n",
       "</style>\n",
       "<table border=\"1\" class=\"dataframe\">\n",
       "  <thead>\n",
       "    <tr style=\"text-align: right;\">\n",
       "      <th></th>\n",
       "      <th>Date</th>\n",
       "      <th>日経225</th>\n",
       "      <th>NOMURA BPI</th>\n",
       "    </tr>\n",
       "  </thead>\n",
       "  <tbody>\n",
       "    <tr>\n",
       "      <th>0</th>\n",
       "      <td>2017.0</td>\n",
       "      <td>0.014194</td>\n",
       "      <td>-0.002318</td>\n",
       "    </tr>\n",
       "    <tr>\n",
       "      <th>1</th>\n",
       "      <td>2017.0</td>\n",
       "      <td>-0.002263</td>\n",
       "      <td>0.000942</td>\n",
       "    </tr>\n",
       "    <tr>\n",
       "      <th>2</th>\n",
       "      <td>2017.0</td>\n",
       "      <td>0.003100</td>\n",
       "      <td>-0.000599</td>\n",
       "    </tr>\n",
       "    <tr>\n",
       "      <th>3</th>\n",
       "      <td>2017.0</td>\n",
       "      <td>-0.001203</td>\n",
       "      <td>0.000601</td>\n",
       "    </tr>\n",
       "    <tr>\n",
       "      <th>4</th>\n",
       "      <td>2018.0</td>\n",
       "      <td>0.020712</td>\n",
       "      <td>-0.000500</td>\n",
       "    </tr>\n",
       "  </tbody>\n",
       "</table>\n",
       "</div>"
      ],
      "text/plain": [
       "     Date     日経225  NOMURA BPI\n",
       "0  2017.0  0.014194   -0.002318\n",
       "1  2017.0 -0.002263    0.000942\n",
       "2  2017.0  0.003100   -0.000599\n",
       "3  2017.0 -0.001203    0.000601\n",
       "4  2018.0  0.020712   -0.000500"
      ]
     },
     "execution_count": 42,
     "metadata": {},
     "output_type": "execute_result"
    }
   ],
   "source": [
    "df = pd.read_csv(\"data_weekly.csv\", encoding=\"shift-jis\") \n",
    "df.rename(columns = {'^N225' : \"日経225\", \"2510.T\" : \"NOMURA BPI\"}, inplace = True)\n",
    "df[\"Date\"] = (df[\"Date\"].str[:4]).astype(float) # Dateのデータタイプの変更\n",
    "df.head()"
   ]
  },
  {
   "cell_type": "markdown",
   "metadata": {},
   "source": [
    "ポートフォリオの期待収益率とボラティリティを計算．ターゲット・データ・ファンドの投資ウェイトを参考に，各時点での投資比率を変更するようにする．  \n",
    "$$\n",
    "stock(t) = \\frac{w - (age + t)}{100}  \\\\\n",
    "bond(t) = 1 - stock(t)\n",
    "$$\n",
    "\n",
    "$t$  :将来時点（年）  \n",
    "$w$  :初期時点の株式投資比率  \n",
    "$age$:現在の年齢"
   ]
  },
  {
   "cell_type": "markdown",
   "metadata": {},
   "source": [
    "各時点$t$（年次）における投資ウェイトより，ポートフォリオの期待収益率$\\nu(t)$とボラティリティ$\\sigma(t)$を計算．\n",
    "$$\n",
    "w_{port}(t) = [stock(t),bond(t)] \\\\\n",
    "\\bold{E}_{port}(t) = [ \\bold{E}_{stock}(t), \\bold{E}_{bond}(t) ] \\\\ \n",
    "r_{port}(t) = <\\bold{E}_{port}(t), w_{port}^{\\rm{T}}(t)>_{R^2}  \\\\\n",
    "\\sigma_{port}(t) = \\sqrt{w_{port}(t)V(t)w_{port}^{\\rm{T}}(t)}\n",
    "$$\n",
    "\n",
    "$w_{port}(t)$ : 時点$t$における投資ウェイト  \n",
    "$\\bold{E}_{port}(t)$ : 時点$t$における株式・債券の期待収益率（週率）  \n",
    "$r_{port}(t)$ : 時点$t$におけるポートフォリオの期待収益率  \n",
    "$\\sigma_{port}(t)$ : 時点$t$におけるポートフォリオのボラティリティ  \n",
    "$V(t)$ : 時点$t$における分散共分散行列 "
   ]
  },
  {
   "cell_type": "code",
   "execution_count": 43,
   "metadata": {},
   "outputs": [
    {
     "name": "stdout",
     "output_type": "stream",
     "text": [
      "[0.0003436995934579437, 5.2979018691588615e-06]\n"
     ]
    }
   ],
   "source": [
    "returns = [df[\"日経225\"].mean(), df[\"NOMURA BPI\"].mean()]\n",
    "print(returns)"
   ]
  },
  {
   "cell_type": "markdown",
   "metadata": {},
   "source": [
    "#### 取得データより計算した期待収益率・ボラティリティ（週率）より，ポートフォリオの指標を計算"
   ]
  },
  {
   "cell_type": "code",
   "execution_count": 44,
   "metadata": {},
   "outputs": [
    {
     "name": "stdout",
     "output_type": "stream",
     "text": [
      "[3.43699593e-04 5.29790187e-06]\n"
     ]
    }
   ],
   "source": [
    "returns = np.append(df[\"日経225\"].mean(), df[\"NOMURA BPI\"].mean()).T\n",
    "print(returns)"
   ]
  },
  {
   "cell_type": "code",
   "execution_count": 45,
   "metadata": {},
   "outputs": [
    {
     "name": "stdout",
     "output_type": "stream",
     "text": [
      "[[ 4.67389585e-05 -4.85944435e-07]\n",
      " [-4.85944435e-07  5.86130932e-07]]\n"
     ]
    }
   ],
   "source": [
    "matrix = np.cov(df[\"日経225\"], df[\"NOMURA BPI\"]) \n",
    "print(matrix)"
   ]
  },
  {
   "cell_type": "code",
   "execution_count": 53,
   "metadata": {},
   "outputs": [
    {
     "name": "stdout",
     "output_type": "stream",
     "text": [
      "[0.0003436995934579437, 0.00034031557654205585, 0.000336931559626168, 0.00033354754271028015, 0.0003301635257943923, 0.0003267795088785044, 0.00032339549196261656, 0.00032001147504672877, 0.0003166274581308409, 0.0003132434412149531, 0.00030985942429906523, 0.0003064754073831774, 0.0003030913904672895, 0.00029970737355140164, 0.0002963233566355138, 0.00029293933971962595, 0.0002895553228037381, 0.00028617130588785025, 0.0002827872889719624, 0.00027940327205607456, 0.0002760192551401867, 0.00027263523822429887, 0.000269251221308411, 0.0002658672043925232, 0.00026248318747663533, 0.0002590991705607475, 0.00025571515364485964, 0.0002523311367289718, 0.0002489471198130839, 0.0002455631028971961, 0.00024217908598130823, 0.00023879506906542038, 0.00023541105214953256, 0.00023202703523364472, 0.00022864301831775687, 0.00022525900140186902, 0.00022187498448598118, 0.0002184909675700933, 0.00021510695065420546, 0.0002117229337383176, 0.00020833891682242977, 0.00020495489990654192, 0.00020157088299065405, 0.0001981868660747662, 0.00019480284915887838, 0.00019141883224299054, 0.0001880348153271027, 0.00018465079841121484, 0.00018126678149532697, 0.00017788276457943912, 0.00017449874766355128, 0.00017111473074766343, 0.00016773071383177559, 0.0001643466969158877, 0.0001609626799999999, 0.00015757866308411205, 0.00015419464616822417, 0.00015081062925233633, 0.00014742661233644848, 0.00014404259542056064, 0.0001406585785046728, 0.00013727456158878494, 0.0001338905446728971, 0.00013050652775700925, 0.00012712251084112138, 0.00012373849392523353, 0.00012035447700934571, 0.00011697046009345787, 0.00011358644317757002, 0.00011020242626168216, 0.00010681840934579431, 0.00010343439242990645, 0.00010005037551401862, 9.666635859813078e-05, 9.328234168224292e-05, 8.989832476635507e-05, 8.651430785046722e-05, 8.313029093457938e-05, 7.974627401869152e-05, 7.636225710280367e-05, 7.297824018691583e-05, 6.959422327102798e-05, 6.621020635514012e-05, 6.282618943925229e-05, 5.944217252336444e-05, 5.605815560747659e-05, 5.267413869158874e-05, 4.929012177570089e-05, 4.590610485981304e-05, 4.252208794392519e-05, 3.9138071028037344e-05, 3.575405411214949e-05, 3.237003719626165e-05, 2.8986020280373802e-05, 2.5602003364485953e-05, 2.2217986448598103e-05, 1.8833969532710254e-05, 1.5449952616822408e-05, 1.2065935700934558e-05, 8.68191878504671e-06]\n"
     ]
    }
   ],
   "source": [
    "w = 100 # 初期時点の株式投資ウェイト\n",
    "age = 0 # 現在の年齢\n",
    "vol = [] # ボラティリティを格納するリストを用意\n",
    "rate = [] # 期待収益率を格納するリストを用意\n",
    "expected_return = np.append(df[\"日経225\"].mean(), df[\"NOMURA BPI\"].mean())\n",
    "matrix = np.cov(df[\"日経225\"], df[\"NOMURA BPI\"]) \n",
    "\n",
    "for i in range(100):\n",
    "    if (w - (age + i)) >= 0:\n",
    "        wgt = np.array([w - (age + i), 100 - (w - (age + i))]) / 100\n",
    "    else:\n",
    "        wgt =  np.array([0, 100]) / 100        \n",
    "    returns = np.dot(wgt, expected_return.T) # これでやってるのは週率データ\n",
    "    stev = np.sqrt(np.dot(np.dot(wgt, matrix), wgt.T))\n",
    "    rate.append(returns)\n",
    "    vol.append(stev)\n",
    "\n",
    "print(rate)"
   ]
  },
  {
   "cell_type": "code",
   "execution_count": 54,
   "metadata": {},
   "outputs": [],
   "source": [
    "df_1 = pd.DataFrame({\"日経225\" : rate,\n",
    "                     \"NOMURA BPI\" : vol},\n",
    "                     index = None)\n",
    "\n",
    "df_1.to_excel('Portfolio_100.xlsx', sheet_name = 'Data')"
   ]
  },
  {
   "cell_type": "markdown",
   "metadata": {},
   "source": [
    "#### 1年ごとに期待収益率・ボラティリティ（週率）を計算し，その結果を下にポートフォリオの指標を計算．"
   ]
  },
  {
   "cell_type": "code",
   "execution_count": 38,
   "metadata": {},
   "outputs": [
    {
     "name": "stdout",
     "output_type": "stream",
     "text": [
      "[0.003933275363736435, 0.0036299161308282557, nan, 0.005812880441193124, 0.002878127520741216, 0.0010404349559562738]\n"
     ]
    }
   ],
   "source": [
    "w = 100      # 初期時点の株式投資ウェイト\n",
    "vol = []     # ボラティリティを格納するリストを用意\n",
    "rate = []    # 期待収益率を格納するリストを用意\n",
    "\n",
    "for i in range(100):\n",
    "    if df.iat[0, 0] + i <= df[\"Date\"].max():\n",
    "        if (w - (age + i)) >= 0:\n",
    "            wgt = np.array([w - (age + i), 100 - (w - (age + i))]) / 100\n",
    "        else:\n",
    "            wgt =  np.array([0, 100]) / 100        \n",
    "        data = df[df[\"Date\"] == df.iat[0, 0] + i]\n",
    "        returns = np.dot(wgt, np.append(data[\"日経225\"].mean(), data[\"NOMURA BPI\"].mean()).T) # これでやってるのは週率データ\n",
    "        matrix =  np.cov(data[\"日経225\"], data[\"NOMURA BPI\"]) # 後ほど修正が必要な個所\n",
    "        stev = np.sqrt(np.dot(np.dot(wgt, matrix), wgt.T))\n",
    "        rate.append(returns)\n",
    "        vol.append(stev)\n",
    "    else:\n",
    "        break\n",
    "\n",
    "print(vol)"
   ]
  },
  {
   "cell_type": "code",
   "execution_count": 9,
   "metadata": {},
   "outputs": [],
   "source": [
    "w = 100 # 初期時点の株式投資ウェイト\n",
    "age = 40 # 現在時点の年齢\n",
    "\n",
    "rate = []\n",
    "vol = [] # ボラティリティを格納するリストを用意\n",
    "\n",
    "for i in range(100):\n",
    "    if df.iat[0, 0] + i <= df[\"Date\"].max():\n",
    "        if (w - (age + i)) >= 0:\n",
    "            wgt = np.array([w - (age + i), 100 - (w - (age + i))]) / 100\n",
    "        else:\n",
    "            wgt =  np.array([0, 100]) / 100        \n",
    "        data = df[df[\"Date\"] == df.iat[0, 0] + i]\n",
    "        returns = np.dot(wgt, np.append(data[\"日経225\"].mean(), data[\"S&P500\"].mean()).T) # これでやってるのは週率データ\n",
    "        matrix =  np.cov(data[\"日経225\"], data[\"S&P500\"]) # 後ほど修正が必要な個所\n",
    "        stev = np.sqrt(np.dot(np.dot(wgt, matrix), wgt.T))\n",
    "        rate.append(returns)\n",
    "        vol.append(stev)\n",
    "    else:\n",
    "        break"
   ]
  },
  {
   "cell_type": "code",
   "execution_count": 10,
   "metadata": {},
   "outputs": [],
   "source": [
    "df_1 = pd.DataFrame({\"期待収益率\" : rate,\n",
    "                     \"ボラティリティ\" : vol},\n",
    "                     index = None)\n",
    "\n",
    "df_1.to_excel('Portfolio.xlsx', sheet_name = 'Data')"
   ]
  }
 ],
 "metadata": {
  "interpreter": {
   "hash": "07432905e6e032ad670eed430a3ff85dcab2da679f2cf2a5b75ad4f83f169207"
  },
  "kernelspec": {
   "display_name": "Python 3.8.12 64-bit ('For_Study': conda)",
   "language": "python",
   "name": "python3"
  },
  "language_info": {
   "codemirror_mode": {
    "name": "ipython",
    "version": 3
   },
   "file_extension": ".py",
   "mimetype": "text/x-python",
   "name": "python",
   "nbconvert_exporter": "python",
   "pygments_lexer": "ipython3",
   "version": "3.8.12"
  },
  "orig_nbformat": 4
 },
 "nbformat": 4,
 "nbformat_minor": 2
}
