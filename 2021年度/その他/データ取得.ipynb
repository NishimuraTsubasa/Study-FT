{
 "cells": [
  {
   "cell_type": "code",
   "execution_count": 1,
   "metadata": {},
   "outputs": [],
   "source": [
    "%matplotlib inline \n",
    "import matplotlib.pyplot as plt #描画ライブラリ\n",
    "import pandas_datareader.data as web #データのダウンロードライブラリ\n",
    "import pandas as pd\n",
    "import numpy as np\n",
    "import cvxopt\n",
    "import os\n",
    "import datetime"
   ]
  },
  {
   "cell_type": "markdown",
   "metadata": {},
   "source": [
    "#### DataReader(stock_code, source, start, end)\n",
    "endを省略すると，直近までのデータがダウンロードされます．引数は以下の通り．  \n",
    "1. stock_code : データセット名\n",
    "2. source : データ取得先\n",
    "3. start : 取得開始日付\n",
    "4. end : 取得終了日付"
   ]
  },
  {
   "cell_type": "code",
   "execution_count": 9,
   "metadata": {},
   "outputs": [
    {
     "data": {
      "text/plain": [
       "<AxesSubplot:xlabel='Date'>"
      ]
     },
     "execution_count": 9,
     "metadata": {},
     "output_type": "execute_result"
    },
    {
     "data": {
      "image/png": "[encoded data removed]",
      "text/plain": [
       "<Figure size 432x288 with 1 Axes>"
      ]
     },
     "metadata": {
      "needs_background": "light"
     },
     "output_type": "display_data"
    }
   ],
   "source": [
    "start = datetime.datetime(1971,1,4)\n",
    "end = datetime.datetime(2022,2,21)\n",
    "\n",
    "data = [\"^DJI\", \"^GSPC\", \"MSCI\"]\n",
    "\n",
    "tsd = web.DataReader(data,\"yahoo\",start, end).dropna() # jpy\n",
    "tsd.loc[:,'Adj Close'].plot()"
   ]
  },
  {
   "cell_type": "code",
   "execution_count": 197,
   "metadata": {},
   "outputs": [
    {
     "data": {
      "text/html": [
       "<div>\n",
       "<style scoped>\n",
       "    .dataframe tbody tr th:only-of-type {\n",
       "        vertical-align: middle;\n",
       "    }\n",
       "\n",
       "    .dataframe tbody tr th {\n",
       "        vertical-align: top;\n",
       "    }\n",
       "\n",
       "    .dataframe thead th {\n",
       "        text-align: right;\n",
       "    }\n",
       "</style>\n",
       "<table border=\"1\" class=\"dataframe\">\n",
       "  <thead>\n",
       "    <tr style=\"text-align: right;\">\n",
       "      <th></th>\n",
       "      <th>High</th>\n",
       "      <th>Low</th>\n",
       "      <th>Open</th>\n",
       "      <th>Close</th>\n",
       "      <th>Volume</th>\n",
       "      <th>Adj Close</th>\n",
       "    </tr>\n",
       "    <tr>\n",
       "      <th>Date</th>\n",
       "      <th></th>\n",
       "      <th></th>\n",
       "      <th></th>\n",
       "      <th></th>\n",
       "      <th></th>\n",
       "      <th></th>\n",
       "    </tr>\n",
       "  </thead>\n",
       "  <tbody>\n",
       "    <tr>\n",
       "      <th>1971-01-05</th>\n",
       "      <td>1989.439941</td>\n",
       "      <td>1989.439941</td>\n",
       "      <td>1989.439941</td>\n",
       "      <td>1989.439941</td>\n",
       "      <td>0.0</td>\n",
       "      <td>1989.439941</td>\n",
       "    </tr>\n",
       "    <tr>\n",
       "      <th>1971-01-06</th>\n",
       "      <td>1981.739990</td>\n",
       "      <td>1981.739990</td>\n",
       "      <td>1981.739990</td>\n",
       "      <td>1981.739990</td>\n",
       "      <td>0.0</td>\n",
       "      <td>1981.739990</td>\n",
       "    </tr>\n",
       "    <tr>\n",
       "      <th>1971-01-07</th>\n",
       "      <td>2000.959961</td>\n",
       "      <td>2000.959961</td>\n",
       "      <td>2000.959961</td>\n",
       "      <td>2000.959961</td>\n",
       "      <td>0.0</td>\n",
       "      <td>2000.959961</td>\n",
       "    </tr>\n",
       "    <tr>\n",
       "      <th>1971-01-08</th>\n",
       "      <td>2040.930054</td>\n",
       "      <td>2040.930054</td>\n",
       "      <td>2040.930054</td>\n",
       "      <td>2040.930054</td>\n",
       "      <td>0.0</td>\n",
       "      <td>2040.930054</td>\n",
       "    </tr>\n",
       "    <tr>\n",
       "      <th>1971-01-12</th>\n",
       "      <td>2092.330078</td>\n",
       "      <td>2092.330078</td>\n",
       "      <td>2092.330078</td>\n",
       "      <td>2092.330078</td>\n",
       "      <td>0.0</td>\n",
       "      <td>2092.330078</td>\n",
       "    </tr>\n",
       "  </tbody>\n",
       "</table>\n",
       "</div>"
      ],
      "text/plain": [
       "                   High          Low         Open        Close  Volume  \\\n",
       "Date                                                                     \n",
       "1971-01-05  1989.439941  1989.439941  1989.439941  1989.439941     0.0   \n",
       "1971-01-06  1981.739990  1981.739990  1981.739990  1981.739990     0.0   \n",
       "1971-01-07  2000.959961  2000.959961  2000.959961  2000.959961     0.0   \n",
       "1971-01-08  2040.930054  2040.930054  2040.930054  2040.930054     0.0   \n",
       "1971-01-12  2092.330078  2092.330078  2092.330078  2092.330078     0.0   \n",
       "\n",
       "              Adj Close  \n",
       "Date                     \n",
       "1971-01-05  1989.439941  \n",
       "1971-01-06  1981.739990  \n",
       "1971-01-07  2000.959961  \n",
       "1971-01-08  2040.930054  \n",
       "1971-01-12  2092.330078  "
      ]
     },
     "execution_count": 197,
     "metadata": {},
     "output_type": "execute_result"
    }
   ],
   "source": [
    "tsd.head()"
   ]
  },
  {
   "cell_type": "code",
   "execution_count": 3,
   "metadata": {},
   "outputs": [
    {
     "data": {
      "text/html": [
       "<div>\n",
       "<style scoped>\n",
       "    .dataframe tbody tr th:only-of-type {\n",
       "        vertical-align: middle;\n",
       "    }\n",
       "\n",
       "    .dataframe tbody tr th {\n",
       "        vertical-align: top;\n",
       "    }\n",
       "\n",
       "    .dataframe thead tr th {\n",
       "        text-align: left;\n",
       "    }\n",
       "\n",
       "    .dataframe thead tr:last-of-type th {\n",
       "        text-align: right;\n",
       "    }\n",
       "</style>\n",
       "<table border=\"1\" class=\"dataframe\">\n",
       "  <thead>\n",
       "    <tr>\n",
       "      <th>Attributes</th>\n",
       "      <th colspan=\"3\" halign=\"left\">Adj Close</th>\n",
       "      <th colspan=\"3\" halign=\"left\">Close</th>\n",
       "      <th colspan=\"3\" halign=\"left\">High</th>\n",
       "      <th colspan=\"3\" halign=\"left\">Low</th>\n",
       "      <th colspan=\"3\" halign=\"left\">Open</th>\n",
       "      <th colspan=\"3\" halign=\"left\">Volume</th>\n",
       "    </tr>\n",
       "    <tr>\n",
       "      <th>Symbols</th>\n",
       "      <th>^DJI</th>\n",
       "      <th>^GSPC</th>\n",
       "      <th>MSCI</th>\n",
       "      <th>^DJI</th>\n",
       "      <th>^GSPC</th>\n",
       "      <th>MSCI</th>\n",
       "      <th>^DJI</th>\n",
       "      <th>^GSPC</th>\n",
       "      <th>MSCI</th>\n",
       "      <th>^DJI</th>\n",
       "      <th>^GSPC</th>\n",
       "      <th>MSCI</th>\n",
       "      <th>^DJI</th>\n",
       "      <th>^GSPC</th>\n",
       "      <th>MSCI</th>\n",
       "      <th>^DJI</th>\n",
       "      <th>^GSPC</th>\n",
       "      <th>MSCI</th>\n",
       "    </tr>\n",
       "    <tr>\n",
       "      <th>Date</th>\n",
       "      <th></th>\n",
       "      <th></th>\n",
       "      <th></th>\n",
       "      <th></th>\n",
       "      <th></th>\n",
       "      <th></th>\n",
       "      <th></th>\n",
       "      <th></th>\n",
       "      <th></th>\n",
       "      <th></th>\n",
       "      <th></th>\n",
       "      <th></th>\n",
       "      <th></th>\n",
       "      <th></th>\n",
       "      <th></th>\n",
       "      <th></th>\n",
       "      <th></th>\n",
       "      <th></th>\n",
       "    </tr>\n",
       "  </thead>\n",
       "  <tbody>\n",
       "    <tr>\n",
       "      <th>2007-12-31</th>\n",
       "      <td>13110.049805</td>\n",
       "      <td>1451.150024</td>\n",
       "      <td>24.021126</td>\n",
       "      <td>13110.049805</td>\n",
       "      <td>1451.150024</td>\n",
       "      <td>26.100000</td>\n",
       "      <td>13262.139648</td>\n",
       "      <td>1472.670044</td>\n",
       "      <td>28.450001</td>\n",
       "      <td>13055.830078</td>\n",
       "      <td>1443.489990</td>\n",
       "      <td>22.059999</td>\n",
       "      <td>13231.009766</td>\n",
       "      <td>1468.040039</td>\n",
       "      <td>23.000000</td>\n",
       "      <td>242570000.0</td>\n",
       "      <td>3.941010e+09</td>\n",
       "      <td>11770500.0</td>\n",
       "    </tr>\n",
       "    <tr>\n",
       "      <th>2008-12-31</th>\n",
       "      <td>13043.959961</td>\n",
       "      <td>1447.160034</td>\n",
       "      <td>31.153837</td>\n",
       "      <td>13043.959961</td>\n",
       "      <td>1447.160034</td>\n",
       "      <td>33.849998</td>\n",
       "      <td>13279.540039</td>\n",
       "      <td>1471.770020</td>\n",
       "      <td>37.950001</td>\n",
       "      <td>12991.370117</td>\n",
       "      <td>1442.069946</td>\n",
       "      <td>33.119999</td>\n",
       "      <td>13261.820312</td>\n",
       "      <td>1467.969971</td>\n",
       "      <td>37.820000</td>\n",
       "      <td>239580000.0</td>\n",
       "      <td>3.452650e+09</td>\n",
       "      <td>442900.0</td>\n",
       "    </tr>\n",
       "    <tr>\n",
       "      <th>2009-12-31</th>\n",
       "      <td>9034.690430</td>\n",
       "      <td>931.799988</td>\n",
       "      <td>17.164520</td>\n",
       "      <td>9034.690430</td>\n",
       "      <td>931.799988</td>\n",
       "      <td>18.650000</td>\n",
       "      <td>9065.280273</td>\n",
       "      <td>934.729980</td>\n",
       "      <td>18.809999</td>\n",
       "      <td>8760.780273</td>\n",
       "      <td>899.349976</td>\n",
       "      <td>17.440001</td>\n",
       "      <td>8772.250000</td>\n",
       "      <td>902.989990</td>\n",
       "      <td>17.920000</td>\n",
       "      <td>213700000.0</td>\n",
       "      <td>4.048270e+09</td>\n",
       "      <td>344100.0</td>\n",
       "    </tr>\n",
       "    <tr>\n",
       "      <th>2010-12-31</th>\n",
       "      <td>10583.959961</td>\n",
       "      <td>1132.989990</td>\n",
       "      <td>29.432777</td>\n",
       "      <td>10583.959961</td>\n",
       "      <td>1132.989990</td>\n",
       "      <td>31.980000</td>\n",
       "      <td>10604.969727</td>\n",
       "      <td>1133.869995</td>\n",
       "      <td>32.340000</td>\n",
       "      <td>10430.690430</td>\n",
       "      <td>1116.560059</td>\n",
       "      <td>31.799999</td>\n",
       "      <td>10430.690430</td>\n",
       "      <td>1116.560059</td>\n",
       "      <td>31.959999</td>\n",
       "      <td>179780000.0</td>\n",
       "      <td>3.991400e+09</td>\n",
       "      <td>470900.0</td>\n",
       "    </tr>\n",
       "    <tr>\n",
       "      <th>2011-12-31</th>\n",
       "      <td>11670.750000</td>\n",
       "      <td>1271.869995</td>\n",
       "      <td>36.307781</td>\n",
       "      <td>11670.750000</td>\n",
       "      <td>1271.869995</td>\n",
       "      <td>39.450001</td>\n",
       "      <td>11711.469727</td>\n",
       "      <td>1276.170044</td>\n",
       "      <td>39.860001</td>\n",
       "      <td>11577.349609</td>\n",
       "      <td>1257.619995</td>\n",
       "      <td>39.200001</td>\n",
       "      <td>11577.429688</td>\n",
       "      <td>1257.619995</td>\n",
       "      <td>39.380001</td>\n",
       "      <td>203420000.0</td>\n",
       "      <td>4.286670e+09</td>\n",
       "      <td>568600.0</td>\n",
       "    </tr>\n",
       "  </tbody>\n",
       "</table>\n",
       "</div>"
      ],
      "text/plain": [
       "Attributes     Adj Close                                 Close               \\\n",
       "Symbols             ^DJI        ^GSPC       MSCI          ^DJI        ^GSPC   \n",
       "Date                                                                          \n",
       "2007-12-31  13110.049805  1451.150024  24.021126  13110.049805  1451.150024   \n",
       "2008-12-31  13043.959961  1447.160034  31.153837  13043.959961  1447.160034   \n",
       "2009-12-31   9034.690430   931.799988  17.164520   9034.690430   931.799988   \n",
       "2010-12-31  10583.959961  1132.989990  29.432777  10583.959961  1132.989990   \n",
       "2011-12-31  11670.750000  1271.869995  36.307781  11670.750000  1271.869995   \n",
       "\n",
       "Attributes                     High                                   Low  \\\n",
       "Symbols          MSCI          ^DJI        ^GSPC       MSCI          ^DJI   \n",
       "Date                                                                        \n",
       "2007-12-31  26.100000  13262.139648  1472.670044  28.450001  13055.830078   \n",
       "2008-12-31  33.849998  13279.540039  1471.770020  37.950001  12991.370117   \n",
       "2009-12-31  18.650000   9065.280273   934.729980  18.809999   8760.780273   \n",
       "2010-12-31  31.980000  10604.969727  1133.869995  32.340000  10430.690430   \n",
       "2011-12-31  39.450001  11711.469727  1276.170044  39.860001  11577.349609   \n",
       "\n",
       "Attributes                                  Open                          \\\n",
       "Symbols           ^GSPC       MSCI          ^DJI        ^GSPC       MSCI   \n",
       "Date                                                                       \n",
       "2007-12-31  1443.489990  22.059999  13231.009766  1468.040039  23.000000   \n",
       "2008-12-31  1442.069946  33.119999  13261.820312  1467.969971  37.820000   \n",
       "2009-12-31   899.349976  17.440001   8772.250000   902.989990  17.920000   \n",
       "2010-12-31  1116.560059  31.799999  10430.690430  1116.560059  31.959999   \n",
       "2011-12-31  1257.619995  39.200001  11577.429688  1257.619995  39.380001   \n",
       "\n",
       "Attributes       Volume                            \n",
       "Symbols            ^DJI         ^GSPC        MSCI  \n",
       "Date                                               \n",
       "2007-12-31  242570000.0  3.941010e+09  11770500.0  \n",
       "2008-12-31  239580000.0  3.452650e+09    442900.0  \n",
       "2009-12-31  213700000.0  4.048270e+09    344100.0  \n",
       "2010-12-31  179780000.0  3.991400e+09    470900.0  \n",
       "2011-12-31  203420000.0  4.286670e+09    568600.0  "
      ]
     },
     "execution_count": 3,
     "metadata": {},
     "output_type": "execute_result"
    }
   ],
   "source": [
    "tsd_anuary = tsd.resample(rule=\"A\").first()\n",
    "tsd_anuary.head()"
   ]
  },
  {
   "cell_type": "code",
   "execution_count": 5,
   "metadata": {},
   "outputs": [
    {
     "data": {
      "text/plain": [
       "'C:\\\\Users\\\\bldyr\\\\OneDrive\\\\デスクトップ\\\\自己研鑽用\\\\02_FT勉強会\\\\2021年度\\\\その他'"
      ]
     },
     "execution_count": 5,
     "metadata": {},
     "output_type": "execute_result"
    }
   ],
   "source": [
    "# ディレクトリの指定\n",
    "os.chdir('C:/Users/bldyr/OneDrive/デスクトップ/自己研鑽用/02_FT勉強会/2021年度/その他')\n",
    "os.getcwd()"
   ]
  },
  {
   "cell_type": "code",
   "execution_count": 10,
   "metadata": {},
   "outputs": [],
   "source": [
    "tsd.to_excel('port_data.xlsx', sheet_name = 'port_Data')"
   ]
  },
  {
   "cell_type": "markdown",
   "metadata": {},
   "source": [
    "#### 複数銘柄の取得\n",
    "基礎研究用に債券指数だと思ってやってみる( ´艸｀)"
   ]
  },
  {
   "cell_type": "markdown",
   "metadata": {},
   "source": [
    "Pandasで時系列データを月，四半期，年ごとに合計や平均を算出する方法．  \n",
    "https://note.nkmk.me/python-pandas-time-series-multiindex/"
   ]
  },
  {
   "cell_type": "code",
   "execution_count": 2,
   "metadata": {},
   "outputs": [
    {
     "data": {
      "text/plain": [
       "'C:\\\\Users\\\\bldyr\\\\OneDrive\\\\デスクトップ\\\\自己研鑽用\\\\データ取得'"
      ]
     },
     "execution_count": 2,
     "metadata": {},
     "output_type": "execute_result"
    }
   ],
   "source": [
    "# ディレクトリの指定\n",
    "os.chdir('C:/Users/bldyr/OneDrive/デスクトップ/自己研鑽用/データ取得')\n",
    "os.getcwd()"
   ]
  },
  {
   "cell_type": "markdown",
   "metadata": {},
   "source": [
    "##### 取得したデータの日次ベースでの収益率を週率に変換．"
   ]
  },
  {
   "cell_type": "code",
   "execution_count": 4,
   "metadata": {},
   "outputs": [],
   "source": [
    "def get_val(data, company, start, end):\n",
    "    try: \n",
    "        return ((web.DataReader(data, company, start, end)[\"Adj Close\"].dropna()).pct_change(axis = 0)).resample(rule=\"W\").mean() # resample で止めちゃうとエラーが出る\n",
    "    except:\n",
    "        pass\n",
    "    return 0"
   ]
  },
  {
   "cell_type": "code",
   "execution_count": 5,
   "metadata": {},
   "outputs": [],
   "source": [
    "data = [\"^N225\", \"^GSPC\"]               # Yahoo_financeの証券コード \"2510.T\":NOMURA BPI, \"^GSPC\";:S&P500\n",
    "company = \"yahoo\"                       # Yahoo Finance からデータ取得\n",
    "start = datetime.datetime(1983,1,4)     # データのスタート時点\n",
    "end = datetime.datetime(2022,1,14)      # データの終了時点\n",
    "\n",
    "df = get_val(data, company, start, end)\n",
    "df.to_excel('Data_weekly.xlsx', sheet_name = 'Data')"
   ]
  },
  {
   "cell_type": "markdown",
   "metadata": {},
   "source": [
    "Excelベースで一度データを整理したのちに，エクセルファイルを読み込む．"
   ]
  },
  {
   "cell_type": "code",
   "execution_count": 109,
   "metadata": {},
   "outputs": [
    {
     "data": {
      "text/html": [
       "<div>\n",
       "<style scoped>\n",
       "    .dataframe tbody tr th:only-of-type {\n",
       "        vertical-align: middle;\n",
       "    }\n",
       "\n",
       "    .dataframe tbody tr th {\n",
       "        vertical-align: top;\n",
       "    }\n",
       "\n",
       "    .dataframe thead th {\n",
       "        text-align: right;\n",
       "    }\n",
       "</style>\n",
       "<table border=\"1\" class=\"dataframe\">\n",
       "  <thead>\n",
       "    <tr style=\"text-align: right;\">\n",
       "      <th></th>\n",
       "      <th>Date</th>\n",
       "      <th>日経225</th>\n",
       "      <th>S&amp;P500</th>\n",
       "    </tr>\n",
       "  </thead>\n",
       "  <tbody>\n",
       "    <tr>\n",
       "      <th>0</th>\n",
       "      <td>1983-01-09 00:00:00</td>\n",
       "      <td>0.006108</td>\n",
       "      <td>0.008980</td>\n",
       "    </tr>\n",
       "    <tr>\n",
       "      <th>1</th>\n",
       "      <td>1983-01-16 00:00:00</td>\n",
       "      <td>-0.001966</td>\n",
       "      <td>0.002044</td>\n",
       "    </tr>\n",
       "    <tr>\n",
       "      <th>2</th>\n",
       "      <td>1983-01-23 00:00:00</td>\n",
       "      <td>-0.002446</td>\n",
       "      <td>-0.003816</td>\n",
       "    </tr>\n",
       "    <tr>\n",
       "      <th>3</th>\n",
       "      <td>1983-01-30 00:00:00</td>\n",
       "      <td>0.000720</td>\n",
       "      <td>0.001043</td>\n",
       "    </tr>\n",
       "    <tr>\n",
       "      <th>4</th>\n",
       "      <td>1983-02-06 00:00:00</td>\n",
       "      <td>-0.000015</td>\n",
       "      <td>0.002295</td>\n",
       "    </tr>\n",
       "  </tbody>\n",
       "</table>\n",
       "</div>"
      ],
      "text/plain": [
       "                  Date     日経225    S&P500\n",
       "0  1983-01-09 00:00:00  0.006108  0.008980\n",
       "1  1983-01-16 00:00:00 -0.001966  0.002044\n",
       "2  1983-01-23 00:00:00 -0.002446 -0.003816\n",
       "3  1983-01-30 00:00:00  0.000720  0.001043\n",
       "4  1983-02-06 00:00:00 -0.000015  0.002295"
      ]
     },
     "execution_count": 109,
     "metadata": {},
     "output_type": "execute_result"
    }
   ],
   "source": [
    "df = pd.read_csv(\"data_weekly.csv\", encoding=\"shift-jis\") # , columns = [\"NK225\", \"S&P500\"] , index_col=0 最初のカラムを入れない\n",
    "df.head()"
   ]
  },
  {
   "cell_type": "code",
   "execution_count": 97,
   "metadata": {},
   "outputs": [
    {
     "data": {
      "text/plain": [
       "Index(['Date', '日経225', 'S&P500'], dtype='object')"
      ]
     },
     "execution_count": 97,
     "metadata": {},
     "output_type": "execute_result"
    }
   ],
   "source": [
    "df.columns"
   ]
  },
  {
   "cell_type": "code",
   "execution_count": 96,
   "metadata": {},
   "outputs": [
    {
     "ename": "TypeError",
     "evalue": "The parameter \"keys\" may be a column key, one-dimensional array, or a list containing only valid column keys and one-dimensional arrays.. Received column of type <class 'set'>",
     "output_type": "error",
     "traceback": [
      "\u001b[1;31m---------------------------------------------------------------------------\u001b[0m",
      "\u001b[1;31mTypeError\u001b[0m                                 Traceback (most recent call last)",
      "\u001b[1;32m~\\anaconda3\\envs\\For_Study\\lib\\site-packages\\pandas\\core\\frame.py\u001b[0m in \u001b[0;36mset_index\u001b[1;34m(self, keys, drop, append, inplace, verify_integrity)\u001b[0m\n\u001b[0;32m   5440\u001b[0m                 \u001b[1;32mtry\u001b[0m\u001b[1;33m:\u001b[0m\u001b[1;33m\u001b[0m\u001b[1;33m\u001b[0m\u001b[0m\n\u001b[1;32m-> 5441\u001b[1;33m                     \u001b[0mfound\u001b[0m \u001b[1;33m=\u001b[0m \u001b[0mcol\u001b[0m \u001b[1;32min\u001b[0m \u001b[0mself\u001b[0m\u001b[1;33m.\u001b[0m\u001b[0mcolumns\u001b[0m\u001b[1;33m\u001b[0m\u001b[1;33m\u001b[0m\u001b[0m\n\u001b[0m\u001b[0;32m   5442\u001b[0m                 \u001b[1;32mexcept\u001b[0m \u001b[0mTypeError\u001b[0m \u001b[1;32mas\u001b[0m \u001b[0merr\u001b[0m\u001b[1;33m:\u001b[0m\u001b[1;33m\u001b[0m\u001b[1;33m\u001b[0m\u001b[0m\n",
      "\u001b[1;32m~\\anaconda3\\envs\\For_Study\\lib\\site-packages\\pandas\\core\\indexes\\base.py\u001b[0m in \u001b[0;36m__contains__\u001b[1;34m(self, key)\u001b[0m\n\u001b[0;32m   4571\u001b[0m         \"\"\"\n\u001b[1;32m-> 4572\u001b[1;33m         \u001b[0mhash\u001b[0m\u001b[1;33m(\u001b[0m\u001b[0mkey\u001b[0m\u001b[1;33m)\u001b[0m\u001b[1;33m\u001b[0m\u001b[1;33m\u001b[0m\u001b[0m\n\u001b[0m\u001b[0;32m   4573\u001b[0m         \u001b[1;32mtry\u001b[0m\u001b[1;33m:\u001b[0m\u001b[1;33m\u001b[0m\u001b[1;33m\u001b[0m\u001b[0m\n",
      "\u001b[1;31mTypeError\u001b[0m: unhashable type: 'set'",
      "\nThe above exception was the direct cause of the following exception:\n",
      "\u001b[1;31mTypeError\u001b[0m                                 Traceback (most recent call last)",
      "\u001b[1;32m~\\AppData\\Local\\Temp/ipykernel_5692/1268954205.py\u001b[0m in \u001b[0;36m<module>\u001b[1;34m\u001b[0m\n\u001b[0;32m      1\u001b[0m \u001b[0mdf\u001b[0m\u001b[1;33m[\u001b[0m\u001b[1;34m\"Date\"\u001b[0m\u001b[1;33m]\u001b[0m \u001b[1;33m=\u001b[0m \u001b[0mpd\u001b[0m\u001b[1;33m.\u001b[0m\u001b[0mto_datetime\u001b[0m\u001b[1;33m(\u001b[0m\u001b[0mdf\u001b[0m\u001b[1;33m[\u001b[0m\u001b[1;34m\"Date\"\u001b[0m\u001b[1;33m]\u001b[0m\u001b[1;33m)\u001b[0m\u001b[1;33m\u001b[0m\u001b[1;33m\u001b[0m\u001b[0m\n\u001b[1;32m----> 2\u001b[1;33m \u001b[0mdf\u001b[0m \u001b[1;33m=\u001b[0m \u001b[0mdf\u001b[0m\u001b[1;33m.\u001b[0m\u001b[0mset_index\u001b[0m\u001b[1;33m(\u001b[0m\u001b[1;33m{\u001b[0m\u001b[1;34m\"Date\"\u001b[0m\u001b[1;33m}\u001b[0m\u001b[1;33m)\u001b[0m\u001b[1;33m\u001b[0m\u001b[1;33m\u001b[0m\u001b[0m\n\u001b[0m\u001b[0;32m      3\u001b[0m \u001b[0mdf\u001b[0m\u001b[1;33m.\u001b[0m\u001b[0mresample\u001b[0m\u001b[1;33m(\u001b[0m\u001b[0mrule\u001b[0m\u001b[1;33m=\u001b[0m\u001b[1;34m\"W\"\u001b[0m\u001b[1;33m)\u001b[0m\u001b[1;33m.\u001b[0m\u001b[0mmean\u001b[0m\u001b[1;33m(\u001b[0m\u001b[1;33m)\u001b[0m\u001b[1;33m\u001b[0m\u001b[1;33m\u001b[0m\u001b[0m\n",
      "\u001b[1;32m~\\anaconda3\\envs\\For_Study\\lib\\site-packages\\pandas\\util\\_decorators.py\u001b[0m in \u001b[0;36mwrapper\u001b[1;34m(*args, **kwargs)\u001b[0m\n\u001b[0;32m    309\u001b[0m                     \u001b[0mstacklevel\u001b[0m\u001b[1;33m=\u001b[0m\u001b[0mstacklevel\u001b[0m\u001b[1;33m,\u001b[0m\u001b[1;33m\u001b[0m\u001b[1;33m\u001b[0m\u001b[0m\n\u001b[0;32m    310\u001b[0m                 )\n\u001b[1;32m--> 311\u001b[1;33m             \u001b[1;32mreturn\u001b[0m \u001b[0mfunc\u001b[0m\u001b[1;33m(\u001b[0m\u001b[1;33m*\u001b[0m\u001b[0margs\u001b[0m\u001b[1;33m,\u001b[0m \u001b[1;33m**\u001b[0m\u001b[0mkwargs\u001b[0m\u001b[1;33m)\u001b[0m\u001b[1;33m\u001b[0m\u001b[1;33m\u001b[0m\u001b[0m\n\u001b[0m\u001b[0;32m    312\u001b[0m \u001b[1;33m\u001b[0m\u001b[0m\n\u001b[0;32m    313\u001b[0m         \u001b[1;32mreturn\u001b[0m \u001b[0mwrapper\u001b[0m\u001b[1;33m\u001b[0m\u001b[1;33m\u001b[0m\u001b[0m\n",
      "\u001b[1;32m~\\anaconda3\\envs\\For_Study\\lib\\site-packages\\pandas\\core\\frame.py\u001b[0m in \u001b[0;36mset_index\u001b[1;34m(self, keys, drop, append, inplace, verify_integrity)\u001b[0m\n\u001b[0;32m   5441\u001b[0m                     \u001b[0mfound\u001b[0m \u001b[1;33m=\u001b[0m \u001b[0mcol\u001b[0m \u001b[1;32min\u001b[0m \u001b[0mself\u001b[0m\u001b[1;33m.\u001b[0m\u001b[0mcolumns\u001b[0m\u001b[1;33m\u001b[0m\u001b[1;33m\u001b[0m\u001b[0m\n\u001b[0;32m   5442\u001b[0m                 \u001b[1;32mexcept\u001b[0m \u001b[0mTypeError\u001b[0m \u001b[1;32mas\u001b[0m \u001b[0merr\u001b[0m\u001b[1;33m:\u001b[0m\u001b[1;33m\u001b[0m\u001b[1;33m\u001b[0m\u001b[0m\n\u001b[1;32m-> 5443\u001b[1;33m                     raise TypeError(\n\u001b[0m\u001b[0;32m   5444\u001b[0m                         \u001b[1;34mf\"{err_msg}. Received column of type {type(col)}\"\u001b[0m\u001b[1;33m\u001b[0m\u001b[1;33m\u001b[0m\u001b[0m\n\u001b[0;32m   5445\u001b[0m                     ) from err\n",
      "\u001b[1;31mTypeError\u001b[0m: The parameter \"keys\" may be a column key, one-dimensional array, or a list containing only valid column keys and one-dimensional arrays.. Received column of type <class 'set'>"
     ]
    }
   ],
   "source": [
    "df[\"Date\"] = pd.to_datetime(df[\"Date\"])\n",
    "df = df.set_index({\"Date\"})\n",
    "df.resample(rule=\"W\").mean()"
   ]
  },
  {
   "cell_type": "code",
   "execution_count": 306,
   "metadata": {},
   "outputs": [
    {
     "name": "stdout",
     "output_type": "stream",
     "text": [
      "1983/1/9\n"
     ]
    }
   ],
   "source": [
    "print(df.iat[0, 0])"
   ]
  },
  {
   "cell_type": "code",
   "execution_count": 70,
   "metadata": {},
   "outputs": [
    {
     "name": "stdout",
     "output_type": "stream",
     "text": [
      "2022.0\n"
     ]
    }
   ],
   "source": [
    "print(df[\"Date\"].max())"
   ]
  },
  {
   "cell_type": "code",
   "execution_count": 307,
   "metadata": {},
   "outputs": [
    {
     "name": "stdout",
     "output_type": "stream",
     "text": [
      "1983.0\n"
     ]
    }
   ],
   "source": [
    "start = float(df.iat[0, 0][:4])\n",
    "print(start)"
   ]
  },
  {
   "cell_type": "code",
   "execution_count": 110,
   "metadata": {},
   "outputs": [
    {
     "data": {
      "text/plain": [
       "0    1983.0\n",
       "1    1983.0\n",
       "2    1983.0\n",
       "3    1983.0\n",
       "4    1983.0\n",
       "Name: Date, dtype: float64"
      ]
     },
     "execution_count": 110,
     "metadata": {},
     "output_type": "execute_result"
    }
   ],
   "source": [
    "df[\"Date\"] = (df[\"Date\"].str[:4]).astype(float) # Dateのデータタイプの変更\n",
    "df[\"Date\"].head()"
   ]
  },
  {
   "cell_type": "markdown",
   "metadata": {},
   "source": [
    "特定の行（何年のデータか）を抽出するコードの作成．"
   ]
  },
  {
   "cell_type": "code",
   "execution_count": 108,
   "metadata": {},
   "outputs": [],
   "source": [
    "df.to_excel('Return.xlsx', sheet_name = 'Data')"
   ]
  },
  {
   "cell_type": "code",
   "execution_count": 113,
   "metadata": {},
   "outputs": [
    {
     "name": "stdout",
     "output_type": "stream",
     "text": [
      "      Date     日経225    S&P500\n",
      "0   1983.0  0.006108  0.008980\n",
      "1   1983.0 -0.001966  0.002044\n",
      "2   1983.0 -0.002446 -0.003816\n",
      "3   1983.0  0.000720  0.001043\n",
      "4   1983.0 -0.000015  0.002295\n",
      "5   1983.0  0.000157  0.002368\n",
      "6   1983.0  0.000793  0.000693\n",
      "7   1983.0  0.000289  0.003014\n",
      "8   1983.0 -0.001012  0.005245\n",
      "9   1983.0  0.001666 -0.003145\n",
      "10  1983.0  0.003772 -0.001767\n",
      "11  1983.0  0.002062  0.004610\n",
      "12  1983.0  0.005260  0.000497\n",
      "13  1983.0 -0.001012 -0.000128\n",
      "14  1983.0  0.002760  0.007612\n",
      "15  1983.0  0.000262  0.002119\n",
      "16  1983.0  0.002138  0.003980\n",
      "17  1983.0  0.001327  0.006444\n",
      "18  1983.0 -0.000941 -0.001431\n",
      "19  1983.0 -0.001579 -0.003372\n",
      "20  1983.0  0.001321  0.002872\n",
      "21  1983.0 -0.003112 -0.000030\n",
      "22  1983.0 -0.000242 -0.002100\n",
      "23  1983.0  0.004722  0.007819\n",
      "24  1983.0  0.003265  0.001517\n",
      "25  1983.0  0.002046 -0.002037\n",
      "26  1983.0  0.002145 -0.002284\n",
      "27  1983.0 -0.002502 -0.003328\n",
      "28  1983.0  0.002104  0.005599\n",
      "29  1983.0  0.001898 -0.007559\n",
      "30  1983.0 -0.002914 -0.000985\n",
      "31  1983.0 -0.000568  0.000557\n",
      "32  1983.0  0.004872  0.002266\n",
      "33  1983.0  0.000134 -0.002231\n",
      "34  1983.0  0.000826  0.003512\n",
      "35  1983.0  0.003294  0.002934\n",
      "36  1983.0 -0.002910 -0.000989\n",
      "37  1983.0  0.002314  0.005254\n",
      "38  1983.0  0.002631 -0.004378\n",
      "39  1983.0  0.003384  0.005649\n",
      "40  1983.0 -0.006268 -0.001376\n",
      "41  1983.0  0.001023 -0.004624\n",
      "42  1983.0 -0.001023 -0.003120\n",
      "43  1983.0  0.000546 -0.001394\n",
      "44  1983.0 -0.000764  0.004718\n",
      "45  1983.0  0.001742 -0.001437\n",
      "46  1983.0 -0.001620  0.004203\n",
      "47  1983.0  0.000845 -0.002072\n",
      "48  1983.0  0.001477 -0.000432\n",
      "49  1983.0  0.001735 -0.003261\n",
      "50  1983.0  0.003231  0.001030\n"
     ]
    }
   ],
   "source": [
    "data = df[df[\"Date\"] == 1983]\n",
    "print(data)"
   ]
  },
  {
   "cell_type": "code",
   "execution_count": 135,
   "metadata": {},
   "outputs": [
    {
     "data": {
      "text/plain": [
       "-0.0010805656666666667"
      ]
     },
     "execution_count": 135,
     "metadata": {},
     "output_type": "execute_result"
    }
   ],
   "source": [
    "data[\"S&P500\"].mean()"
   ]
  },
  {
   "cell_type": "code",
   "execution_count": 136,
   "metadata": {},
   "outputs": [
    {
     "data": {
      "text/plain": [
       "array([-0.00188577, -0.00108057])"
      ]
     },
     "execution_count": 136,
     "metadata": {},
     "output_type": "execute_result"
    }
   ],
   "source": [
    "np.append(data[\"日経225\"].mean(), data[\"S&P500\"].mean())"
   ]
  },
  {
   "cell_type": "code",
   "execution_count": 55,
   "metadata": {},
   "outputs": [
    {
     "name": "stdout",
     "output_type": "stream",
     "text": [
      "['日経225' 'S&P500']\n"
     ]
    }
   ],
   "source": [
    "columns = df.columns[1:].values\n",
    "print(columns)"
   ]
  },
  {
   "cell_type": "code",
   "execution_count": 66,
   "metadata": {},
   "outputs": [
    {
     "data": {
      "text/plain": [
       "0.05806365486574718"
      ]
     },
     "execution_count": 66,
     "metadata": {},
     "output_type": "execute_result"
    }
   ],
   "source": [
    "wgt_1 = np.array([100, 0])\n",
    "np.dot(np.dot(wgt_1, matrix),wgt_1.T)"
   ]
  },
  {
   "cell_type": "code",
   "execution_count": 144,
   "metadata": {},
   "outputs": [
    {
     "name": "stdout",
     "output_type": "stream",
     "text": [
      "0.0008211376727058824\n",
      "0.0006937932311320752\n",
      "0.0006471334610384617\n",
      "0.0014634921382549021\n",
      "0.0008658430141176472\n",
      "0.0004110930787307692\n",
      "0.001087749013018868\n",
      "-0.0014824009491538452\n",
      "0.00033339088161538457\n",
      "0.00011574198364038468\n",
      "-0.00018188401557692316\n",
      "0.000236396415673077\n",
      "0.0006635929011320753\n",
      "0.00039553245569615397\n",
      "-0.0001847708397307692\n",
      "0.0006838750798076923\n",
      "0.001079571451923077\n",
      "-0.0005824772228301885\n",
      "-0.0007327978128076923\n",
      "-0.00036358503323076914\n",
      "0.0010057781653846154\n",
      "0.00034757451000000015\n",
      "0.0010364851012692308\n",
      "0.0004523437398679245\n",
      "-7.179579992307697e-05\n",
      "-0.0021809700847500004\n",
      "0.0013175468644230771\n",
      "8.116397453846164e-05\n",
      "-0.0004880207823076923\n",
      "0.0006990590409433963\n",
      "0.0021671058883961543\n",
      "0.0006118370641346154\n",
      "5.244013661538466e-05\n",
      "0.0002380392057499999\n",
      "0.0007018967106037734\n",
      "-0.00024514721696153855\n",
      "0.001032682679294118\n",
      "0.000907732464423077\n",
      "0.0008450516779999998\n",
      "-0.001378489864\n"
     ]
    }
   ],
   "source": [
    "wht = 100\n",
    "age = 24\n",
    "\n",
    "rate = []\n",
    "vol = [] # ボラティリティを格納するリストを用意\n",
    "for i in range(100):\n",
    "    if df.iat[0, 0] + i <= df[\"Date\"].max():\n",
    "        wgt = np.array([100 - (age + i), age + i]) / 100\n",
    "        data = df[df[\"Date\"] == df.iat[0, 0] + i]\n",
    "        returns = np.dot(wgt, np.append(data[\"日経225\"].mean(), data[\"S&P500\"].mean()).T) # これでやってるのは週率データ\n",
    "        matrix =  np.cov(data[\"日経225\"], data[\"S&P500\"]) # 後ほど修正が必要な個所\n",
    "        print(returns)\n",
    "        stev = np.sqrt(np.dot(np.dot(wgt, matrix), wgt.T))\n",
    "        rate.append(returns)\n",
    "        vol.append(stev)\n",
    "    else:\n",
    "        break\n"
   ]
  },
  {
   "cell_type": "code",
   "execution_count": 146,
   "metadata": {},
   "outputs": [
    {
     "name": "stdout",
     "output_type": "stream",
     "text": [
      "[0.0008211376727058824, 0.0006937932311320752, 0.0006471334610384617, 0.0014634921382549021, 0.0008658430141176472, 0.0004110930787307692, 0.001087749013018868, -0.0014824009491538452, 0.00033339088161538457, 0.00011574198364038468, -0.00018188401557692316, 0.000236396415673077, 0.0006635929011320753, 0.00039553245569615397, -0.0001847708397307692, 0.0006838750798076923, 0.001079571451923077, -0.0005824772228301885, -0.0007327978128076923, -0.00036358503323076914, 0.0010057781653846154, 0.00034757451000000015, 0.0010364851012692308, 0.0004523437398679245, -7.179579992307697e-05, -0.0021809700847500004, 0.0013175468644230771, 8.116397453846164e-05, -0.0004880207823076923, 0.0006990590409433963, 0.0021671058883961543, 0.0006118370641346154, 5.244013661538466e-05, 0.0002380392057499999, 0.0007018967106037734, -0.00024514721696153855, 0.001032682679294118, 0.000907732464423077, 0.0008450516779999998, -0.001378489864]\n"
     ]
    }
   ],
   "source": [
    "print(rate)"
   ]
  },
  {
   "cell_type": "code",
   "execution_count": 148,
   "metadata": {},
   "outputs": [
    {
     "ename": "AttributeError",
     "evalue": "'list' object has no attribute 'T'",
     "output_type": "error",
     "traceback": [
      "\u001b[1;31m---------------------------------------------------------------------------\u001b[0m",
      "\u001b[1;31mAttributeError\u001b[0m                            Traceback (most recent call last)",
      "\u001b[1;32m~\\AppData\\Local\\Temp/ipykernel_5692/1796469354.py\u001b[0m in \u001b[0;36m<module>\u001b[1;34m\u001b[0m\n\u001b[1;32m----> 1\u001b[1;33m \u001b[0mport\u001b[0m \u001b[1;33m=\u001b[0m \u001b[0mnp\u001b[0m\u001b[1;33m.\u001b[0m\u001b[0mappend\u001b[0m\u001b[1;33m(\u001b[0m\u001b[1;33m[\u001b[0m\u001b[0mrate\u001b[0m\u001b[1;33m.\u001b[0m\u001b[0mT\u001b[0m\u001b[1;33m]\u001b[0m\u001b[1;33m,\u001b[0m\u001b[1;33m[\u001b[0m\u001b[0mvol\u001b[0m\u001b[1;33m.\u001b[0m\u001b[0mT\u001b[0m\u001b[1;33m]\u001b[0m\u001b[1;33m,\u001b[0m \u001b[0maxis\u001b[0m \u001b[1;33m=\u001b[0m \u001b[1;36m1\u001b[0m\u001b[1;33m)\u001b[0m\u001b[1;33m\u001b[0m\u001b[1;33m\u001b[0m\u001b[0m\n\u001b[0m",
      "\u001b[1;31mAttributeError\u001b[0m: 'list' object has no attribute 'T'"
     ]
    }
   ],
   "source": [
    "port = []"
   ]
  },
  {
   "cell_type": "code",
   "execution_count": 287,
   "metadata": {},
   "outputs": [
    {
     "name": "stdout",
     "output_type": "stream",
     "text": [
      "0       1983\n",
      "1       1983\n",
      "2       1983\n",
      "3       1983\n",
      "4       1983\n",
      "        ... \n",
      "2032    2021\n",
      "2033    2021\n",
      "2034    2022\n",
      "2035    2022\n",
      "2036    2022\n",
      "Name: Date, Length: 2037, dtype: object\n"
     ]
    }
   ],
   "source": [
    "print(df[\"Date\"].str[:4])"
   ]
  },
  {
   "cell_type": "code",
   "execution_count": 269,
   "metadata": {},
   "outputs": [
    {
     "data": {
      "text/plain": [
       "dtype('O')"
      ]
     },
     "execution_count": 269,
     "metadata": {},
     "output_type": "execute_result"
    }
   ],
   "source": [
    "df[\"Date\"].dtype"
   ]
  },
  {
   "cell_type": "markdown",
   "metadata": {},
   "source": [
    "#### ポートフォリオのウェイトを決定する関数"
   ]
  },
  {
   "cell_type": "markdown",
   "metadata": {},
   "source": [
    "# 不要の産物"
   ]
  },
  {
   "cell_type": "code",
   "execution_count": null,
   "metadata": {},
   "outputs": [],
   "source": [
    "df_rate = df.pct_change(axis = 0) # 変化率の計算\n",
    "df_rate.to_excel('Data_weekly.xlsx', sheet_name = 'Data')"
   ]
  },
  {
   "cell_type": "code",
   "execution_count": null,
   "metadata": {},
   "outputs": [
    {
     "ename": "TypeError",
     "evalue": "Only valid with DatetimeIndex, TimedeltaIndex or PeriodIndex, but got an instance of 'RangeIndex'",
     "output_type": "error",
     "traceback": [
      "\u001b[1;31m---------------------------------------------------------------------------\u001b[0m",
      "\u001b[1;31mTypeError\u001b[0m                                 Traceback (most recent call last)",
      "\u001b[1;32m~\\AppData\\Local\\Temp/ipykernel_1020/1453864388.py\u001b[0m in \u001b[0;36m<module>\u001b[1;34m\u001b[0m\n\u001b[0;32m      1\u001b[0m \u001b[0mdf\u001b[0m \u001b[1;33m=\u001b[0m \u001b[0mpd\u001b[0m\u001b[1;33m.\u001b[0m\u001b[0mread_csv\u001b[0m\u001b[1;33m(\u001b[0m\u001b[1;34m\"data_weekly.csv\"\u001b[0m\u001b[1;33m)\u001b[0m \u001b[1;31m# , columns = [\"NK225\", \"S&P500\"]\u001b[0m\u001b[1;33m\u001b[0m\u001b[1;33m\u001b[0m\u001b[0m\n\u001b[0;32m      2\u001b[0m \u001b[0mdf\u001b[0m\u001b[1;33m[\u001b[0m\u001b[1;34m\"date\"\u001b[0m\u001b[1;33m]\u001b[0m \u001b[1;33m=\u001b[0m \u001b[0mpd\u001b[0m\u001b[1;33m.\u001b[0m\u001b[0mto_datetime\u001b[0m\u001b[1;33m(\u001b[0m\u001b[0mdf\u001b[0m\u001b[1;33m[\u001b[0m\u001b[1;34m\"Date\"\u001b[0m\u001b[1;33m]\u001b[0m\u001b[1;33m)\u001b[0m\u001b[1;33m\u001b[0m\u001b[1;33m\u001b[0m\u001b[0m\n\u001b[1;32m----> 3\u001b[1;33m \u001b[0mdf\u001b[0m\u001b[1;33m.\u001b[0m\u001b[0mresample\u001b[0m\u001b[1;33m(\u001b[0m\u001b[1;34m\"Y\"\u001b[0m\u001b[1;33m)\u001b[0m\u001b[1;33m.\u001b[0m\u001b[0magg\u001b[0m\u001b[1;33m(\u001b[0m\u001b[1;33m[\u001b[0m\u001b[1;34m'mean'\u001b[0m\u001b[1;33m,\u001b[0m \u001b[1;34m'std'\u001b[0m\u001b[1;33m]\u001b[0m\u001b[1;33m)\u001b[0m\u001b[1;33m\u001b[0m\u001b[1;33m\u001b[0m\u001b[0m\n\u001b[0m\u001b[0;32m      4\u001b[0m \u001b[0mdf\u001b[0m\u001b[1;33m.\u001b[0m\u001b[0mhead\u001b[0m\u001b[1;33m(\u001b[0m\u001b[1;33m)\u001b[0m\u001b[1;33m\u001b[0m\u001b[1;33m\u001b[0m\u001b[0m\n",
      "\u001b[1;32m~\\anaconda3\\envs\\For_Study\\lib\\site-packages\\pandas\\core\\frame.py\u001b[0m in \u001b[0;36mresample\u001b[1;34m(self, rule, axis, closed, label, convention, kind, loffset, base, on, level, origin, offset)\u001b[0m\n\u001b[0;32m  10348\u001b[0m         \u001b[0moffset\u001b[0m\u001b[1;33m:\u001b[0m \u001b[0mTimedeltaConvertibleTypes\u001b[0m \u001b[1;33m|\u001b[0m \u001b[1;32mNone\u001b[0m \u001b[1;33m=\u001b[0m \u001b[1;32mNone\u001b[0m\u001b[1;33m,\u001b[0m\u001b[1;33m\u001b[0m\u001b[1;33m\u001b[0m\u001b[0m\n\u001b[0;32m  10349\u001b[0m     ) -> Resampler:\n\u001b[1;32m> 10350\u001b[1;33m         return super().resample(\n\u001b[0m\u001b[0;32m  10351\u001b[0m             \u001b[0mrule\u001b[0m\u001b[1;33m=\u001b[0m\u001b[0mrule\u001b[0m\u001b[1;33m,\u001b[0m\u001b[1;33m\u001b[0m\u001b[1;33m\u001b[0m\u001b[0m\n\u001b[0;32m  10352\u001b[0m             \u001b[0maxis\u001b[0m\u001b[1;33m=\u001b[0m\u001b[0maxis\u001b[0m\u001b[1;33m,\u001b[0m\u001b[1;33m\u001b[0m\u001b[1;33m\u001b[0m\u001b[0m\n",
      "\u001b[1;32m~\\anaconda3\\envs\\For_Study\\lib\\site-packages\\pandas\\core\\generic.py\u001b[0m in \u001b[0;36mresample\u001b[1;34m(self, rule, axis, closed, label, convention, kind, loffset, base, on, level, origin, offset)\u001b[0m\n\u001b[0;32m   8124\u001b[0m \u001b[1;33m\u001b[0m\u001b[0m\n\u001b[0;32m   8125\u001b[0m         \u001b[0maxis\u001b[0m \u001b[1;33m=\u001b[0m \u001b[0mself\u001b[0m\u001b[1;33m.\u001b[0m\u001b[0m_get_axis_number\u001b[0m\u001b[1;33m(\u001b[0m\u001b[0maxis\u001b[0m\u001b[1;33m)\u001b[0m\u001b[1;33m\u001b[0m\u001b[1;33m\u001b[0m\u001b[0m\n\u001b[1;32m-> 8126\u001b[1;33m         return get_resampler(\n\u001b[0m\u001b[0;32m   8127\u001b[0m             \u001b[0mself\u001b[0m\u001b[1;33m,\u001b[0m\u001b[1;33m\u001b[0m\u001b[1;33m\u001b[0m\u001b[0m\n\u001b[0;32m   8128\u001b[0m             \u001b[0mfreq\u001b[0m\u001b[1;33m=\u001b[0m\u001b[0mrule\u001b[0m\u001b[1;33m,\u001b[0m\u001b[1;33m\u001b[0m\u001b[1;33m\u001b[0m\u001b[0m\n",
      "\u001b[1;32m~\\anaconda3\\envs\\For_Study\\lib\\site-packages\\pandas\\core\\resample.py\u001b[0m in \u001b[0;36mget_resampler\u001b[1;34m(obj, kind, **kwds)\u001b[0m\n\u001b[0;32m   1380\u001b[0m     \"\"\"\n\u001b[0;32m   1381\u001b[0m     \u001b[0mtg\u001b[0m \u001b[1;33m=\u001b[0m \u001b[0mTimeGrouper\u001b[0m\u001b[1;33m(\u001b[0m\u001b[1;33m**\u001b[0m\u001b[0mkwds\u001b[0m\u001b[1;33m)\u001b[0m\u001b[1;33m\u001b[0m\u001b[1;33m\u001b[0m\u001b[0m\n\u001b[1;32m-> 1382\u001b[1;33m     \u001b[1;32mreturn\u001b[0m \u001b[0mtg\u001b[0m\u001b[1;33m.\u001b[0m\u001b[0m_get_resampler\u001b[0m\u001b[1;33m(\u001b[0m\u001b[0mobj\u001b[0m\u001b[1;33m,\u001b[0m \u001b[0mkind\u001b[0m\u001b[1;33m=\u001b[0m\u001b[0mkind\u001b[0m\u001b[1;33m)\u001b[0m\u001b[1;33m\u001b[0m\u001b[1;33m\u001b[0m\u001b[0m\n\u001b[0m\u001b[0;32m   1383\u001b[0m \u001b[1;33m\u001b[0m\u001b[0m\n\u001b[0;32m   1384\u001b[0m \u001b[1;33m\u001b[0m\u001b[0m\n",
      "\u001b[1;32m~\\anaconda3\\envs\\For_Study\\lib\\site-packages\\pandas\\core\\resample.py\u001b[0m in \u001b[0;36m_get_resampler\u001b[1;34m(self, obj, kind)\u001b[0m\n\u001b[0;32m   1556\u001b[0m             \u001b[1;32mreturn\u001b[0m \u001b[0mTimedeltaIndexResampler\u001b[0m\u001b[1;33m(\u001b[0m\u001b[0mobj\u001b[0m\u001b[1;33m,\u001b[0m \u001b[0mgroupby\u001b[0m\u001b[1;33m=\u001b[0m\u001b[0mself\u001b[0m\u001b[1;33m,\u001b[0m \u001b[0maxis\u001b[0m\u001b[1;33m=\u001b[0m\u001b[0mself\u001b[0m\u001b[1;33m.\u001b[0m\u001b[0maxis\u001b[0m\u001b[1;33m)\u001b[0m\u001b[1;33m\u001b[0m\u001b[1;33m\u001b[0m\u001b[0m\n\u001b[0;32m   1557\u001b[0m \u001b[1;33m\u001b[0m\u001b[0m\n\u001b[1;32m-> 1558\u001b[1;33m         raise TypeError(\n\u001b[0m\u001b[0;32m   1559\u001b[0m             \u001b[1;34m\"Only valid with DatetimeIndex, \"\u001b[0m\u001b[1;33m\u001b[0m\u001b[1;33m\u001b[0m\u001b[0m\n\u001b[0;32m   1560\u001b[0m             \u001b[1;34m\"TimedeltaIndex or PeriodIndex, \"\u001b[0m\u001b[1;33m\u001b[0m\u001b[1;33m\u001b[0m\u001b[0m\n",
      "\u001b[1;31mTypeError\u001b[0m: Only valid with DatetimeIndex, TimedeltaIndex or PeriodIndex, but got an instance of 'RangeIndex'"
     ]
    }
   ],
   "source": [
    "df = pd.read_csv(\"data_weekly.csv\") # , columns = [\"NK225\", \"S&P500\"]\n",
    "df[\"date\"] = pd.to_datetime(df[\"Date\"])\n",
    "df.resample(\"Y\").agg(['mean', 'std'])\n",
    "df.head()"
   ]
  },
  {
   "cell_type": "code",
   "execution_count": null,
   "metadata": {},
   "outputs": [
    {
     "ename": "KeyError",
     "evalue": "'Column not found: Date'",
     "output_type": "error",
     "traceback": [
      "\u001b[1;31m---------------------------------------------------------------------------\u001b[0m",
      "\u001b[1;31mKeyError\u001b[0m                                  Traceback (most recent call last)",
      "\u001b[1;32m~\\AppData\\Local\\Temp/ipykernel_1020/2625517290.py\u001b[0m in \u001b[0;36m<module>\u001b[1;34m\u001b[0m\n\u001b[1;32m----> 1\u001b[1;33m \u001b[0mprint\u001b[0m\u001b[1;33m(\u001b[0m\u001b[0mdf\u001b[0m\u001b[1;33m[\u001b[0m\u001b[1;34m\"Date\"\u001b[0m\u001b[1;33m]\u001b[0m\u001b[1;33m.\u001b[0m\u001b[0mstr\u001b[0m\u001b[1;33m[\u001b[0m\u001b[1;33m:\u001b[0m\u001b[1;36m4\u001b[0m\u001b[1;33m]\u001b[0m\u001b[1;33m)\u001b[0m\u001b[1;33m\u001b[0m\u001b[1;33m\u001b[0m\u001b[0m\n\u001b[0m",
      "\u001b[1;32m~\\anaconda3\\envs\\For_Study\\lib\\site-packages\\pandas\\core\\base.py\u001b[0m in \u001b[0;36m__getitem__\u001b[1;34m(self, key)\u001b[0m\n\u001b[0;32m    230\u001b[0m         \u001b[1;32melse\u001b[0m\u001b[1;33m:\u001b[0m\u001b[1;33m\u001b[0m\u001b[1;33m\u001b[0m\u001b[0m\n\u001b[0;32m    231\u001b[0m             \u001b[1;32mif\u001b[0m \u001b[0mkey\u001b[0m \u001b[1;32mnot\u001b[0m \u001b[1;32min\u001b[0m \u001b[0mself\u001b[0m\u001b[1;33m.\u001b[0m\u001b[0mobj\u001b[0m\u001b[1;33m:\u001b[0m\u001b[1;33m\u001b[0m\u001b[1;33m\u001b[0m\u001b[0m\n\u001b[1;32m--> 232\u001b[1;33m                 \u001b[1;32mraise\u001b[0m \u001b[0mKeyError\u001b[0m\u001b[1;33m(\u001b[0m\u001b[1;34mf\"Column not found: {key}\"\u001b[0m\u001b[1;33m)\u001b[0m\u001b[1;33m\u001b[0m\u001b[1;33m\u001b[0m\u001b[0m\n\u001b[0m\u001b[0;32m    233\u001b[0m             \u001b[0msubset\u001b[0m \u001b[1;33m=\u001b[0m \u001b[0mself\u001b[0m\u001b[1;33m.\u001b[0m\u001b[0mobj\u001b[0m\u001b[1;33m[\u001b[0m\u001b[0mkey\u001b[0m\u001b[1;33m]\u001b[0m\u001b[1;33m\u001b[0m\u001b[1;33m\u001b[0m\u001b[0m\n\u001b[0;32m    234\u001b[0m             \u001b[0mndim\u001b[0m \u001b[1;33m=\u001b[0m \u001b[0msubset\u001b[0m\u001b[1;33m.\u001b[0m\u001b[0mndim\u001b[0m\u001b[1;33m\u001b[0m\u001b[1;33m\u001b[0m\u001b[0m\n",
      "\u001b[1;31mKeyError\u001b[0m: 'Column not found: Date'"
     ]
    }
   ],
   "source": [
    "print(df[\"Date\"].str[:4])"
   ]
  },
  {
   "cell_type": "code",
   "execution_count": null,
   "metadata": {},
   "outputs": [],
   "source": [
    "def port_()\n",
    "df_mean = (df[[\"^N225\",\"^GSPC\"]].mean() * 250).dropna()\n",
    "df_std = (df[[\"^N225\",\"^GSPC\"]].std() ** 250).dropna()"
   ]
  }
 ],
 "metadata": {
  "interpreter": {
   "hash": "07432905e6e032ad670eed430a3ff85dcab2da679f2cf2a5b75ad4f83f169207"
  },
  "kernelspec": {
   "display_name": "Python 3.8.12 64-bit ('For_Study': conda)",
   "language": "python",
   "name": "python3"
  },
  "language_info": {
   "codemirror_mode": {
    "name": "ipython",
    "version": 3
   },
   "file_extension": ".py",
   "mimetype": "text/x-python",
   "name": "python",
   "nbconvert_exporter": "python",
   "pygments_lexer": "ipython3",
   "version": "3.8.12"
  },
  "orig_nbformat": 4
 },
 "nbformat": 4,
 "nbformat_minor": 2
}
