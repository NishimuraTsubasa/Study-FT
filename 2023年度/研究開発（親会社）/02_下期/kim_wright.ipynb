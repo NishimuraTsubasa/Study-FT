{
 "cells": [
  {
   "cell_type": "code",
   "execution_count": 4,
   "metadata": {},
   "outputs": [],
   "source": [
    "import numpy as np\n",
    "import pandas as pd\n",
    "import scipy as scp\n",
    "import scipy.stats as ss\n",
    "from scipy.optimize import minimize\n",
    "import matplotlib.pyplot as plt\n",
    "from scipy import sparse\n",
    "from scipy.sparse.linalg import spsolve\n",
    "from mpl_toolkits import mplot3d\n",
    "from matplotlib import cm\n",
    "import scipy.special as scsp\n",
    "from scipy.integrate import quad\n",
    "# from FMNM.Processes import OU_process\n",
    "from scipy.interpolate import RegularGridInterpolator\n",
    "import sympy as sp # マクローリン展開用"
   ]
  },
  {
   "cell_type": "markdown",
   "metadata": {},
   "source": [
    "### 数式の整理\n",
    "時点 $t$ における満期 $T$ の債券価格 $y(t, T)$ は以下で表現される．\n",
    "$$\n",
    "y(t) = - \\frac{a(t, T) + b(t, T) \\cdot x(t, T)}{T - t} \n",
    "$$\n",
    "a(t, T) と b(t,T) は以下の常微分方程式に従う．\n",
    "$$\n",
    "\\frac{\\partial}{\\partial t} a(t, T) = \\rho_{0} + b(t, T)' \\Sigma \\phi - \\frac{1}{2} b(t, T)' \\Sigma \\Sigma' b(t, T)\n",
    "$$\n",
    "$$\n",
    "\\frac{\\partial}{\\partial t} b(t, T) = \\rho + (K - \\Sigma \\Phi) b(t, T)'\n",
    "$$\n",
    "ただし，リスクの市場価格 $\\lambda(t)$ と短期金利 $r(t)$ は以下で表現される．\n",
    "$$\n",
    "\\lambda(t) = \\rho_{0} + \\rho' x(t)\n",
    "$$\n",
    "$$\n",
    "r(t) = \\phi + \\Phi x(t)\n",
    "$$\n",
    "/\n",
    "ここで，リスクの市場価格 $\\lambda(t)$ と短期金利 $r(t)$ に関連する $x(t)$ は以下の確率微分方程式に従う．\n",
    "$$\n",
    "\\mathrm{d} x(t) = Kx(t) \\mathrm{d}t + \\Sigma \\mathrm{d}B(t)\n",
    "$$\n",
    "分析に当たっては，以下の時系列モデルに従うとする．\n",
    "$$\n",
    "x(t) = e^{K(T - t)} x(t - 1)\n",
    "$$\n",
    "ただし，\n",
    "$$\n",
    "e^{K(T - t)} = \\sum_{n=0}^{\\infty} \\frac{(K(T - t))^n}{n!}\n",
    "$$\n",
    "\\\n",
    "Kim and Wright においては，使用データは　(3か月, 6か月, 1年, 2年, ４年, 7年, 10年)　である．"
   ]
  },
  {
   "cell_type": "markdown",
   "metadata": {},
   "source": []
  },
  {
   "cell_type": "markdown",
   "metadata": {},
   "source": [
    "### 最尤推定によるパラメータ推計対象\n",
    "カルマンフィルタを用いるに当たり，最尤推定にて求めるべきパラメータは以下の通り．\n",
    "$$\n",
    "\\rho_0 : (3 \\times 1) \\quad \\mathrm{vector}\n",
    "$$\n",
    "$$\n",
    "\\rho : (3 \\times 3) \\quad \\mathrm{vector}\n",
    "$$\n",
    "$$\n",
    "\\phi : (3 \\times 1) \\quad \\mathrm{vector}\n",
    "$$\n",
    "$$\n",
    "\\Phi : (3 \\times 3) \\quad \\mathrm{vector}\n",
    "$$\n",
    "$$\n",
    "K : (3 \\times 3) \\quad \\mathrm{vector}\n",
    "$$\n",
    "$$\n",
    "\\Sigma : (3 \\times 3) \\quad \\mathrm{vector}\n",
    "$$"
   ]
  },
  {
   "cell_type": "code",
   "execution_count": 52,
   "metadata": {},
   "outputs": [
    {
     "data": {
      "text/plain": [
       "42"
      ]
     },
     "execution_count": 52,
     "metadata": {},
     "output_type": "execute_result"
    }
   ],
   "source": [
    "# 使用データ (3か月, 6か月, 1年, 2年, ４年, 7年, 10年)\n",
    "hyper_param = dict(\n",
    "    max_maturity = 10, # 10年が最大値\n",
    "    maturities_array = (3, 6, 12, 24, 48, 84, 120),\n",
    "    approximate_order = 2, # 2次近似\n",
    "    factor_num = 3,\n",
    "    param_matrix_num = 4,\n",
    "    param_vector_num = 2,\n",
    "    initial_time_series_array = np.array([0, 0]) # ODEの初期値を設定\n",
    ")\n",
    "need_param_num = hyper_param[\"factor_num\"] * hyper_param[\"param_vector_num\"] + hyper_param[\"factor_num\"] ** 2 * hyper_param[\"param_matrix_num\"] \n",
    "initial_params = np.zeros(need_param_num)\n",
    "need_param_num"
   ]
  },
  {
   "cell_type": "code",
   "execution_count": 6,
   "metadata": {},
   "outputs": [],
   "source": [
    "def matrix_exponential(X, n):\n",
    "    \"\"\"\n",
    "    行列 X の n 次のマクローリン展開を用いた指数関数の近似値を計算する。\n",
    "\n",
    "    X       : 二次元の numpy 配列（行列）\n",
    "    n       : マクローリン展開の次数\n",
    "    \n",
    "    return  : 行列の指数関数の近似値\n",
    "    \"\"\"\n",
    "    result = np.zeros_like(X)\n",
    "    power = np.eye(X.shape[0])\n",
    "    \n",
    "    for k in range(n + 1):\n",
    "        result = result + power / np.math.factorial(k)\n",
    "        power = np.dot(power, X)\n",
    "    \n",
    "    return result"
   ]
  },
  {
   "cell_type": "code",
   "execution_count": 47,
   "metadata": {},
   "outputs": [],
   "source": [
    "def extract_parameters(params, factor_num, matrix_num, vector_num):\n",
    "    \"\"\" パラメータ配列を適切な方に変換する関数\n",
    "    \n",
    "        params_list : list\n",
    "            rho_0, phi, rho, K, Sigma\n",
    "    \"\"\"\n",
    "    params_list = []\n",
    "    for i in range(matrix_num + vector_num):\n",
    "        if i <= vector_num - 1:\n",
    "            print(factor_num * i, factor_num * (i + 1))\n",
    "            params_list.append(np.array(params[factor_num * i : factor_num * (i + 1)]))\n",
    "            end = factor_num * (i + 1) \n",
    "        else:\n",
    "            start = end\n",
    "            end = end + factor_num ** 2\n",
    "            params_list.append(np.array(params[start : end]).reshape(factor_num, factor_num))\n",
    "    return params_list"
   ]
  },
  {
   "cell_type": "code",
   "execution_count": null,
   "metadata": {},
   "outputs": [],
   "source": [
    "def calc_state_var_value():\n",
    "    \"\"\" 状態変数の時系列推移を計算する関数\n",
    "    \n",
    "    \"\"\""
   ]
  },
  {
   "cell_type": "code",
   "execution_count": null,
   "metadata": {},
   "outputs": [],
   "source": [
    "def calc_yield(maturity, initial_time_series_array, params_list):\n",
    "    \"\"\" イールドカーブを計算する関数\n",
    "    \n",
    "    \"\"\"\n",
    "\n",
    "    "
   ]
  },
  {
   "cell_type": "code",
   "execution_count": null,
   "metadata": {},
   "outputs": [],
   "source": [
    "def kalman_function(yield_array, time, initial_state_vector, initial_covariance, params, maturities_array, approximate_order):\n",
    "    \"\"\" カルマンフィルターのアルゴリズムを記載した関数\n",
    "    \n",
    "    \"\"\"\n",
    "\n",
    "    # パラメータを適切な形に変換\n",
    "    param_list = extract_parameters(params, factor_num, param_matrix_num, param_vector_num)\n",
    "\n",
    "    # 状態変数の初期値X_0 を設定\n",
    "    state_vetor = initial_state_vector\n",
    "    # 状態変数の分散の初期値Σ_0  を設定\n",
    "    state_covariance = initial_covariance\n",
    "\n",
    "    for maturity in maturities_array:\n",
    "        \n",
    "        # 金利の残差項 (実測値 - 推計値)\n",
    "        resifural_array = yield_array[maturities_array] - \n"
   ]
  },
  {
   "cell_type": "code",
   "execution_count": null,
   "metadata": {},
   "outputs": [],
   "source": []
  }
 ],
 "metadata": {
  "kernelspec": {
   "display_name": "machine_learning",
   "language": "python",
   "name": "python3"
  },
  "language_info": {
   "codemirror_mode": {
    "name": "ipython",
    "version": 3
   },
   "file_extension": ".py",
   "mimetype": "text/x-python",
   "name": "python",
   "nbconvert_exporter": "python",
   "pygments_lexer": "ipython3",
   "version": "3.10.13"
  }
 },
 "nbformat": 4,
 "nbformat_minor": 2
}
