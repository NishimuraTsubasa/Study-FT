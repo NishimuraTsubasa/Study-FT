{
 "cells": [
  {
   "cell_type": "code",
   "execution_count": null,
   "metadata": {},
   "outputs": [],
   "source": [
    "# 各セクターごとに全期間にわたって存在する銘柄を特定する\n",
    "# 各セクターで利用可能な全銘柄を取得\n",
    "all_stocks_per_sector = {sector: df[df['セクター'] == sector]['銘柄'].unique() for sector in sectors}\n",
    "\n",
    "# 全期間にわたってデータが存在する銘柄を特定\n",
    "available_stocks_per_sector = {}\n",
    "for sector, stocks in all_stocks_per_sector.items():\n",
    "    available_stocks = []\n",
    "    for stock in stocks:\n",
    "        if len(df[(df['セクター'] == sector) & (df['銘柄'] == stock)]) == len(dates):\n",
    "            available_stocks.append(stock)\n",
    "    available_stocks_per_sector[sector] = available_stocks\n",
    "\n",
    "# 各セクターごとに発行額の最大値、中央値、最小値を持つ銘柄を選定\n",
    "selected_stocks = {}\n",
    "for sector, stocks in available_stocks_per_sector.items():\n",
    "    sector_df = df[(df['セクター'] == sector) & (df['銘柄'].isin(stocks))]\n",
    "    \n",
    "    max_stock = sector_df.loc[sector_df['発行額'].idxmax()]['銘柄']\n",
    "    min_stock = sector_df.loc[sector_df['発行額'].idxmin()]['銘柄']\n",
    "    \n",
    "    # 中央値に最も近い値を持つ銘柄を特定\n",
    "    median_val = sector_df['発行額'].median()\n",
    "    closest_median_stock = (sector_df.iloc[(sector_df['発行額'] - median_val).abs().argsort()[:1]])['銘柄'].values[0]\n",
    "    \n",
    "    selected_stocks[sector] = [max_stock, closest_median_stock, min_stock]\n",
    "\n",
    "# PDFファイルの作成\n",
    "with PdfPages(pdf_filename) as pdf:\n",
    "    for sector in sectors:\n",
    "        for stock in selected_stocks[sector]:\n",
    "            stock_df = df[(df['セクター'] == sector) & (df['銘柄'] == stock)]\n",
    "            plt.figure(figsize=(10, 6))\n",
    "            sns.lineplot(x='Date', y='リターン', data=stock_df)\n",
    "            plt.title(f'{sector} Sector - {stock} Return Trend')\n",
    "            plt.xlabel('Date')\n",
    "            plt.ylabel('Return')\n",
    "            pdf.savefig()\n",
    "            plt.close()\n",
    "\n"
   ]
  }
 ],
 "metadata": {
  "language_info": {
   "name": "python"
  }
 },
 "nbformat": 4,
 "nbformat_minor": 2
}
