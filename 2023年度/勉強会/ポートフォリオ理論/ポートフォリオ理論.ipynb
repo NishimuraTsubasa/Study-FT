{
 "cells": [
  {
   "cell_type": "markdown",
   "metadata": {},
   "source": [
    "## 1. ヒストリカルデータの取得・収益率等の計算"
   ]
  },
  {
   "cell_type": "markdown",
   "metadata": {},
   "source": [
    "#### 問１：データ取得\n",
    "##### (1-1) Yahoo Financeを用いて,2005年1月1日から現在までのFord社（'F'）とマクロソフト (‘MSFT’) ，アップル（'AAPL'）の株価を取得しましょう（FordのtickerはFです）"
   ]
  },
  {
   "cell_type": "code",
   "execution_count": 2,
   "metadata": {},
   "outputs": [
    {
     "name": "stdout",
     "output_type": "stream",
     "text": [
      "[*********************100%%**********************]  1 of 1 completed\n",
      "[*********************100%%**********************]  1 of 1 completed\n",
      "[*********************100%%**********************]  1 of 1 completed\n"
     ]
    }
   ],
   "source": [
    "# ライブラリが存在しない場合は，pip install でインストールして下さい\n",
    "import yfinance as yf\n",
    "import pandas as pd\n",
    "import numpy as np\n",
    "import matplotlib.pyplot as plt\n",
    "\n",
    "\n",
    "tickers = ['F', 'MSFT', 'AAPL'] # 取得するティッカー\n",
    "data = pd.DataFrame()\n",
    "\n",
    "for ticker in tickers:\n",
    "    data[ticker] = yf.download(ticker, start='2005-1-1')['Adj Close']"
   ]
  },
  {
   "cell_type": "markdown",
   "metadata": {},
   "source": [
    "##### (1-2)  .**head()** , **.tail()** メソッドを使ってデータの中身を確認しましょう。"
   ]
  },
  {
   "cell_type": "code",
   "execution_count": 3,
   "metadata": {},
   "outputs": [
    {
     "data": {
      "text/html": [
       "<div>\n",
       "<style scoped>\n",
       "    .dataframe tbody tr th:only-of-type {\n",
       "        vertical-align: middle;\n",
       "    }\n",
       "\n",
       "    .dataframe tbody tr th {\n",
       "        vertical-align: top;\n",
       "    }\n",
       "\n",
       "    .dataframe thead th {\n",
       "        text-align: right;\n",
       "    }\n",
       "</style>\n",
       "<table border=\"1\" class=\"dataframe\">\n",
       "  <thead>\n",
       "    <tr style=\"text-align: right;\">\n",
       "      <th></th>\n",
       "      <th>F</th>\n",
       "      <th>MSFT</th>\n",
       "      <th>AAPL</th>\n",
       "    </tr>\n",
       "    <tr>\n",
       "      <th>Date</th>\n",
       "      <th></th>\n",
       "      <th></th>\n",
       "      <th></th>\n",
       "    </tr>\n",
       "  </thead>\n",
       "  <tbody>\n",
       "    <tr>\n",
       "      <th>2005-01-03</th>\n",
       "      <td>8.211229</td>\n",
       "      <td>18.732996</td>\n",
       "      <td>0.959292</td>\n",
       "    </tr>\n",
       "    <tr>\n",
       "      <th>2005-01-04</th>\n",
       "      <td>8.183323</td>\n",
       "      <td>18.803051</td>\n",
       "      <td>0.969144</td>\n",
       "    </tr>\n",
       "    <tr>\n",
       "      <th>2005-01-05</th>\n",
       "      <td>8.054933</td>\n",
       "      <td>18.761026</td>\n",
       "      <td>0.977632</td>\n",
       "    </tr>\n",
       "    <tr>\n",
       "      <th>2005-01-06</th>\n",
       "      <td>8.066101</td>\n",
       "      <td>18.740002</td>\n",
       "      <td>0.978389</td>\n",
       "    </tr>\n",
       "    <tr>\n",
       "      <th>2005-01-07</th>\n",
       "      <td>8.177740</td>\n",
       "      <td>18.683952</td>\n",
       "      <td>1.049628</td>\n",
       "    </tr>\n",
       "  </tbody>\n",
       "</table>\n",
       "</div>"
      ],
      "text/plain": [
       "                   F       MSFT      AAPL\n",
       "Date                                     \n",
       "2005-01-03  8.211229  18.732996  0.959292\n",
       "2005-01-04  8.183323  18.803051  0.969144\n",
       "2005-01-05  8.054933  18.761026  0.977632\n",
       "2005-01-06  8.066101  18.740002  0.978389\n",
       "2005-01-07  8.177740  18.683952  1.049628"
      ]
     },
     "execution_count": 3,
     "metadata": {},
     "output_type": "execute_result"
    }
   ],
   "source": [
    "data.head()"
   ]
  },
  {
   "cell_type": "markdown",
   "metadata": {},
   "source": [
    "#### 問２：収益率・ボラティリティの計算\n",
    "##### (2-1) 上記の期間における 各銘柄の算術収益率・対数収益率を計算しましょう．"
   ]
  },
  {
   "cell_type": "markdown",
   "metadata": {},
   "source": [
    "$$\n",
    "\\frac{P_1 - P_0}{P_0} = \\frac{P_1}{P_0} - 1\n",
    "$$"
   ]
  },
  {
   "cell_type": "code",
   "execution_count": 4,
   "metadata": {},
   "outputs": [],
   "source": [
    "# 算術収益率\n",
    "simple_return = (data / data.shift(1)) - 1\n",
    "# 対数収益率\n",
    "log_return = np.log(data / data.shift(1))"
   ]
  },
  {
   "cell_type": "markdown",
   "metadata": {},
   "source": [
    "##### (2-2) 各銘柄リターンのボラティリティ（日次・年次）を計算しましょう．"
   ]
  },
  {
   "cell_type": "code",
   "execution_count": 5,
   "metadata": {},
   "outputs": [],
   "source": [
    "# 算術収益率\n",
    "daily_simple_vols = simple_return.std()\n",
    "yearly_simple_vols = simple_return.std() * 250 ** 0.5\n",
    "# 対数収益率\n",
    "daily_log_vols = log_return.std()\n",
    "yearly_log_vols = log_return.std() * 250 ** 0.5"
   ]
  },
  {
   "cell_type": "markdown",
   "metadata": {},
   "source": [
    "#### 問３：システマティックリスク・アンシステマティック\n",
    "##### (3-1) ポートフォリオのウェイトを適当に決め，ポートフォリオの分散を計算してみましょう．"
   ]
  },
  {
   "cell_type": "code",
   "execution_count": 6,
   "metadata": {},
   "outputs": [
    {
     "data": {
      "text/plain": [
       "0.08631428744871761"
      ]
     },
     "execution_count": 6,
     "metadata": {},
     "output_type": "execute_result"
    }
   ],
   "source": [
    "# ウェイト\n",
    "weights = np.array([0.5, 0.2, 0.3])\n",
    "\n",
    "# ポートフォリオの分散を計算\n",
    "pfolio_var = np.dot(weights.T, np.dot(simple_return.cov() * 250, weights)) # 年率換算\n",
    "pfolio_var"
   ]
  },
  {
   "cell_type": "markdown",
   "metadata": {},
   "source": [
    "##### (3-2) システマティックリスク・アンシステマティックを計算してみましょう．\n",
    "| システマティックリスク | アンシステマティック |\n",
    "| ------------------ | ------------------ |\n",
    "| 日々の株価の変化のことを意味しており，それは全ての会社に影響を与える事象によってもたらされる． | 企業特有，もしくは産業特有のリスクであり，分散投資を通じてリスクを減らすことができる． |"
   ]
  },
  {
   "cell_type": "code",
   "execution_count": 14,
   "metadata": {},
   "outputs": [],
   "source": [
    "# 各銘柄の分散を計算\n",
    "vars = np.zeros(3)\n",
    "for i, ticker in enumerate(tickers):\n",
    "                                                  vars[i] = simple_return[ticker].var() * 250\n",
    "\n",
    "# 分散可能なリスクの計算\n",
    "unsistematic_risk = pfolio_var\n",
    "for i, var in enumerate(vars):\n",
    "                                                  unsistematic_risk = unsistematic_risk - (weights[i] ** 2 *var)\n",
    "# 分散不可能なリスク\n",
    "sistematic_risk = pfolio_var - unsistematic_risk"
   ]
  },
  {
   "cell_type": "markdown",
   "metadata": {},
   "source": [
    "#### 問４\n",
    "##### これまで実施した分析を行うための関数を作成してみましょう．引数は「ティッカー，開始日，採用する収益率」としてみましょう．"
   ]
  },
  {
   "cell_type": "markdown",
   "metadata": {},
   "source": []
  }
 ],
 "metadata": {
  "kernelspec": {
   "display_name": "For_Study",
   "language": "python",
   "name": "python3"
  },
  "language_info": {
   "codemirror_mode": {
    "name": "ipython",
    "version": 3
   },
   "file_extension": ".py",
   "mimetype": "text/x-python",
   "name": "python",
   "nbconvert_exporter": "python",
   "pygments_lexer": "ipython3",
   "version": "3.8.12"
  },
  "orig_nbformat": 4
 },
 "nbformat": 4,
 "nbformat_minor": 2
}
