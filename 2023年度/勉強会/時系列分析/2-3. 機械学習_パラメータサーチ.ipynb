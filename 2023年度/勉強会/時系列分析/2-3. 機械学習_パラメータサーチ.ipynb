{
  "cells": [
    {
      "cell_type": "code",
      "execution_count": 1,
      "metadata": {
        "id": "LKNZRPfZahCy"
      },
      "outputs": [],
      "source": [
        "import pandas as pd\n",
        "import numpy as np\n",
        "import matplotlib.pyplot as plt"
      ]
    },
    {
      "cell_type": "code",
      "execution_count": 2,
      "metadata": {
        "id": "XHtsygWta0Kk"
      },
      "outputs": [],
      "source": [
        "train_df = pd.read_csv(\"/content/drive/MyDrive/udemy_time_series/train.csv\")\n",
        "test_df = pd.read_csv(\"/content/drive/MyDrive/udemy_time_series/test.csv\")"
      ]
    },
    {
      "cell_type": "code",
      "execution_count": 22,
      "metadata": {
        "id": "mAEG8IizbCD0"
      },
      "outputs": [],
      "source": [
        "y_train = train_df[\"y\"]\n",
        "X_train = train_df.drop(columns=[\"date_y\", \"y\"])\n",
        "\n",
        "y_test = test_df[\"y\"]\n",
        "X_test = test_df.drop(columns=[\"date_y\", \"y\"])"
      ]
    },
    {
      "cell_type": "code",
      "execution_count": 23,
      "metadata": {
        "id": "fsh1UBIhbW5L"
      },
      "outputs": [],
      "source": [
        "import lightgbm as lgb"
      ]
    },
    {
      "cell_type": "code",
      "execution_count": 24,
      "metadata": {
        "colab": {
          "base_uri": "https://localhost:8080/"
        },
        "id": "UhCW1-Hlbe7w",
        "outputId": "975ad45f-1db0-4f7c-c804-13e80525c5b4"
      },
      "outputs": [
        {
          "data": {
            "text/plain": [
              "{'boosting_type': 'gbdt',\n",
              " 'class_weight': None,\n",
              " 'colsample_bytree': 1.0,\n",
              " 'importance_type': 'split',\n",
              " 'learning_rate': 0.1,\n",
              " 'max_depth': -1,\n",
              " 'min_child_samples': 20,\n",
              " 'min_child_weight': 0.001,\n",
              " 'min_split_gain': 0.0,\n",
              " 'n_estimators': 100,\n",
              " 'n_jobs': -1,\n",
              " 'num_leaves': 31,\n",
              " 'objective': 'regression',\n",
              " 'random_state': None,\n",
              " 'reg_alpha': 0.0,\n",
              " 'reg_lambda': 0.0,\n",
              " 'silent': 'warn',\n",
              " 'subsample': 1.0,\n",
              " 'subsample_for_bin': 200000,\n",
              " 'subsample_freq': 0}"
            ]
          },
          "execution_count": 24,
          "metadata": {},
          "output_type": "execute_result"
        }
      ],
      "source": [
        "model = lgb.LGBMRegressor(objective=\"regression\")\n",
        "model.get_params()"
      ]
    },
    {
      "cell_type": "code",
      "execution_count": 25,
      "metadata": {
        "id": "8w1yTj-wbmvr"
      },
      "outputs": [],
      "source": [
        "from sklearn.model_selection import TimeSeriesSplit\n",
        "from sklearn.metrics import mean_squared_error"
      ]
    },
    {
      "cell_type": "code",
      "execution_count": 29,
      "metadata": {
        "id": "I3XCQXEKcBXG"
      },
      "outputs": [],
      "source": [
        "num_leaves = [3,5]\n",
        "learning_rates = [0.1, 0.001]\n",
        "num_leaves = [3,5,7]\n",
        "learning_rates = [0.1, 0.01, 0.001]\n",
        "n_estimators = [10, 30, 100]\n",
        "reg_alphas = [2, 5, 10]\n",
        "reg_lambdas = [10, 20, 30]\n",
        "\n",
        "split_num = 3"
      ]
    },
    {
      "cell_type": "code",
      "execution_count": 30,
      "metadata": {
        "id": "CSMrpMp-ciZ-"
      },
      "outputs": [],
      "source": [
        "tscv = TimeSeriesSplit(n_splits=split_num)\n",
        "rmse_cv = []\n",
        "param = []\n",
        "param_df = pd.DataFrame([])"
      ]
    },
    {
      "cell_type": "code",
      "execution_count": 31,
      "metadata": {
        "colab": {
          "base_uri": "https://localhost:8080/",
          "height": 1000
        },
        "id": "BBVEEx0ccxwk",
        "outputId": "146a67d2-5922-4101-8648-c2147385adbc"
      },
      "outputs": [
        {
          "name": "stdout",
          "output_type": "stream",
          "text": [
            "[LightGBM] [Warning] Unknown parameter: learning_rates\n",
            "[LightGBM] [Warning] Unknown parameter: learning_rates\n",
            "[LightGBM] [Warning] Unknown parameter: learning_rates\n",
            "[LightGBM] [Warning] Unknown parameter: learning_rates\n",
            "[LightGBM] [Warning] Unknown parameter: learning_rates\n",
            "[LightGBM] [Warning] Unknown parameter: learning_rates\n",
            "[LightGBM] [Warning] Unknown parameter: learning_rates\n",
            "[LightGBM] [Warning] Unknown parameter: learning_rates\n",
            "[LightGBM] [Warning] Unknown parameter: learning_rates\n",
            "[LightGBM] [Warning] Unknown parameter: learning_rates\n",
            "[LightGBM] [Warning] Unknown parameter: learning_rates\n",
            "[LightGBM] [Warning] Unknown parameter: learning_rates\n",
            "[LightGBM] [Warning] Unknown parameter: learning_rates\n",
            "[LightGBM] [Warning] Unknown parameter: learning_rates\n",
            "[LightGBM] [Warning] Unknown parameter: learning_rates\n",
            "[LightGBM] [Warning] Unknown parameter: learning_rates\n",
            "[LightGBM] [Warning] Unknown parameter: learning_rates\n",
            "[LightGBM] [Warning] Unknown parameter: learning_rates\n",
            "[LightGBM] [Warning] Unknown parameter: learning_rates\n",
            "[LightGBM] [Warning] Unknown parameter: learning_rates\n",
            "[LightGBM] [Warning] Unknown parameter: learning_rates\n"
          ]
        },
        {
          "name": "stderr",
          "output_type": "stream",
          "text": [
            "<ipython-input-31-ad0933ab371e>:29: FutureWarning: The frame.append method is deprecated and will be removed from pandas in a future version. Use pandas.concat instead.\n",
            "  param_df = param_df.append(param, ignore_index=True)\n",
            "<ipython-input-31-ad0933ab371e>:29: FutureWarning: The frame.append method is deprecated and will be removed from pandas in a future version. Use pandas.concat instead.\n",
            "  param_df = param_df.append(param, ignore_index=True)\n",
            "<ipython-input-31-ad0933ab371e>:29: FutureWarning: The frame.append method is deprecated and will be removed from pandas in a future version. Use pandas.concat instead.\n",
            "  param_df = param_df.append(param, ignore_index=True)\n",
            "<ipython-input-31-ad0933ab371e>:29: FutureWarning: The frame.append method is deprecated and will be removed from pandas in a future version. Use pandas.concat instead.\n",
            "  param_df = param_df.append(param, ignore_index=True)\n",
            "<ipython-input-31-ad0933ab371e>:29: FutureWarning: The frame.append method is deprecated and will be removed from pandas in a future version. Use pandas.concat instead.\n",
            "  param_df = param_df.append(param, ignore_index=True)\n",
            "<ipython-input-31-ad0933ab371e>:29: FutureWarning: The frame.append method is deprecated and will be removed from pandas in a future version. Use pandas.concat instead.\n",
            "  param_df = param_df.append(param, ignore_index=True)\n",
            "<ipython-input-31-ad0933ab371e>:29: FutureWarning: The frame.append method is deprecated and will be removed from pandas in a future version. Use pandas.concat instead.\n",
            "  param_df = param_df.append(param, ignore_index=True)\n"
          ]
        },
        {
          "name": "stdout",
          "output_type": "stream",
          "text": [
            "[LightGBM] [Warning] Unknown parameter: learning_rates\n",
            "[LightGBM] [Warning] Unknown parameter: learning_rates\n",
            "[LightGBM] [Warning] Unknown parameter: learning_rates\n",
            "[LightGBM] [Warning] Unknown parameter: learning_rates\n",
            "[LightGBM] [Warning] Unknown parameter: learning_rates\n",
            "[LightGBM] [Warning] Unknown parameter: learning_rates\n",
            "[LightGBM] [Warning] Unknown parameter: learning_rates\n",
            "[LightGBM] [Warning] Unknown parameter: learning_rates\n",
            "[LightGBM] [Warning] Unknown parameter: learning_rates\n",
            "[LightGBM] [Warning] Unknown parameter: learning_rates\n",
            "[LightGBM] [Warning] Unknown parameter: learning_rates\n",
            "[LightGBM] [Warning] Unknown parameter: learning_rates\n",
            "[LightGBM] [Warning] Unknown parameter: learning_rates\n",
            "[LightGBM] [Warning] Unknown parameter: learning_rates\n",
            "[LightGBM] [Warning] Unknown parameter: learning_rates\n",
            "[LightGBM] [Warning] Unknown parameter: learning_rates\n",
            "[LightGBM] [Warning] Unknown parameter: learning_rates\n"
          ]
        },
        {
          "name": "stderr",
          "output_type": "stream",
          "text": [
            "<ipython-input-31-ad0933ab371e>:29: FutureWarning: The frame.append method is deprecated and will be removed from pandas in a future version. Use pandas.concat instead.\n",
            "  param_df = param_df.append(param, ignore_index=True)\n",
            "<ipython-input-31-ad0933ab371e>:29: FutureWarning: The frame.append method is deprecated and will be removed from pandas in a future version. Use pandas.concat instead.\n",
            "  param_df = param_df.append(param, ignore_index=True)\n",
            "<ipython-input-31-ad0933ab371e>:29: FutureWarning: The frame.append method is deprecated and will be removed from pandas in a future version. Use pandas.concat instead.\n",
            "  param_df = param_df.append(param, ignore_index=True)\n",
            "<ipython-input-31-ad0933ab371e>:29: FutureWarning: The frame.append method is deprecated and will be removed from pandas in a future version. Use pandas.concat instead.\n",
            "  param_df = param_df.append(param, ignore_index=True)\n",
            "<ipython-input-31-ad0933ab371e>:29: FutureWarning: The frame.append method is deprecated and will be removed from pandas in a future version. Use pandas.concat instead.\n",
            "  param_df = param_df.append(param, ignore_index=True)\n",
            "<ipython-input-31-ad0933ab371e>:29: FutureWarning: The frame.append method is deprecated and will be removed from pandas in a future version. Use pandas.concat instead.\n",
            "  param_df = param_df.append(param, ignore_index=True)\n"
          ]
        },
        {
          "name": "stdout",
          "output_type": "stream",
          "text": [
            "[LightGBM] [Warning] Unknown parameter: learning_rates\n",
            "[LightGBM] [Warning] Unknown parameter: learning_rates\n",
            "[LightGBM] [Warning] Unknown parameter: learning_rates\n",
            "[LightGBM] [Warning] Unknown parameter: learning_rates\n",
            "[LightGBM] [Warning] Unknown parameter: learning_rates\n",
            "[LightGBM] [Warning] Unknown parameter: learning_rates\n",
            "[LightGBM] [Warning] Unknown parameter: learning_rates\n",
            "[LightGBM] [Warning] Unknown parameter: learning_rates\n",
            "[LightGBM] [Warning] Unknown parameter: learning_rates\n",
            "[LightGBM] [Warning] Unknown parameter: learning_rates\n",
            "[LightGBM] [Warning] Unknown parameter: learning_rates\n",
            "[LightGBM] [Warning] Unknown parameter: learning_rates\n",
            "[LightGBM] [Warning] Unknown parameter: learning_rates\n",
            "[LightGBM] [Warning] Unknown parameter: learning_rates\n",
            "[LightGBM] [Warning] Unknown parameter: learning_rates"
          ]
        },
        {
          "name": "stderr",
          "output_type": "stream",
          "text": [
            "<ipython-input-31-ad0933ab371e>:29: FutureWarning: The frame.append method is deprecated and will be removed from pandas in a future version. Use pandas.concat instead.\n",
            "  param_df = param_df.append(param, ignore_index=True)\n",
            "<ipython-input-31-ad0933ab371e>:29: FutureWarning: The frame.append method is deprecated and will be removed from pandas in a future version. Use pandas.concat instead.\n",
            "  param_df = param_df.append(param, ignore_index=True)\n",
            "<ipython-input-31-ad0933ab371e>:29: FutureWarning: The frame.append method is deprecated and will be removed from pandas in a future version. Use pandas.concat instead.\n",
            "  param_df = param_df.append(param, ignore_index=True)\n",
            "<ipython-input-31-ad0933ab371e>:29: FutureWarning: The frame.append method is deprecated and will be removed from pandas in a future version. Use pandas.concat instead.\n",
            "  param_df = param_df.append(param, ignore_index=True)\n",
            "<ipython-input-31-ad0933ab371e>:29: FutureWarning: The frame.append method is deprecated and will be removed from pandas in a future version. Use pandas.concat instead.\n",
            "  param_df = param_df.append(param, ignore_index=True)\n"
          ]
        },
        {
          "name": "stdout",
          "output_type": "stream",
          "text": [
            "\n",
            "[LightGBM] [Warning] Unknown parameter: learning_rates\n",
            "[LightGBM] [Warning] Unknown parameter: learning_rates\n",
            "[LightGBM] [Warning] Unknown parameter: learning_rates\n",
            "[LightGBM] [Warning] Unknown parameter: learning_rates\n",
            "[LightGBM] [Warning] Unknown parameter: learning_rates\n",
            "[LightGBM] [Warning] Unknown parameter: learning_rates\n",
            "[LightGBM] [Warning] Unknown parameter: learning_rates\n",
            "[LightGBM] [Warning] Unknown parameter: learning_rates\n"
          ]
        },
        {
          "name": "stderr",
          "output_type": "stream",
          "text": [
            "<ipython-input-31-ad0933ab371e>:29: FutureWarning: The frame.append method is deprecated and will be removed from pandas in a future version. Use pandas.concat instead.\n",
            "  param_df = param_df.append(param, ignore_index=True)\n",
            "<ipython-input-31-ad0933ab371e>:29: FutureWarning: The frame.append method is deprecated and will be removed from pandas in a future version. Use pandas.concat instead.\n",
            "  param_df = param_df.append(param, ignore_index=True)\n",
            "<ipython-input-31-ad0933ab371e>:29: FutureWarning: The frame.append method is deprecated and will be removed from pandas in a future version. Use pandas.concat instead.\n",
            "  param_df = param_df.append(param, ignore_index=True)\n"
          ]
        },
        {
          "name": "stdout",
          "output_type": "stream",
          "text": [
            "[LightGBM] [Warning] Unknown parameter: learning_rates\n",
            "[LightGBM] [Warning] Unknown parameter: learning_rates\n",
            "[LightGBM] [Warning] Unknown parameter: learning_rates\n",
            "[LightGBM] [Warning] Unknown parameter: learning_rates\n",
            "[LightGBM] [Warning] Unknown parameter: learning_rates\n",
            "[LightGBM] [Warning] Unknown parameter: learning_rates\n",
            "[LightGBM] [Warning] Unknown parameter: learning_rates\n"
          ]
        },
        {
          "name": "stderr",
          "output_type": "stream",
          "text": [
            "<ipython-input-31-ad0933ab371e>:29: FutureWarning: The frame.append method is deprecated and will be removed from pandas in a future version. Use pandas.concat instead.\n",
            "  param_df = param_df.append(param, ignore_index=True)\n",
            "<ipython-input-31-ad0933ab371e>:29: FutureWarning: The frame.append method is deprecated and will be removed from pandas in a future version. Use pandas.concat instead.\n",
            "  param_df = param_df.append(param, ignore_index=True)\n",
            "<ipython-input-31-ad0933ab371e>:29: FutureWarning: The frame.append method is deprecated and will be removed from pandas in a future version. Use pandas.concat instead.\n",
            "  param_df = param_df.append(param, ignore_index=True)\n"
          ]
        },
        {
          "name": "stdout",
          "output_type": "stream",
          "text": [
            "[LightGBM] [Warning] Unknown parameter: learning_rates\n",
            "[LightGBM] [Warning] Unknown parameter: learning_rates\n",
            "[LightGBM] [Warning] Unknown parameter: learning_rates\n",
            "[LightGBM] [Warning] Unknown parameter: learning_rates\n",
            "[LightGBM] [Warning] Unknown parameter: learning_rates\n",
            "[LightGBM] [Warning] Unknown parameter: learning_rates\n",
            "[LightGBM] [Warning] Unknown parameter: learning_rates\n"
          ]
        },
        {
          "name": "stderr",
          "output_type": "stream",
          "text": [
            "<ipython-input-31-ad0933ab371e>:29: FutureWarning: The frame.append method is deprecated and will be removed from pandas in a future version. Use pandas.concat instead.\n",
            "  param_df = param_df.append(param, ignore_index=True)\n",
            "<ipython-input-31-ad0933ab371e>:29: FutureWarning: The frame.append method is deprecated and will be removed from pandas in a future version. Use pandas.concat instead.\n",
            "  param_df = param_df.append(param, ignore_index=True)\n",
            "<ipython-input-31-ad0933ab371e>:29: FutureWarning: The frame.append method is deprecated and will be removed from pandas in a future version. Use pandas.concat instead.\n",
            "  param_df = param_df.append(param, ignore_index=True)\n",
            "<ipython-input-31-ad0933ab371e>:29: FutureWarning: The frame.append method is deprecated and will be removed from pandas in a future version. Use pandas.concat instead.\n",
            "  param_df = param_df.append(param, ignore_index=True)\n"
          ]
        },
        {
          "name": "stdout",
          "output_type": "stream",
          "text": [
            "[LightGBM] [Warning] Unknown parameter: learning_rates\n",
            "[LightGBM] [Warning] Unknown parameter: learning_rates\n",
            "[LightGBM] [Warning] Unknown parameter: learning_rates\n",
            "[LightGBM] [Warning] Unknown parameter: learning_rates\n",
            "[LightGBM] [Warning] Unknown parameter: learning_rates\n",
            "[LightGBM] [Warning] Unknown parameter: learning_rates\n",
            "[LightGBM] [Warning] Unknown parameter: learning_rates\n",
            "[LightGBM] [Warning] Unknown parameter: learning_rates\n",
            "[LightGBM] [Warning] Unknown parameter: learning_rates\n",
            "[LightGBM] [Warning] Unknown parameter: learning_rates\n",
            "[LightGBM] [Warning] Unknown parameter: learning_rates\n",
            "[LightGBM] [Warning] Unknown parameter: learning_rates\n"
          ]
        },
        {
          "name": "stderr",
          "output_type": "stream",
          "text": [
            "<ipython-input-31-ad0933ab371e>:29: FutureWarning: The frame.append method is deprecated and will be removed from pandas in a future version. Use pandas.concat instead.\n",
            "  param_df = param_df.append(param, ignore_index=True)\n",
            "<ipython-input-31-ad0933ab371e>:29: FutureWarning: The frame.append method is deprecated and will be removed from pandas in a future version. Use pandas.concat instead.\n",
            "  param_df = param_df.append(param, ignore_index=True)\n",
            "<ipython-input-31-ad0933ab371e>:29: FutureWarning: The frame.append method is deprecated and will be removed from pandas in a future version. Use pandas.concat instead.\n",
            "  param_df = param_df.append(param, ignore_index=True)\n",
            "<ipython-input-31-ad0933ab371e>:29: FutureWarning: The frame.append method is deprecated and will be removed from pandas in a future version. Use pandas.concat instead.\n",
            "  param_df = param_df.append(param, ignore_index=True)\n",
            "<ipython-input-31-ad0933ab371e>:29: FutureWarning: The frame.append method is deprecated and will be removed from pandas in a future version. Use pandas.concat instead.\n",
            "  param_df = param_df.append(param, ignore_index=True)\n",
            "<ipython-input-31-ad0933ab371e>:29: FutureWarning: The frame.append method is deprecated and will be removed from pandas in a future version. Use pandas.concat instead.\n",
            "  param_df = param_df.append(param, ignore_index=True)\n",
            "<ipython-input-31-ad0933ab371e>:29: FutureWarning: The frame.append method is deprecated and will be removed from pandas in a future version. Use pandas.concat instead.\n",
            "  param_df = param_df.append(param, ignore_index=True)\n",
            "<ipython-input-31-ad0933ab371e>:29: FutureWarning: The frame.append method is deprecated and will be removed from pandas in a future version. Use pandas.concat instead.\n",
            "  param_df = param_df.append(param, ignore_index=True)\n"
          ]
        },
        {
          "name": "stdout",
          "output_type": "stream",
          "text": [
            "[LightGBM] [Warning] Unknown parameter: learning_rates\n",
            "[LightGBM] [Warning] Unknown parameter: learning_rates\n",
            "[LightGBM] [Warning] Unknown parameter: learning_rates\n",
            "[LightGBM] [Warning] Unknown parameter: learning_rates\n",
            "[LightGBM] [Warning] Unknown parameter: learning_rates\n",
            "[LightGBM] [Warning] Unknown parameter: learning_rates\n",
            "[LightGBM] [Warning] Unknown parameter: learning_rates\n",
            "[LightGBM] [Warning] Unknown parameter: learning_rates\n",
            "[LightGBM] [Warning] Unknown parameter: learning_rates\n",
            "[LightGBM] [Warning] Unknown parameter: learning_rates\n",
            "[LightGBM] [Warning] Unknown parameter: learning_rates\n",
            "[LightGBM] [Warning] Unknown parameter: learning_rates\n",
            "[LightGBM] [Warning] Unknown parameter: learning_rates\n",
            "[LightGBM] [Warning] Unknown parameter: learning_rates\n",
            "[LightGBM] [Warning] Unknown parameter: learning_rates\n",
            "[LightGBM] [Warning] Unknown parameter: learning_rates\n",
            "[LightGBM] [Warning] Unknown parameter: learning_rates\n",
            "[LightGBM] [Warning] Unknown parameter: learning_rates\n",
            "[LightGBM] [Warning] Unknown parameter: learning_rates\n",
            "[LightGBM] [Warning] Unknown parameter: learning_rates\n",
            "[LightGBM] [Warning] Unknown parameter: learning_rates\n",
            "[LightGBM] [Warning] Unknown parameter: learning_rates\n",
            "[LightGBM] [Warning] Unknown parameter: learning_rates\n",
            "[LightGBM] [Warning] Unknown parameter: learning_rates\n",
            "[LightGBM] [Warning] Unknown parameter: learning_rates\n",
            "[LightGBM] [Warning] Unknown parameter: learning_rates\n",
            "[LightGBM] [Warning] Unknown parameter: learning_rates\n",
            "[LightGBM] [Warning] Unknown parameter: learning_rates\n",
            "[LightGBM] [Warning] Unknown parameter: learning_rates\n",
            "[LightGBM] [Warning] Unknown parameter: learning_rates\n",
            "[LightGBM] [Warning] Unknown parameter: learning_rates\n",
            "[LightGBM] [Warning] Unknown parameter: learning_rates\n",
            "[LightGBM] [Warning] Unknown parameter: learning_rates\n",
            "[LightGBM] [Warning] Unknown parameter: learning_rates\n",
            "[LightGBM] [Warning] Unknown parameter: learning_rates\n",
            "[LightGBM] [Warning] Unknown parameter: learning_rates\n",
            "[LightGBM] [Warning] Unknown parameter: learning_rates\n",
            "[LightGBM] [Warning] Unknown parameter: learning_rates\n"
          ]
        },
        {
          "name": "stderr",
          "output_type": "stream",
          "text": [
            "<ipython-input-31-ad0933ab371e>:29: FutureWarning: The frame.append method is deprecated and will be removed from pandas in a future version. Use pandas.concat instead.\n",
            "  param_df = param_df.append(param, ignore_index=True)\n",
            "<ipython-input-31-ad0933ab371e>:29: FutureWarning: The frame.append method is deprecated and will be removed from pandas in a future version. Use pandas.concat instead.\n",
            "  param_df = param_df.append(param, ignore_index=True)\n",
            "<ipython-input-31-ad0933ab371e>:29: FutureWarning: The frame.append method is deprecated and will be removed from pandas in a future version. Use pandas.concat instead.\n",
            "  param_df = param_df.append(param, ignore_index=True)\n",
            "<ipython-input-31-ad0933ab371e>:29: FutureWarning: The frame.append method is deprecated and will be removed from pandas in a future version. Use pandas.concat instead.\n",
            "  param_df = param_df.append(param, ignore_index=True)\n",
            "<ipython-input-31-ad0933ab371e>:29: FutureWarning: The frame.append method is deprecated and will be removed from pandas in a future version. Use pandas.concat instead.\n",
            "  param_df = param_df.append(param, ignore_index=True)\n",
            "<ipython-input-31-ad0933ab371e>:29: FutureWarning: The frame.append method is deprecated and will be removed from pandas in a future version. Use pandas.concat instead.\n",
            "  param_df = param_df.append(param, ignore_index=True)\n"
          ]
        },
        {
          "name": "stdout",
          "output_type": "stream",
          "text": [
            "[LightGBM] [Warning] Unknown parameter: learning_rates\n",
            "[LightGBM] [Warning] Unknown parameter: learning_rates\n",
            "[LightGBM] [Warning] Unknown parameter: learning_rates\n",
            "[LightGBM] [Warning] Unknown parameter: learning_rates\n",
            "[LightGBM] [Warning] Unknown parameter: learning_rates\n",
            "[LightGBM] [Warning] Unknown parameter: learning_rates\n",
            "[LightGBM] [Warning] Unknown parameter: learning_rates\n",
            "[LightGBM] [Warning] Unknown parameter: learning_rates\n",
            "[LightGBM] [Warning] Unknown parameter: learning_rates\n",
            "[LightGBM] [Warning] Unknown parameter: learning_rates\n",
            "[LightGBM] [Warning] Unknown parameter: learning_rates\n",
            "[LightGBM] [Warning] Unknown parameter: learning_rates\n",
            "[LightGBM] [Warning] Unknown parameter: learning_rates\n"
          ]
        },
        {
          "name": "stderr",
          "output_type": "stream",
          "text": [
            "<ipython-input-31-ad0933ab371e>:29: FutureWarning: The frame.append method is deprecated and will be removed from pandas in a future version. Use pandas.concat instead.\n",
            "  param_df = param_df.append(param, ignore_index=True)\n",
            "<ipython-input-31-ad0933ab371e>:29: FutureWarning: The frame.append method is deprecated and will be removed from pandas in a future version. Use pandas.concat instead.\n",
            "  param_df = param_df.append(param, ignore_index=True)\n",
            "<ipython-input-31-ad0933ab371e>:29: FutureWarning: The frame.append method is deprecated and will be removed from pandas in a future version. Use pandas.concat instead.\n",
            "  param_df = param_df.append(param, ignore_index=True)\n",
            "<ipython-input-31-ad0933ab371e>:29: FutureWarning: The frame.append method is deprecated and will be removed from pandas in a future version. Use pandas.concat instead.\n",
            "  param_df = param_df.append(param, ignore_index=True)\n"
          ]
        },
        {
          "name": "stdout",
          "output_type": "stream",
          "text": [
            "[LightGBM] [Warning] Unknown parameter: learning_rates\n",
            "[LightGBM] [Warning] Unknown parameter: learning_rates\n",
            "[LightGBM] [Warning] Unknown parameter: learning_rates\n",
            "[LightGBM] [Warning] Unknown parameter: learning_rates\n",
            "[LightGBM] [Warning] Unknown parameter: learning_rates\n",
            "[LightGBM] [Warning] Unknown parameter: learning_rates\n"
          ]
        },
        {
          "name": "stderr",
          "output_type": "stream",
          "text": [
            "<ipython-input-31-ad0933ab371e>:29: FutureWarning: The frame.append method is deprecated and will be removed from pandas in a future version. Use pandas.concat instead.\n",
            "  param_df = param_df.append(param, ignore_index=True)\n",
            "<ipython-input-31-ad0933ab371e>:29: FutureWarning: The frame.append method is deprecated and will be removed from pandas in a future version. Use pandas.concat instead.\n",
            "  param_df = param_df.append(param, ignore_index=True)\n"
          ]
        },
        {
          "name": "stdout",
          "output_type": "stream",
          "text": [
            "[LightGBM] [Warning] Unknown parameter: learning_rates\n",
            "[LightGBM] [Warning] Unknown parameter: learning_rates\n",
            "[LightGBM] [Warning] Unknown parameter: learning_rates\n",
            "[LightGBM] [Warning] Unknown parameter: learning_rates\n",
            "[LightGBM] [Warning] Unknown parameter: learning_rates\n",
            "[LightGBM] [Warning] Unknown parameter: learning_rates\n",
            "[LightGBM] [Warning] Unknown parameter: learning_rates\n"
          ]
        },
        {
          "name": "stderr",
          "output_type": "stream",
          "text": [
            "<ipython-input-31-ad0933ab371e>:29: FutureWarning: The frame.append method is deprecated and will be removed from pandas in a future version. Use pandas.concat instead.\n",
            "  param_df = param_df.append(param, ignore_index=True)\n",
            "<ipython-input-31-ad0933ab371e>:29: FutureWarning: The frame.append method is deprecated and will be removed from pandas in a future version. Use pandas.concat instead.\n",
            "  param_df = param_df.append(param, ignore_index=True)\n",
            "<ipython-input-31-ad0933ab371e>:29: FutureWarning: The frame.append method is deprecated and will be removed from pandas in a future version. Use pandas.concat instead.\n",
            "  param_df = param_df.append(param, ignore_index=True)\n"
          ]
        },
        {
          "name": "stdout",
          "output_type": "stream",
          "text": [
            "[LightGBM] [Warning] Unknown parameter: learning_rates\n",
            "[LightGBM] [Warning] Unknown parameter: learning_rates\n",
            "[LightGBM] [Warning] Unknown parameter: learning_rates\n",
            "[LightGBM] [Warning] Unknown parameter: learning_rates\n",
            "[LightGBM] [Warning] Unknown parameter: learning_rates\n",
            "[LightGBM] [Warning] Unknown parameter: learning_rates\n",
            "[LightGBM] [Warning] Unknown parameter: learning_rates\n"
          ]
        },
        {
          "name": "stderr",
          "output_type": "stream",
          "text": [
            "<ipython-input-31-ad0933ab371e>:29: FutureWarning: The frame.append method is deprecated and will be removed from pandas in a future version. Use pandas.concat instead.\n",
            "  param_df = param_df.append(param, ignore_index=True)\n",
            "<ipython-input-31-ad0933ab371e>:29: FutureWarning: The frame.append method is deprecated and will be removed from pandas in a future version. Use pandas.concat instead.\n",
            "  param_df = param_df.append(param, ignore_index=True)\n",
            "<ipython-input-31-ad0933ab371e>:29: FutureWarning: The frame.append method is deprecated and will be removed from pandas in a future version. Use pandas.concat instead.\n",
            "  param_df = param_df.append(param, ignore_index=True)\n"
          ]
        },
        {
          "name": "stdout",
          "output_type": "stream",
          "text": [
            "[LightGBM] [Warning] Unknown parameter: learning_rates\n",
            "[LightGBM] [Warning] Unknown parameter: learning_rates\n",
            "[LightGBM] [Warning] Unknown parameter: learning_rates\n",
            "[LightGBM] [Warning] Unknown parameter: learning_rates\n",
            "[LightGBM] [Warning] Unknown parameter: learning_rates\n",
            "[LightGBM] [Warning] Unknown parameter: learning_rates\n",
            "[LightGBM] [Warning] Unknown parameter: learning_rates\n",
            "[LightGBM] [Warning] Unknown parameter: learning_rates\n",
            "[LightGBM] [Warning] Unknown parameter: learning_rates\n",
            "[LightGBM] [Warning] Unknown parameter: learning_rates\n"
          ]
        },
        {
          "name": "stderr",
          "output_type": "stream",
          "text": [
            "<ipython-input-31-ad0933ab371e>:29: FutureWarning: The frame.append method is deprecated and will be removed from pandas in a future version. Use pandas.concat instead.\n",
            "  param_df = param_df.append(param, ignore_index=True)\n",
            "<ipython-input-31-ad0933ab371e>:29: FutureWarning: The frame.append method is deprecated and will be removed from pandas in a future version. Use pandas.concat instead.\n",
            "  param_df = param_df.append(param, ignore_index=True)\n",
            "<ipython-input-31-ad0933ab371e>:29: FutureWarning: The frame.append method is deprecated and will be removed from pandas in a future version. Use pandas.concat instead.\n",
            "  param_df = param_df.append(param, ignore_index=True)\n",
            "<ipython-input-31-ad0933ab371e>:29: FutureWarning: The frame.append method is deprecated and will be removed from pandas in a future version. Use pandas.concat instead.\n",
            "  param_df = param_df.append(param, ignore_index=True)\n",
            "<ipython-input-31-ad0933ab371e>:29: FutureWarning: The frame.append method is deprecated and will be removed from pandas in a future version. Use pandas.concat instead.\n",
            "  param_df = param_df.append(param, ignore_index=True)\n",
            "<ipython-input-31-ad0933ab371e>:29: FutureWarning: The frame.append method is deprecated and will be removed from pandas in a future version. Use pandas.concat instead.\n",
            "  param_df = param_df.append(param, ignore_index=True)\n"
          ]
        },
        {
          "name": "stdout",
          "output_type": "stream",
          "text": [
            "[LightGBM] [Warning] Unknown parameter: learning_rates\n",
            "[LightGBM] [Warning] Unknown parameter: learning_rates\n",
            "[LightGBM] [Warning] Unknown parameter: learning_rates\n",
            "[LightGBM] [Warning] Unknown parameter: learning_rates\n",
            "[LightGBM] [Warning] Unknown parameter: learning_rates\n",
            "[LightGBM] [Warning] Unknown parameter: learning_rates\n",
            "[LightGBM] [Warning] Unknown parameter: learning_rates\n",
            "[LightGBM] [Warning] Unknown parameter: learning_rates\n",
            "[LightGBM] [Warning] Unknown parameter: learning_rates\n",
            "[LightGBM] [Warning] Unknown parameter: learning_rates\n",
            "[LightGBM] [Warning] Unknown parameter: learning_rates\n",
            "[LightGBM] [Warning] Unknown parameter: learning_rates\n",
            "[LightGBM] [Warning] Unknown parameter: learning_rates\n",
            "[LightGBM] [Warning] Unknown parameter: learning_rates\n",
            "[LightGBM] [Warning] Unknown parameter: learning_rates\n"
          ]
        },
        {
          "name": "stderr",
          "output_type": "stream",
          "text": [
            "<ipython-input-31-ad0933ab371e>:29: FutureWarning: The frame.append method is deprecated and will be removed from pandas in a future version. Use pandas.concat instead.\n",
            "  param_df = param_df.append(param, ignore_index=True)\n",
            "<ipython-input-31-ad0933ab371e>:29: FutureWarning: The frame.append method is deprecated and will be removed from pandas in a future version. Use pandas.concat instead.\n",
            "  param_df = param_df.append(param, ignore_index=True)\n",
            "<ipython-input-31-ad0933ab371e>:29: FutureWarning: The frame.append method is deprecated and will be removed from pandas in a future version. Use pandas.concat instead.\n",
            "  param_df = param_df.append(param, ignore_index=True)\n"
          ]
        },
        {
          "name": "stdout",
          "output_type": "stream",
          "text": [
            "[LightGBM] [Warning] Unknown parameter: learning_rates\n",
            "[LightGBM] [Warning] Unknown parameter: learning_rates\n",
            "[LightGBM] [Warning] Unknown parameter: learning_rates\n",
            "[LightGBM] [Warning] Unknown parameter: learning_rates\n",
            "[LightGBM] [Warning] Unknown parameter: learning_rates\n",
            "[LightGBM] [Warning] Unknown parameter: learning_rates\n",
            "[LightGBM] [Warning] Unknown parameter: learning_rates\n",
            "[LightGBM] [Warning] Unknown parameter: learning_rates\n",
            "[LightGBM] [Warning] Unknown parameter: learning_rates\n",
            "[LightGBM] [Warning] Unknown parameter: learning_rates\n",
            "[LightGBM] [Warning] Unknown parameter: learning_rates\n"
          ]
        },
        {
          "name": "stderr",
          "output_type": "stream",
          "text": [
            "<ipython-input-31-ad0933ab371e>:29: FutureWarning: The frame.append method is deprecated and will be removed from pandas in a future version. Use pandas.concat instead.\n",
            "  param_df = param_df.append(param, ignore_index=True)\n",
            "<ipython-input-31-ad0933ab371e>:29: FutureWarning: The frame.append method is deprecated and will be removed from pandas in a future version. Use pandas.concat instead.\n",
            "  param_df = param_df.append(param, ignore_index=True)\n"
          ]
        },
        {
          "name": "stdout",
          "output_type": "stream",
          "text": [
            "[LightGBM] [Warning] Unknown parameter: learning_rates\n",
            "[LightGBM] [Warning] Unknown parameter: learning_rates\n",
            "[LightGBM] [Warning] Unknown parameter: learning_rates\n",
            "[LightGBM] [Warning] Unknown parameter: learning_rates\n"
          ]
        },
        {
          "name": "stderr",
          "output_type": "stream",
          "text": [
            "<ipython-input-31-ad0933ab371e>:29: FutureWarning: The frame.append method is deprecated and will be removed from pandas in a future version. Use pandas.concat instead.\n",
            "  param_df = param_df.append(param, ignore_index=True)\n"
          ]
        },
        {
          "name": "stdout",
          "output_type": "stream",
          "text": [
            "[LightGBM] [Warning] Unknown parameter: learning_rates\n",
            "[LightGBM] [Warning] Unknown parameter: learning_rates\n",
            "[LightGBM] [Warning] Unknown parameter: learning_rates\n"
          ]
        },
        {
          "name": "stderr",
          "output_type": "stream",
          "text": [
            "<ipython-input-31-ad0933ab371e>:29: FutureWarning: The frame.append method is deprecated and will be removed from pandas in a future version. Use pandas.concat instead.\n",
            "  param_df = param_df.append(param, ignore_index=True)\n",
            "<ipython-input-31-ad0933ab371e>:29: FutureWarning: The frame.append method is deprecated and will be removed from pandas in a future version. Use pandas.concat instead.\n",
            "  param_df = param_df.append(param, ignore_index=True)\n"
          ]
        },
        {
          "name": "stdout",
          "output_type": "stream",
          "text": [
            "[LightGBM] [Warning] Unknown parameter: learning_rates\n",
            "[LightGBM] [Warning] Unknown parameter: learning_rates\n",
            "[LightGBM] [Warning] Unknown parameter: learning_rates\n",
            "[LightGBM] [Warning] Unknown parameter: learning_rates\n",
            "[LightGBM] [Warning] Unknown parameter: learning_rates\n",
            "[LightGBM] [Warning] Unknown parameter: learning_rates\n",
            "[LightGBM] [Warning] Unknown parameter: learning_rates\n",
            "[LightGBM] [Warning] Unknown parameter: learning_rates\n",
            "[LightGBM] [Warning] Unknown parameter: learning_rates\n",
            "[LightGBM] [Warning] Unknown parameter: learning_rates\n"
          ]
        },
        {
          "name": "stderr",
          "output_type": "stream",
          "text": [
            "<ipython-input-31-ad0933ab371e>:29: FutureWarning: The frame.append method is deprecated and will be removed from pandas in a future version. Use pandas.concat instead.\n",
            "  param_df = param_df.append(param, ignore_index=True)\n",
            "<ipython-input-31-ad0933ab371e>:29: FutureWarning: The frame.append method is deprecated and will be removed from pandas in a future version. Use pandas.concat instead.\n",
            "  param_df = param_df.append(param, ignore_index=True)\n"
          ]
        },
        {
          "name": "stdout",
          "output_type": "stream",
          "text": [
            "[LightGBM] [Warning] Unknown parameter: learning_rates\n",
            "[LightGBM] [Warning] Unknown parameter: learning_rates\n",
            "[LightGBM] [Warning] Unknown parameter: learning_rates\n"
          ]
        },
        {
          "name": "stderr",
          "output_type": "stream",
          "text": [
            "<ipython-input-31-ad0933ab371e>:29: FutureWarning: The frame.append method is deprecated and will be removed from pandas in a future version. Use pandas.concat instead.\n",
            "  param_df = param_df.append(param, ignore_index=True)\n"
          ]
        },
        {
          "name": "stdout",
          "output_type": "stream",
          "text": [
            "[LightGBM] [Warning] Unknown parameter: learning_rates\n",
            "[LightGBM] [Warning] Unknown parameter: learning_rates\n",
            "[LightGBM] [Warning] Unknown parameter: learning_rates\n"
          ]
        },
        {
          "name": "stderr",
          "output_type": "stream",
          "text": [
            "<ipython-input-31-ad0933ab371e>:29: FutureWarning: The frame.append method is deprecated and will be removed from pandas in a future version. Use pandas.concat instead.\n",
            "  param_df = param_df.append(param, ignore_index=True)\n"
          ]
        },
        {
          "name": "stdout",
          "output_type": "stream",
          "text": [
            "[LightGBM] [Warning] Unknown parameter: learning_rates\n",
            "[LightGBM] [Warning] Unknown parameter: learning_rates\n"
          ]
        },
        {
          "name": "stderr",
          "output_type": "stream",
          "text": [
            "<ipython-input-31-ad0933ab371e>:29: FutureWarning: The frame.append method is deprecated and will be removed from pandas in a future version. Use pandas.concat instead.\n",
            "  param_df = param_df.append(param, ignore_index=True)\n"
          ]
        },
        {
          "name": "stdout",
          "output_type": "stream",
          "text": [
            "[LightGBM] [Warning] Unknown parameter: learning_rates\n",
            "[LightGBM] [Warning] Unknown parameter: learning_rates\n",
            "[LightGBM] [Warning] Unknown parameter: learning_rates\n"
          ]
        },
        {
          "name": "stderr",
          "output_type": "stream",
          "text": [
            "<ipython-input-31-ad0933ab371e>:29: FutureWarning: The frame.append method is deprecated and will be removed from pandas in a future version. Use pandas.concat instead.\n",
            "  param_df = param_df.append(param, ignore_index=True)\n"
          ]
        },
        {
          "name": "stdout",
          "output_type": "stream",
          "text": [
            "[LightGBM] [Warning] Unknown parameter: learning_rates\n",
            "[LightGBM] [Warning] Unknown parameter: learning_rates\n",
            "[LightGBM] [Warning] Unknown parameter: learning_rates\n"
          ]
        },
        {
          "name": "stderr",
          "output_type": "stream",
          "text": [
            "<ipython-input-31-ad0933ab371e>:29: FutureWarning: The frame.append method is deprecated and will be removed from pandas in a future version. Use pandas.concat instead.\n",
            "  param_df = param_df.append(param, ignore_index=True)\n"
          ]
        },
        {
          "name": "stdout",
          "output_type": "stream",
          "text": [
            "[LightGBM] [Warning] Unknown parameter: learning_rates\n",
            "[LightGBM] [Warning] Unknown parameter: learning_rates\n",
            "[LightGBM] [Warning] Unknown parameter: learning_rates\n",
            "[LightGBM] [Warning] Unknown parameter: learning_rates\n",
            "[LightGBM] [Warning] Unknown parameter: learning_rates\n"
          ]
        },
        {
          "name": "stderr",
          "output_type": "stream",
          "text": [
            "<ipython-input-31-ad0933ab371e>:29: FutureWarning: The frame.append method is deprecated and will be removed from pandas in a future version. Use pandas.concat instead.\n",
            "  param_df = param_df.append(param, ignore_index=True)\n"
          ]
        },
        {
          "name": "stdout",
          "output_type": "stream",
          "text": [
            "[LightGBM] [Warning] Unknown parameter: learning_rates\n",
            "[LightGBM] [Warning] Unknown parameter: learning_rates\n",
            "[LightGBM] [Warning] Unknown parameter: learning_rates\n"
          ]
        },
        {
          "name": "stderr",
          "output_type": "stream",
          "text": [
            "<ipython-input-31-ad0933ab371e>:29: FutureWarning: The frame.append method is deprecated and will be removed from pandas in a future version. Use pandas.concat instead.\n",
            "  param_df = param_df.append(param, ignore_index=True)\n"
          ]
        },
        {
          "name": "stdout",
          "output_type": "stream",
          "text": [
            "[LightGBM] [Warning] Unknown parameter: learning_rates\n",
            "[LightGBM] [Warning] Unknown parameter: learning_rates\n",
            "[LightGBM] [Warning] Unknown parameter: learning_rates\n"
          ]
        },
        {
          "name": "stderr",
          "output_type": "stream",
          "text": [
            "<ipython-input-31-ad0933ab371e>:29: FutureWarning: The frame.append method is deprecated and will be removed from pandas in a future version. Use pandas.concat instead.\n",
            "  param_df = param_df.append(param, ignore_index=True)\n"
          ]
        },
        {
          "name": "stdout",
          "output_type": "stream",
          "text": [
            "[LightGBM] [Warning] Unknown parameter: learning_rates\n",
            "[LightGBM] [Warning] Unknown parameter: learning_rates\n",
            "[LightGBM] [Warning] Unknown parameter: learning_rates\n"
          ]
        },
        {
          "name": "stderr",
          "output_type": "stream",
          "text": [
            "<ipython-input-31-ad0933ab371e>:29: FutureWarning: The frame.append method is deprecated and will be removed from pandas in a future version. Use pandas.concat instead.\n",
            "  param_df = param_df.append(param, ignore_index=True)\n"
          ]
        },
        {
          "name": "stdout",
          "output_type": "stream",
          "text": [
            "[LightGBM] [Warning] Unknown parameter: learning_rates\n",
            "[LightGBM] [Warning] Unknown parameter: learning_rates\n",
            "[LightGBM] [Warning] Unknown parameter: learning_rates\n"
          ]
        },
        {
          "name": "stderr",
          "output_type": "stream",
          "text": [
            "<ipython-input-31-ad0933ab371e>:29: FutureWarning: The frame.append method is deprecated and will be removed from pandas in a future version. Use pandas.concat instead.\n",
            "  param_df = param_df.append(param, ignore_index=True)\n"
          ]
        },
        {
          "name": "stdout",
          "output_type": "stream",
          "text": [
            "[LightGBM] [Warning] Unknown parameter: learning_rates\n",
            "[LightGBM] [Warning] Unknown parameter: learning_rates\n",
            "[LightGBM] [Warning] Unknown parameter: learning_rates\n",
            "[LightGBM] [Warning] Unknown parameter: learning_rates\n",
            "[LightGBM] [Warning] Unknown parameter: learning_rates\n",
            "[LightGBM] [Warning] Unknown parameter: learning_rates\n"
          ]
        },
        {
          "name": "stderr",
          "output_type": "stream",
          "text": [
            "<ipython-input-31-ad0933ab371e>:29: FutureWarning: The frame.append method is deprecated and will be removed from pandas in a future version. Use pandas.concat instead.\n",
            "  param_df = param_df.append(param, ignore_index=True)\n",
            "<ipython-input-31-ad0933ab371e>:29: FutureWarning: The frame.append method is deprecated and will be removed from pandas in a future version. Use pandas.concat instead.\n",
            "  param_df = param_df.append(param, ignore_index=True)\n",
            "<ipython-input-31-ad0933ab371e>:29: FutureWarning: The frame.append method is deprecated and will be removed from pandas in a future version. Use pandas.concat instead.\n",
            "  param_df = param_df.append(param, ignore_index=True)\n",
            "<ipython-input-31-ad0933ab371e>:29: FutureWarning: The frame.append method is deprecated and will be removed from pandas in a future version. Use pandas.concat instead.\n",
            "  param_df = param_df.append(param, ignore_index=True)\n"
          ]
        },
        {
          "name": "stdout",
          "output_type": "stream",
          "text": [
            "[LightGBM] [Warning] Unknown parameter: learning_rates\n",
            "[LightGBM] [Warning] Unknown parameter: learning_rates\n",
            "[LightGBM] [Warning] Unknown parameter: learning_rates\n",
            "[LightGBM] [Warning] Unknown parameter: learning_rates\n",
            "[LightGBM] [Warning] Unknown parameter: learning_rates\n",
            "[LightGBM] [Warning] Unknown parameter: learning_rates\n",
            "[LightGBM] [Warning] Unknown parameter: learning_rates\n",
            "[LightGBM] [Warning] Unknown parameter: learning_rates\n",
            "[LightGBM] [Warning] Unknown parameter: learning_rates\n",
            "[LightGBM] [Warning] Unknown parameter: learning_rates\n",
            "[LightGBM] [Warning] Unknown parameter: learning_rates\n",
            "[LightGBM] [Warning] Unknown parameter: learning_rates\n",
            "[LightGBM] [Warning] Unknown parameter: learning_rates\n",
            "[LightGBM] [Warning] Unknown parameter: learning_rates\n",
            "[LightGBM] [Warning] Unknown parameter: learning_rates\n"
          ]
        },
        {
          "name": "stderr",
          "output_type": "stream",
          "text": [
            "<ipython-input-31-ad0933ab371e>:29: FutureWarning: The frame.append method is deprecated and will be removed from pandas in a future version. Use pandas.concat instead.\n",
            "  param_df = param_df.append(param, ignore_index=True)\n",
            "<ipython-input-31-ad0933ab371e>:29: FutureWarning: The frame.append method is deprecated and will be removed from pandas in a future version. Use pandas.concat instead.\n",
            "  param_df = param_df.append(param, ignore_index=True)\n",
            "<ipython-input-31-ad0933ab371e>:29: FutureWarning: The frame.append method is deprecated and will be removed from pandas in a future version. Use pandas.concat instead.\n",
            "  param_df = param_df.append(param, ignore_index=True)\n",
            "<ipython-input-31-ad0933ab371e>:29: FutureWarning: The frame.append method is deprecated and will be removed from pandas in a future version. Use pandas.concat instead.\n",
            "  param_df = param_df.append(param, ignore_index=True)\n",
            "<ipython-input-31-ad0933ab371e>:29: FutureWarning: The frame.append method is deprecated and will be removed from pandas in a future version. Use pandas.concat instead.\n",
            "  param_df = param_df.append(param, ignore_index=True)\n",
            "<ipython-input-31-ad0933ab371e>:29: FutureWarning: The frame.append method is deprecated and will be removed from pandas in a future version. Use pandas.concat instead.\n",
            "  param_df = param_df.append(param, ignore_index=True)\n"
          ]
        },
        {
          "name": "stdout",
          "output_type": "stream",
          "text": [
            "[LightGBM] [Warning] Unknown parameter: learning_rates\n",
            "[LightGBM] [Warning] Unknown parameter: learning_rates\n",
            "[LightGBM] [Warning] Unknown parameter: learning_rates\n",
            "[LightGBM] [Warning] Unknown parameter: learning_rates\n",
            "[LightGBM] [Warning] Unknown parameter: learning_rates\n",
            "[LightGBM] [Warning] Unknown parameter: learning_rates\n",
            "[LightGBM] [Warning] Unknown parameter: learning_rates\n",
            "[LightGBM] [Warning] Unknown parameter: learning_rates\n",
            "[LightGBM] [Warning] Unknown parameter: learning_rates\n",
            "[LightGBM] [Warning] Unknown parameter: learning_rates\n",
            "[LightGBM] [Warning] Unknown parameter: learning_rates\n",
            "[LightGBM] [Warning] Unknown parameter: learning_rates\n",
            "[LightGBM] [Warning] Unknown parameter: learning_rates\n",
            "[LightGBM] [Warning] Unknown parameter: learning_rates\n",
            "[LightGBM] [Warning] Unknown parameter: learning_rates\n",
            "[LightGBM] [Warning] Unknown parameter: learning_rates\n"
          ]
        },
        {
          "name": "stderr",
          "output_type": "stream",
          "text": [
            "<ipython-input-31-ad0933ab371e>:29: FutureWarning: The frame.append method is deprecated and will be removed from pandas in a future version. Use pandas.concat instead.\n",
            "  param_df = param_df.append(param, ignore_index=True)\n",
            "<ipython-input-31-ad0933ab371e>:29: FutureWarning: The frame.append method is deprecated and will be removed from pandas in a future version. Use pandas.concat instead.\n",
            "  param_df = param_df.append(param, ignore_index=True)\n",
            "<ipython-input-31-ad0933ab371e>:29: FutureWarning: The frame.append method is deprecated and will be removed from pandas in a future version. Use pandas.concat instead.\n",
            "  param_df = param_df.append(param, ignore_index=True)\n",
            "<ipython-input-31-ad0933ab371e>:29: FutureWarning: The frame.append method is deprecated and will be removed from pandas in a future version. Use pandas.concat instead.\n",
            "  param_df = param_df.append(param, ignore_index=True)\n",
            "<ipython-input-31-ad0933ab371e>:29: FutureWarning: The frame.append method is deprecated and will be removed from pandas in a future version. Use pandas.concat instead.\n",
            "  param_df = param_df.append(param, ignore_index=True)\n"
          ]
        },
        {
          "name": "stdout",
          "output_type": "stream",
          "text": [
            "[LightGBM] [Warning] Unknown parameter: learning_rates\n",
            "[LightGBM] [Warning] Unknown parameter: learning_rates\n",
            "[LightGBM] [Warning] Unknown parameter: learning_rates\n",
            "[LightGBM] [Warning] Unknown parameter: learning_rates\n",
            "[LightGBM] [Warning] Unknown parameter: learning_rates\n",
            "[LightGBM] [Warning] Unknown parameter: learning_rates\n",
            "[LightGBM] [Warning] Unknown parameter: learning_rates\n",
            "[LightGBM] [Warning] Unknown parameter: learning_rates\n",
            "[LightGBM] [Warning] Unknown parameter: learning_rates\n",
            "[LightGBM] [Warning] Unknown parameter: learning_rates\n",
            "[LightGBM] [Warning] Unknown parameter: learning_rates\n",
            "[LightGBM] [Warning] Unknown parameter: learning_rates\n",
            "[LightGBM] [Warning] Unknown parameter: learning_rates\n"
          ]
        },
        {
          "name": "stderr",
          "output_type": "stream",
          "text": [
            "<ipython-input-31-ad0933ab371e>:29: FutureWarning: The frame.append method is deprecated and will be removed from pandas in a future version. Use pandas.concat instead.\n",
            "  param_df = param_df.append(param, ignore_index=True)\n",
            "<ipython-input-31-ad0933ab371e>:29: FutureWarning: The frame.append method is deprecated and will be removed from pandas in a future version. Use pandas.concat instead.\n",
            "  param_df = param_df.append(param, ignore_index=True)\n",
            "<ipython-input-31-ad0933ab371e>:29: FutureWarning: The frame.append method is deprecated and will be removed from pandas in a future version. Use pandas.concat instead.\n",
            "  param_df = param_df.append(param, ignore_index=True)\n",
            "<ipython-input-31-ad0933ab371e>:29: FutureWarning: The frame.append method is deprecated and will be removed from pandas in a future version. Use pandas.concat instead.\n",
            "  param_df = param_df.append(param, ignore_index=True)\n"
          ]
        },
        {
          "name": "stdout",
          "output_type": "stream",
          "text": [
            "[LightGBM] [Warning] Unknown parameter: learning_rates\n",
            "[LightGBM] [Warning] Unknown parameter: learning_rates\n",
            "[LightGBM] [Warning] Unknown parameter: learning_rates\n",
            "[LightGBM] [Warning] Unknown parameter: learning_rates\n",
            "[LightGBM] [Warning] Unknown parameter: learning_rates\n",
            "[LightGBM] [Warning] Unknown parameter: learning_rates\n",
            "[LightGBM] [Warning] Unknown parameter: learning_rates\n",
            "[LightGBM] [Warning] Unknown parameter: learning_rates\n",
            "[LightGBM] [Warning] Unknown parameter: learning_rates\n"
          ]
        },
        {
          "name": "stderr",
          "output_type": "stream",
          "text": [
            "<ipython-input-31-ad0933ab371e>:29: FutureWarning: The frame.append method is deprecated and will be removed from pandas in a future version. Use pandas.concat instead.\n",
            "  param_df = param_df.append(param, ignore_index=True)\n",
            "<ipython-input-31-ad0933ab371e>:29: FutureWarning: The frame.append method is deprecated and will be removed from pandas in a future version. Use pandas.concat instead.\n",
            "  param_df = param_df.append(param, ignore_index=True)\n"
          ]
        },
        {
          "name": "stdout",
          "output_type": "stream",
          "text": [
            "[LightGBM] [Warning] Unknown parameter: learning_rates\n",
            "[LightGBM] [Warning] Unknown parameter: learning_rates\n",
            "[LightGBM] [Warning] Unknown parameter: learning_rates\n",
            "[LightGBM] [Warning] Unknown parameter: learning_rates\n",
            "[LightGBM] [Warning] Unknown parameter: learning_rates\n"
          ]
        },
        {
          "name": "stderr",
          "output_type": "stream",
          "text": [
            "<ipython-input-31-ad0933ab371e>:29: FutureWarning: The frame.append method is deprecated and will be removed from pandas in a future version. Use pandas.concat instead.\n",
            "  param_df = param_df.append(param, ignore_index=True)\n",
            "<ipython-input-31-ad0933ab371e>:29: FutureWarning: The frame.append method is deprecated and will be removed from pandas in a future version. Use pandas.concat instead.\n",
            "  param_df = param_df.append(param, ignore_index=True)\n"
          ]
        },
        {
          "name": "stdout",
          "output_type": "stream",
          "text": [
            "[LightGBM] [Warning] Unknown parameter: learning_rates\n",
            "[LightGBM] [Warning] Unknown parameter: learning_rates\n",
            "[LightGBM] [Warning] Unknown parameter: learning_rates\n",
            "[LightGBM] [Warning] Unknown parameter: learning_rates\n",
            "[LightGBM] [Warning] Unknown parameter: learning_rates\n",
            "[LightGBM] [Warning] Unknown parameter: learning_rates\n"
          ]
        },
        {
          "name": "stderr",
          "output_type": "stream",
          "text": [
            "<ipython-input-31-ad0933ab371e>:29: FutureWarning: The frame.append method is deprecated and will be removed from pandas in a future version. Use pandas.concat instead.\n",
            "  param_df = param_df.append(param, ignore_index=True)\n",
            "<ipython-input-31-ad0933ab371e>:29: FutureWarning: The frame.append method is deprecated and will be removed from pandas in a future version. Use pandas.concat instead.\n",
            "  param_df = param_df.append(param, ignore_index=True)\n"
          ]
        },
        {
          "name": "stdout",
          "output_type": "stream",
          "text": [
            "[LightGBM] [Warning] Unknown parameter: learning_rates\n",
            "[LightGBM] [Warning] Unknown parameter: learning_rates\n",
            "[LightGBM] [Warning] Unknown parameter: learning_rates\n",
            "[LightGBM] [Warning] Unknown parameter: learning_rates\n",
            "[LightGBM] [Warning] Unknown parameter: learning_rates\n",
            "[LightGBM] [Warning] Unknown parameter: learning_rates\n"
          ]
        },
        {
          "name": "stderr",
          "output_type": "stream",
          "text": [
            "<ipython-input-31-ad0933ab371e>:29: FutureWarning: The frame.append method is deprecated and will be removed from pandas in a future version. Use pandas.concat instead.\n",
            "  param_df = param_df.append(param, ignore_index=True)\n",
            "<ipython-input-31-ad0933ab371e>:29: FutureWarning: The frame.append method is deprecated and will be removed from pandas in a future version. Use pandas.concat instead.\n",
            "  param_df = param_df.append(param, ignore_index=True)\n"
          ]
        },
        {
          "name": "stdout",
          "output_type": "stream",
          "text": [
            "[LightGBM] [Warning] Unknown parameter: learning_rates\n",
            "[LightGBM] [Warning] Unknown parameter: learning_rates\n",
            "[LightGBM] [Warning] Unknown parameter: learning_rates\n",
            "[LightGBM] [Warning] Unknown parameter: learning_rates\n",
            "[LightGBM] [Warning] Unknown parameter: learning_rates\n",
            "[LightGBM] [Warning] Unknown parameter: learning_rates\n"
          ]
        },
        {
          "name": "stderr",
          "output_type": "stream",
          "text": [
            "<ipython-input-31-ad0933ab371e>:29: FutureWarning: The frame.append method is deprecated and will be removed from pandas in a future version. Use pandas.concat instead.\n",
            "  param_df = param_df.append(param, ignore_index=True)\n",
            "<ipython-input-31-ad0933ab371e>:29: FutureWarning: The frame.append method is deprecated and will be removed from pandas in a future version. Use pandas.concat instead.\n",
            "  param_df = param_df.append(param, ignore_index=True)\n",
            "<ipython-input-31-ad0933ab371e>:29: FutureWarning: The frame.append method is deprecated and will be removed from pandas in a future version. Use pandas.concat instead.\n",
            "  param_df = param_df.append(param, ignore_index=True)\n",
            "<ipython-input-31-ad0933ab371e>:29: FutureWarning: The frame.append method is deprecated and will be removed from pandas in a future version. Use pandas.concat instead.\n",
            "  param_df = param_df.append(param, ignore_index=True)\n",
            "<ipython-input-31-ad0933ab371e>:29: FutureWarning: The frame.append method is deprecated and will be removed from pandas in a future version. Use pandas.concat instead.\n",
            "  param_df = param_df.append(param, ignore_index=True)\n",
            "<ipython-input-31-ad0933ab371e>:29: FutureWarning: The frame.append method is deprecated and will be removed from pandas in a future version. Use pandas.concat instead.\n",
            "  param_df = param_df.append(param, ignore_index=True)\n"
          ]
        },
        {
          "name": "stdout",
          "output_type": "stream",
          "text": [
            "[LightGBM] [Warning] Unknown parameter: learning_rates\n",
            "[LightGBM] [Warning] Unknown parameter: learning_rates\n",
            "[LightGBM] [Warning] Unknown parameter: learning_rates\n",
            "[LightGBM] [Warning] Unknown parameter: learning_rates\n",
            "[LightGBM] [Warning] Unknown parameter: learning_rates\n",
            "[LightGBM] [Warning] Unknown parameter: learning_rates\n",
            "[LightGBM] [Warning] Unknown parameter: learning_rates\n",
            "[LightGBM] [Warning] Unknown parameter: learning_rates\n",
            "[LightGBM] [Warning] Unknown parameter: learning_rates\n",
            "[LightGBM] [Warning] Unknown parameter: learning_rates\n",
            "[LightGBM] [Warning] Unknown parameter: learning_rates\n",
            "[LightGBM] [Warning] Unknown parameter: learning_rates\n",
            "[LightGBM] [Warning] Unknown parameter: learning_rates\n",
            "[LightGBM] [Warning] Unknown parameter: learning_rates\n",
            "[LightGBM] [Warning] Unknown parameter: learning_rates\n",
            "[LightGBM] [Warning] Unknown parameter: learning_rates\n",
            "[LightGBM] [Warning] Unknown parameter: learning_rates\n",
            "[LightGBM] [Warning] Unknown parameter: learning_rates\n",
            "[LightGBM] [Warning] Unknown parameter: learning_rates\n",
            "[LightGBM] [Warning] Unknown parameter: learning_rates\n",
            "[LightGBM] [Warning] Unknown parameter: learning_rates\n",
            "[LightGBM] [Warning] Unknown parameter: learning_rates\n",
            "[LightGBM] [Warning] Unknown parameter: learning_rates\n",
            "[LightGBM] [Warning] Unknown parameter: learning_rates\n",
            "[LightGBM] [Warning] Unknown parameter: learning_rates\n",
            "[LightGBM] [Warning] Unknown parameter: learning_rates\n",
            "[LightGBM] [Warning] Unknown parameter: learning_rates\n",
            "[LightGBM] [Warning] Unknown parameter: learning_rates\n",
            "[LightGBM] [Warning] Unknown parameter: learning_rates\n",
            "[LightGBM] [Warning] Unknown parameter: learning_rates\n",
            "[LightGBM] [Warning] Unknown parameter: learning_rates\n",
            "[LightGBM] [Warning] Unknown parameter: learning_rates\n"
          ]
        },
        {
          "name": "stderr",
          "output_type": "stream",
          "text": [
            "<ipython-input-31-ad0933ab371e>:29: FutureWarning: The frame.append method is deprecated and will be removed from pandas in a future version. Use pandas.concat instead.\n",
            "  param_df = param_df.append(param, ignore_index=True)\n",
            "<ipython-input-31-ad0933ab371e>:29: FutureWarning: The frame.append method is deprecated and will be removed from pandas in a future version. Use pandas.concat instead.\n",
            "  param_df = param_df.append(param, ignore_index=True)\n",
            "<ipython-input-31-ad0933ab371e>:29: FutureWarning: The frame.append method is deprecated and will be removed from pandas in a future version. Use pandas.concat instead.\n",
            "  param_df = param_df.append(param, ignore_index=True)\n",
            "<ipython-input-31-ad0933ab371e>:29: FutureWarning: The frame.append method is deprecated and will be removed from pandas in a future version. Use pandas.concat instead.\n",
            "  param_df = param_df.append(param, ignore_index=True)\n",
            "<ipython-input-31-ad0933ab371e>:29: FutureWarning: The frame.append method is deprecated and will be removed from pandas in a future version. Use pandas.concat instead.\n",
            "  param_df = param_df.append(param, ignore_index=True)\n"
          ]
        },
        {
          "name": "stdout",
          "output_type": "stream",
          "text": [
            "[LightGBM] [Warning] Unknown parameter: learning_rates\n",
            "[LightGBM] [Warning] Unknown parameter: learning_rates\n",
            "[LightGBM] [Warning] Unknown parameter: learning_rates\n",
            "[LightGBM] [Warning] Unknown parameter: learning_rates\n",
            "[LightGBM] [Warning] Unknown parameter: learning_rates\n",
            "[LightGBM] [Warning] Unknown parameter: learning_rates\n",
            "[LightGBM] [Warning] Unknown parameter: learning_rates\n",
            "[LightGBM] [Warning] Unknown parameter: learning_rates\n",
            "[LightGBM] [Warning] Unknown parameter: learning_rates\n",
            "[LightGBM] [Warning] Unknown parameter: learning_rates\n",
            "[LightGBM] [Warning] Unknown parameter: learning_rates\n",
            "[LightGBM] [Warning] Unknown parameter: learning_rates\n",
            "[LightGBM] [Warning] Unknown parameter: learning_rates\n"
          ]
        },
        {
          "name": "stderr",
          "output_type": "stream",
          "text": [
            "<ipython-input-31-ad0933ab371e>:29: FutureWarning: The frame.append method is deprecated and will be removed from pandas in a future version. Use pandas.concat instead.\n",
            "  param_df = param_df.append(param, ignore_index=True)\n",
            "<ipython-input-31-ad0933ab371e>:29: FutureWarning: The frame.append method is deprecated and will be removed from pandas in a future version. Use pandas.concat instead.\n",
            "  param_df = param_df.append(param, ignore_index=True)\n",
            "<ipython-input-31-ad0933ab371e>:29: FutureWarning: The frame.append method is deprecated and will be removed from pandas in a future version. Use pandas.concat instead.\n",
            "  param_df = param_df.append(param, ignore_index=True)\n",
            "<ipython-input-31-ad0933ab371e>:29: FutureWarning: The frame.append method is deprecated and will be removed from pandas in a future version. Use pandas.concat instead.\n",
            "  param_df = param_df.append(param, ignore_index=True)\n",
            "<ipython-input-31-ad0933ab371e>:29: FutureWarning: The frame.append method is deprecated and will be removed from pandas in a future version. Use pandas.concat instead.\n",
            "  param_df = param_df.append(param, ignore_index=True)\n"
          ]
        },
        {
          "name": "stdout",
          "output_type": "stream",
          "text": [
            "[LightGBM] [Warning] Unknown parameter: learning_rates\n",
            "[LightGBM] [Warning] Unknown parameter: learning_rates\n",
            "[LightGBM] [Warning] Unknown parameter: learning_rates\n",
            "[LightGBM] [Warning] Unknown parameter: learning_rates\n",
            "[LightGBM] [Warning] Unknown parameter: learning_rates\n",
            "[LightGBM] [Warning] Unknown parameter: learning_rates\n",
            "[LightGBM] [Warning] Unknown parameter: learning_rates\n",
            "[LightGBM] [Warning] Unknown parameter: learning_rates\n",
            "[LightGBM] [Warning] Unknown parameter: learning_rates\n",
            "[LightGBM] [Warning] Unknown parameter: learning_rates\n",
            "[LightGBM] [Warning] Unknown parameter: learning_rates\n"
          ]
        },
        {
          "name": "stderr",
          "output_type": "stream",
          "text": [
            "<ipython-input-31-ad0933ab371e>:29: FutureWarning: The frame.append method is deprecated and will be removed from pandas in a future version. Use pandas.concat instead.\n",
            "  param_df = param_df.append(param, ignore_index=True)\n",
            "<ipython-input-31-ad0933ab371e>:29: FutureWarning: The frame.append method is deprecated and will be removed from pandas in a future version. Use pandas.concat instead.\n",
            "  param_df = param_df.append(param, ignore_index=True)\n",
            "<ipython-input-31-ad0933ab371e>:29: FutureWarning: The frame.append method is deprecated and will be removed from pandas in a future version. Use pandas.concat instead.\n",
            "  param_df = param_df.append(param, ignore_index=True)\n",
            "<ipython-input-31-ad0933ab371e>:29: FutureWarning: The frame.append method is deprecated and will be removed from pandas in a future version. Use pandas.concat instead.\n",
            "  param_df = param_df.append(param, ignore_index=True)\n"
          ]
        },
        {
          "name": "stdout",
          "output_type": "stream",
          "text": [
            "[LightGBM] [Warning] Unknown parameter: learning_rates\n",
            "[LightGBM] [Warning] Unknown parameter: learning_rates\n",
            "[LightGBM] [Warning] Unknown parameter: learning_rates\n",
            "[LightGBM] [Warning] Unknown parameter: learning_rates\n",
            "[LightGBM] [Warning] Unknown parameter: learning_rates\n",
            "[LightGBM] [Warning] Unknown parameter: learning_rates\n"
          ]
        },
        {
          "name": "stderr",
          "output_type": "stream",
          "text": [
            "<ipython-input-31-ad0933ab371e>:29: FutureWarning: The frame.append method is deprecated and will be removed from pandas in a future version. Use pandas.concat instead.\n",
            "  param_df = param_df.append(param, ignore_index=True)\n",
            "<ipython-input-31-ad0933ab371e>:29: FutureWarning: The frame.append method is deprecated and will be removed from pandas in a future version. Use pandas.concat instead.\n",
            "  param_df = param_df.append(param, ignore_index=True)\n"
          ]
        },
        {
          "name": "stdout",
          "output_type": "stream",
          "text": [
            "[LightGBM] [Warning] Unknown parameter: learning_rates\n",
            "[LightGBM] [Warning] Unknown parameter: learning_rates\n",
            "[LightGBM] [Warning] Unknown parameter: learning_rates\n",
            "[LightGBM] [Warning] Unknown parameter: learning_rates\n",
            "[LightGBM] [Warning] Unknown parameter: learning_rates\n",
            "[LightGBM] [Warning] Unknown parameter: learning_rates\n"
          ]
        },
        {
          "name": "stderr",
          "output_type": "stream",
          "text": [
            "<ipython-input-31-ad0933ab371e>:29: FutureWarning: The frame.append method is deprecated and will be removed from pandas in a future version. Use pandas.concat instead.\n",
            "  param_df = param_df.append(param, ignore_index=True)\n",
            "<ipython-input-31-ad0933ab371e>:29: FutureWarning: The frame.append method is deprecated and will be removed from pandas in a future version. Use pandas.concat instead.\n",
            "  param_df = param_df.append(param, ignore_index=True)\n"
          ]
        },
        {
          "name": "stdout",
          "output_type": "stream",
          "text": [
            "[LightGBM] [Warning] Unknown parameter: learning_rates\n",
            "[LightGBM] [Warning] Unknown parameter: learning_rates\n",
            "[LightGBM] [Warning] Unknown parameter: learning_rates\n",
            "[LightGBM] [Warning] Unknown parameter: learning_rates\n",
            "[LightGBM] [Warning] Unknown parameter: learning_rates\n"
          ]
        },
        {
          "name": "stderr",
          "output_type": "stream",
          "text": [
            "<ipython-input-31-ad0933ab371e>:29: FutureWarning: The frame.append method is deprecated and will be removed from pandas in a future version. Use pandas.concat instead.\n",
            "  param_df = param_df.append(param, ignore_index=True)\n",
            "<ipython-input-31-ad0933ab371e>:29: FutureWarning: The frame.append method is deprecated and will be removed from pandas in a future version. Use pandas.concat instead.\n",
            "  param_df = param_df.append(param, ignore_index=True)\n"
          ]
        },
        {
          "name": "stdout",
          "output_type": "stream",
          "text": [
            "[LightGBM] [Warning] Unknown parameter: learning_rates\n",
            "[LightGBM] [Warning] Unknown parameter: learning_rates\n",
            "[LightGBM] [Warning] Unknown parameter: learning_rates\n",
            "[LightGBM] [Warning] Unknown parameter: learning_rates\n",
            "[LightGBM] [Warning] Unknown parameter: learning_rates\n",
            "[LightGBM] [Warning] Unknown parameter: learning_rates\n"
          ]
        },
        {
          "name": "stderr",
          "output_type": "stream",
          "text": [
            "<ipython-input-31-ad0933ab371e>:29: FutureWarning: The frame.append method is deprecated and will be removed from pandas in a future version. Use pandas.concat instead.\n",
            "  param_df = param_df.append(param, ignore_index=True)\n",
            "<ipython-input-31-ad0933ab371e>:29: FutureWarning: The frame.append method is deprecated and will be removed from pandas in a future version. Use pandas.concat instead.\n",
            "  param_df = param_df.append(param, ignore_index=True)\n",
            "<ipython-input-31-ad0933ab371e>:29: FutureWarning: The frame.append method is deprecated and will be removed from pandas in a future version. Use pandas.concat instead.\n",
            "  param_df = param_df.append(param, ignore_index=True)\n",
            "<ipython-input-31-ad0933ab371e>:29: FutureWarning: The frame.append method is deprecated and will be removed from pandas in a future version. Use pandas.concat instead.\n",
            "  param_df = param_df.append(param, ignore_index=True)\n"
          ]
        },
        {
          "name": "stdout",
          "output_type": "stream",
          "text": [
            "[LightGBM] [Warning] Unknown parameter: learning_rates\n",
            "[LightGBM] [Warning] Unknown parameter: learning_rates\n",
            "[LightGBM] [Warning] Unknown parameter: learning_rates\n",
            "[LightGBM] [Warning] Unknown parameter: learning_rates\n",
            "[LightGBM] [Warning] Unknown parameter: learning_rates\n",
            "[LightGBM] [Warning] Unknown parameter: learning_rates\n",
            "[LightGBM] [Warning] Unknown parameter: learning_rates\n",
            "[LightGBM] [Warning] Unknown parameter: learning_rates\n",
            "[LightGBM] [Warning] Unknown parameter: learning_rates\n",
            "[LightGBM] [Warning] Unknown parameter: learning_rates\n",
            "[LightGBM] [Warning] Unknown parameter: learning_rates\n",
            "[LightGBM] [Warning] Unknown parameter: learning_rates\n",
            "[LightGBM] [Warning] Unknown parameter: learning_rates\n"
          ]
        },
        {
          "name": "stderr",
          "output_type": "stream",
          "text": [
            "<ipython-input-31-ad0933ab371e>:29: FutureWarning: The frame.append method is deprecated and will be removed from pandas in a future version. Use pandas.concat instead.\n",
            "  param_df = param_df.append(param, ignore_index=True)\n",
            "<ipython-input-31-ad0933ab371e>:29: FutureWarning: The frame.append method is deprecated and will be removed from pandas in a future version. Use pandas.concat instead.\n",
            "  param_df = param_df.append(param, ignore_index=True)\n",
            "<ipython-input-31-ad0933ab371e>:29: FutureWarning: The frame.append method is deprecated and will be removed from pandas in a future version. Use pandas.concat instead.\n",
            "  param_df = param_df.append(param, ignore_index=True)\n",
            "<ipython-input-31-ad0933ab371e>:29: FutureWarning: The frame.append method is deprecated and will be removed from pandas in a future version. Use pandas.concat instead.\n",
            "  param_df = param_df.append(param, ignore_index=True)\n",
            "<ipython-input-31-ad0933ab371e>:29: FutureWarning: The frame.append method is deprecated and will be removed from pandas in a future version. Use pandas.concat instead.\n",
            "  param_df = param_df.append(param, ignore_index=True)\n",
            "<ipython-input-31-ad0933ab371e>:29: FutureWarning: The frame.append method is deprecated and will be removed from pandas in a future version. Use pandas.concat instead.\n",
            "  param_df = param_df.append(param, ignore_index=True)\n",
            "<ipython-input-31-ad0933ab371e>:29: FutureWarning: The frame.append method is deprecated and will be removed from pandas in a future version. Use pandas.concat instead.\n",
            "  param_df = param_df.append(param, ignore_index=True)\n"
          ]
        },
        {
          "name": "stdout",
          "output_type": "stream",
          "text": [
            "[LightGBM] [Warning] Unknown parameter: learning_rates\n",
            "[LightGBM] [Warning] Unknown parameter: learning_rates\n",
            "[LightGBM] [Warning] Unknown parameter: learning_rates\n",
            "[LightGBM] [Warning] Unknown parameter: learning_rates\n",
            "[LightGBM] [Warning] Unknown parameter: learning_rates\n",
            "[LightGBM] [Warning] Unknown parameter: learning_rates\n",
            "[LightGBM] [Warning] Unknown parameter: learning_rates\n",
            "[LightGBM] [Warning] Unknown parameter: learning_rates\n",
            "[LightGBM] [Warning] Unknown parameter: learning_rates\n",
            "[LightGBM] [Warning] Unknown parameter: learning_rates\n",
            "[LightGBM] [Warning] Unknown parameter: learning_rates\n",
            "[LightGBM] [Warning] Unknown parameter: learning_rates\n",
            "[LightGBM] [Warning] Unknown parameter: learning_rates\n",
            "[LightGBM] [Warning] Unknown parameter: learning_rates\n",
            "[LightGBM] [Warning] Unknown parameter: learning_rates\n",
            "[LightGBM] [Warning] Unknown parameter: learning_rates\n",
            "[LightGBM] [Warning] Unknown parameter: learning_rates\n",
            "[LightGBM] [Warning] Unknown parameter: learning_rates\n",
            "[LightGBM] [Warning] Unknown parameter: learning_rates\n",
            "[LightGBM] [Warning] Unknown parameter: learning_rates\n",
            "[LightGBM] [Warning] Unknown parameter: learning_rates\n",
            "[LightGBM] [Warning] Unknown parameter: learning_rates\n",
            "[LightGBM] [Warning] Unknown parameter: learning_rates\n",
            "[LightGBM] [Warning] Unknown parameter: learning_rates\n",
            "[LightGBM] [Warning] Unknown parameter: learning_rates\n",
            "[LightGBM] [Warning] Unknown parameter: learning_rates\n",
            "[LightGBM] [Warning] Unknown parameter: learning_rates\n",
            "[LightGBM] [Warning] Unknown parameter: learning_rates\n",
            "[LightGBM] [Warning] Unknown parameter: learning_rates\n",
            "[LightGBM] [Warning] Unknown parameter: learning_rates\n",
            "[LightGBM] [Warning] Unknown parameter: learning_rates\n"
          ]
        },
        {
          "name": "stderr",
          "output_type": "stream",
          "text": [
            "<ipython-input-31-ad0933ab371e>:29: FutureWarning: The frame.append method is deprecated and will be removed from pandas in a future version. Use pandas.concat instead.\n",
            "  param_df = param_df.append(param, ignore_index=True)\n",
            "<ipython-input-31-ad0933ab371e>:29: FutureWarning: The frame.append method is deprecated and will be removed from pandas in a future version. Use pandas.concat instead.\n",
            "  param_df = param_df.append(param, ignore_index=True)\n",
            "<ipython-input-31-ad0933ab371e>:29: FutureWarning: The frame.append method is deprecated and will be removed from pandas in a future version. Use pandas.concat instead.\n",
            "  param_df = param_df.append(param, ignore_index=True)\n",
            "<ipython-input-31-ad0933ab371e>:29: FutureWarning: The frame.append method is deprecated and will be removed from pandas in a future version. Use pandas.concat instead.\n",
            "  param_df = param_df.append(param, ignore_index=True)\n",
            "<ipython-input-31-ad0933ab371e>:29: FutureWarning: The frame.append method is deprecated and will be removed from pandas in a future version. Use pandas.concat instead.\n",
            "  param_df = param_df.append(param, ignore_index=True)\n",
            "<ipython-input-31-ad0933ab371e>:29: FutureWarning: The frame.append method is deprecated and will be removed from pandas in a future version. Use pandas.concat instead.\n",
            "  param_df = param_df.append(param, ignore_index=True)\n",
            "<ipython-input-31-ad0933ab371e>:29: FutureWarning: The frame.append method is deprecated and will be removed from pandas in a future version. Use pandas.concat instead.\n",
            "  param_df = param_df.append(param, ignore_index=True)\n",
            "<ipython-input-31-ad0933ab371e>:29: FutureWarning: The frame.append method is deprecated and will be removed from pandas in a future version. Use pandas.concat instead.\n",
            "  param_df = param_df.append(param, ignore_index=True)\n",
            "<ipython-input-31-ad0933ab371e>:29: FutureWarning: The frame.append method is deprecated and will be removed from pandas in a future version. Use pandas.concat instead.\n",
            "  param_df = param_df.append(param, ignore_index=True)\n"
          ]
        },
        {
          "name": "stdout",
          "output_type": "stream",
          "text": [
            "[LightGBM] [Warning] Unknown parameter: learning_rates\n",
            "[LightGBM] [Warning] Unknown parameter: learning_rates\n",
            "[LightGBM] [Warning] Unknown parameter: learning_rates\n",
            "[LightGBM] [Warning] Unknown parameter: learning_rates\n",
            "[LightGBM] [Warning] Unknown parameter: learning_rates\n",
            "[LightGBM] [Warning] Unknown parameter: learning_rates\n",
            "[LightGBM] [Warning] Unknown parameter: learning_rates\n",
            "[LightGBM] [Warning] Unknown parameter: learning_rates\n",
            "[LightGBM] [Warning] Unknown parameter: learning_rates\n",
            "[LightGBM] [Warning] Unknown parameter: learning_rates\n",
            "[LightGBM] [Warning] Unknown parameter: learning_rates\n",
            "[LightGBM] [Warning] Unknown parameter: learning_rates\n",
            "[LightGBM] [Warning] Unknown parameter: learning_rates\n",
            "[LightGBM] [Warning] Unknown parameter: learning_rates\n",
            "[LightGBM] [Warning] Unknown parameter: learning_rates\n",
            "[LightGBM] [Warning] Unknown parameter: learning_rates\n",
            "[LightGBM] [Warning] Unknown parameter: learning_rates\n",
            "[LightGBM] [Warning] Unknown parameter: learning_rates\n",
            "[LightGBM] [Warning] Unknown parameter: learning_rates\n",
            "[LightGBM] [Warning] Unknown parameter: learning_rates\n"
          ]
        },
        {
          "name": "stderr",
          "output_type": "stream",
          "text": [
            "<ipython-input-31-ad0933ab371e>:29: FutureWarning: The frame.append method is deprecated and will be removed from pandas in a future version. Use pandas.concat instead.\n",
            "  param_df = param_df.append(param, ignore_index=True)\n",
            "<ipython-input-31-ad0933ab371e>:29: FutureWarning: The frame.append method is deprecated and will be removed from pandas in a future version. Use pandas.concat instead.\n",
            "  param_df = param_df.append(param, ignore_index=True)\n"
          ]
        },
        {
          "name": "stdout",
          "output_type": "stream",
          "text": [
            "[LightGBM] [Warning] Unknown parameter: learning_rates\n",
            "[LightGBM] [Warning] Unknown parameter: learning_rates\n",
            "[LightGBM] [Warning] Unknown parameter: learning_rates\n",
            "[LightGBM] [Warning] Unknown parameter: learning_rates\n",
            "[LightGBM] [Warning] Unknown parameter: learning_rates\n",
            "[LightGBM] [Warning] Unknown parameter: learning_rates\n"
          ]
        },
        {
          "name": "stderr",
          "output_type": "stream",
          "text": [
            "<ipython-input-31-ad0933ab371e>:29: FutureWarning: The frame.append method is deprecated and will be removed from pandas in a future version. Use pandas.concat instead.\n",
            "  param_df = param_df.append(param, ignore_index=True)\n",
            "<ipython-input-31-ad0933ab371e>:29: FutureWarning: The frame.append method is deprecated and will be removed from pandas in a future version. Use pandas.concat instead.\n",
            "  param_df = param_df.append(param, ignore_index=True)\n"
          ]
        },
        {
          "name": "stdout",
          "output_type": "stream",
          "text": [
            "[LightGBM] [Warning] Unknown parameter: learning_rates\n",
            "[LightGBM] [Warning] Unknown parameter: learning_rates\n",
            "[LightGBM] [Warning] Unknown parameter: learning_rates\n",
            "[LightGBM] [Warning] Unknown parameter: learning_rates\n",
            "[LightGBM] [Warning] Unknown parameter: learning_rates\n",
            "[LightGBM] [Warning] Unknown parameter: learning_rates\n"
          ]
        },
        {
          "name": "stderr",
          "output_type": "stream",
          "text": [
            "<ipython-input-31-ad0933ab371e>:29: FutureWarning: The frame.append method is deprecated and will be removed from pandas in a future version. Use pandas.concat instead.\n",
            "  param_df = param_df.append(param, ignore_index=True)\n",
            "<ipython-input-31-ad0933ab371e>:29: FutureWarning: The frame.append method is deprecated and will be removed from pandas in a future version. Use pandas.concat instead.\n",
            "  param_df = param_df.append(param, ignore_index=True)\n"
          ]
        },
        {
          "name": "stdout",
          "output_type": "stream",
          "text": [
            "[LightGBM] [Warning] Unknown parameter: learning_rates\n",
            "[LightGBM] [Warning] Unknown parameter: learning_rates\n",
            "[LightGBM] [Warning] Unknown parameter: learning_rates\n",
            "[LightGBM] [Warning] Unknown parameter: learning_rates\n",
            "[LightGBM] [Warning] Unknown parameter: learning_rates\n",
            "[LightGBM] [Warning] Unknown parameter: learning_rates\n"
          ]
        },
        {
          "name": "stderr",
          "output_type": "stream",
          "text": [
            "<ipython-input-31-ad0933ab371e>:29: FutureWarning: The frame.append method is deprecated and will be removed from pandas in a future version. Use pandas.concat instead.\n",
            "  param_df = param_df.append(param, ignore_index=True)\n",
            "<ipython-input-31-ad0933ab371e>:29: FutureWarning: The frame.append method is deprecated and will be removed from pandas in a future version. Use pandas.concat instead.\n",
            "  param_df = param_df.append(param, ignore_index=True)\n"
          ]
        },
        {
          "name": "stdout",
          "output_type": "stream",
          "text": [
            "[LightGBM] [Warning] Unknown parameter: learning_rates\n",
            "[LightGBM] [Warning] Unknown parameter: learning_rates\n",
            "[LightGBM] [Warning] Unknown parameter: learning_rates\n",
            "[LightGBM] [Warning] Unknown parameter: learning_rates\n",
            "[LightGBM] [Warning] Unknown parameter: learning_rates\n",
            "[LightGBM] [Warning] Unknown parameter: learning_rates\n",
            "[LightGBM] [Warning] Unknown parameter: learning_rates\n",
            "[LightGBM] [Warning] Unknown parameter: learning_rates\n",
            "[LightGBM] [Warning] Unknown parameter: learning_rates\n",
            "[LightGBM] [Warning] Unknown parameter: learning_rates\n",
            "[LightGBM] [Warning] Unknown parameter: learning_rates\n",
            "[LightGBM] [Warning] Unknown parameter: learning_rates\n",
            "[LightGBM] [Warning] Unknown parameter: learning_rates\n",
            "[LightGBM] [Warning] Unknown parameter: learning_rates\n",
            "[LightGBM] [Warning] Unknown parameter: learning_rates\n",
            "[LightGBM] [Warning] Unknown parameter: learning_rates"
          ]
        },
        {
          "name": "stderr",
          "output_type": "stream",
          "text": [
            "<ipython-input-31-ad0933ab371e>:29: FutureWarning: The frame.append method is deprecated and will be removed from pandas in a future version. Use pandas.concat instead.\n",
            "  param_df = param_df.append(param, ignore_index=True)\n",
            "<ipython-input-31-ad0933ab371e>:29: FutureWarning: The frame.append method is deprecated and will be removed from pandas in a future version. Use pandas.concat instead.\n",
            "  param_df = param_df.append(param, ignore_index=True)\n",
            "<ipython-input-31-ad0933ab371e>:29: FutureWarning: The frame.append method is deprecated and will be removed from pandas in a future version. Use pandas.concat instead.\n",
            "  param_df = param_df.append(param, ignore_index=True)\n",
            "<ipython-input-31-ad0933ab371e>:29: FutureWarning: The frame.append method is deprecated and will be removed from pandas in a future version. Use pandas.concat instead.\n",
            "  param_df = param_df.append(param, ignore_index=True)\n",
            "<ipython-input-31-ad0933ab371e>:29: FutureWarning: The frame.append method is deprecated and will be removed from pandas in a future version. Use pandas.concat instead.\n",
            "  param_df = param_df.append(param, ignore_index=True)\n",
            "<ipython-input-31-ad0933ab371e>:29: FutureWarning: The frame.append method is deprecated and will be removed from pandas in a future version. Use pandas.concat instead.\n",
            "  param_df = param_df.append(param, ignore_index=True)\n"
          ]
        },
        {
          "name": "stdout",
          "output_type": "stream",
          "text": [
            "\n",
            "[LightGBM] [Warning] Unknown parameter: learning_rates\n",
            "[LightGBM] [Warning] Unknown parameter: learning_rates\n",
            "[LightGBM] [Warning] Unknown parameter: learning_rates\n",
            "[LightGBM] [Warning] Unknown parameter: learning_rates\n",
            "[LightGBM] [Warning] Unknown parameter: learning_rates\n",
            "[LightGBM] [Warning] Unknown parameter: learning_rates\n",
            "[LightGBM] [Warning] Unknown parameter: learning_rates\n",
            "[LightGBM] [Warning] Unknown parameter: learning_rates\n",
            "[LightGBM] [Warning] Unknown parameter: learning_rates\n",
            "[LightGBM] [Warning] Unknown parameter: learning_rates\n",
            "[LightGBM] [Warning] Unknown parameter: learning_rates\n",
            "[LightGBM] [Warning] Unknown parameter: learning_rates\n",
            "[LightGBM] [Warning] Unknown parameter: learning_rates\n",
            "[LightGBM] [Warning] Unknown parameter: learning_rates\n",
            "[LightGBM] [Warning] Unknown parameter: learning_rates\n",
            "[LightGBM] [Warning] Unknown parameter: learning_rates\n"
          ]
        },
        {
          "name": "stderr",
          "output_type": "stream",
          "text": [
            "<ipython-input-31-ad0933ab371e>:29: FutureWarning: The frame.append method is deprecated and will be removed from pandas in a future version. Use pandas.concat instead.\n",
            "  param_df = param_df.append(param, ignore_index=True)\n",
            "<ipython-input-31-ad0933ab371e>:29: FutureWarning: The frame.append method is deprecated and will be removed from pandas in a future version. Use pandas.concat instead.\n",
            "  param_df = param_df.append(param, ignore_index=True)\n",
            "<ipython-input-31-ad0933ab371e>:29: FutureWarning: The frame.append method is deprecated and will be removed from pandas in a future version. Use pandas.concat instead.\n",
            "  param_df = param_df.append(param, ignore_index=True)\n",
            "<ipython-input-31-ad0933ab371e>:29: FutureWarning: The frame.append method is deprecated and will be removed from pandas in a future version. Use pandas.concat instead.\n",
            "  param_df = param_df.append(param, ignore_index=True)\n",
            "<ipython-input-31-ad0933ab371e>:29: FutureWarning: The frame.append method is deprecated and will be removed from pandas in a future version. Use pandas.concat instead.\n",
            "  param_df = param_df.append(param, ignore_index=True)\n"
          ]
        },
        {
          "name": "stdout",
          "output_type": "stream",
          "text": [
            "[LightGBM] [Warning] Unknown parameter: learning_rates\n",
            "[LightGBM] [Warning] Unknown parameter: learning_rates\n",
            "[LightGBM] [Warning] Unknown parameter: learning_rates\n",
            "[LightGBM] [Warning] Unknown parameter: learning_rates\n",
            "[LightGBM] [Warning] Unknown parameter: learning_rates\n",
            "[LightGBM] [Warning] Unknown parameter: learning_rates\n",
            "[LightGBM] [Warning] Unknown parameter: learning_rates\n",
            "[LightGBM] [Warning] Unknown parameter: learning_rates\n",
            "[LightGBM] [Warning] Unknown parameter: learning_rates\n",
            "[LightGBM] [Warning] Unknown parameter: learning_rates\n",
            "[LightGBM] [Warning] Unknown parameter: learning_rates\n"
          ]
        },
        {
          "name": "stderr",
          "output_type": "stream",
          "text": [
            "<ipython-input-31-ad0933ab371e>:29: FutureWarning: The frame.append method is deprecated and will be removed from pandas in a future version. Use pandas.concat instead.\n",
            "  param_df = param_df.append(param, ignore_index=True)\n",
            "<ipython-input-31-ad0933ab371e>:29: FutureWarning: The frame.append method is deprecated and will be removed from pandas in a future version. Use pandas.concat instead.\n",
            "  param_df = param_df.append(param, ignore_index=True)\n",
            "<ipython-input-31-ad0933ab371e>:29: FutureWarning: The frame.append method is deprecated and will be removed from pandas in a future version. Use pandas.concat instead.\n",
            "  param_df = param_df.append(param, ignore_index=True)\n",
            "<ipython-input-31-ad0933ab371e>:29: FutureWarning: The frame.append method is deprecated and will be removed from pandas in a future version. Use pandas.concat instead.\n",
            "  param_df = param_df.append(param, ignore_index=True)\n"
          ]
        },
        {
          "name": "stdout",
          "output_type": "stream",
          "text": [
            "[LightGBM] [Warning] Unknown parameter: learning_rates\n",
            "[LightGBM] [Warning] Unknown parameter: learning_rates\n",
            "[LightGBM] [Warning] Unknown parameter: learning_rates\n",
            "[LightGBM] [Warning] Unknown parameter: learning_rates\n",
            "[LightGBM] [Warning] Unknown parameter: learning_rates\n",
            "[LightGBM] [Warning] Unknown parameter: learning_rates\n",
            "[LightGBM] [Warning] Unknown parameter: learning_rates\n",
            "[LightGBM] [Warning] Unknown parameter: learning_rates\n",
            "[LightGBM] [Warning] Unknown parameter: learning_rates\n",
            "[LightGBM] [Warning] Unknown parameter: learning_rates\n",
            "[LightGBM] [Warning] Unknown parameter: learning_rates\n",
            "[LightGBM] [Warning] Unknown parameter: learning_rates\n"
          ]
        },
        {
          "name": "stderr",
          "output_type": "stream",
          "text": [
            "<ipython-input-31-ad0933ab371e>:29: FutureWarning: The frame.append method is deprecated and will be removed from pandas in a future version. Use pandas.concat instead.\n",
            "  param_df = param_df.append(param, ignore_index=True)\n",
            "<ipython-input-31-ad0933ab371e>:29: FutureWarning: The frame.append method is deprecated and will be removed from pandas in a future version. Use pandas.concat instead.\n",
            "  param_df = param_df.append(param, ignore_index=True)\n",
            "<ipython-input-31-ad0933ab371e>:29: FutureWarning: The frame.append method is deprecated and will be removed from pandas in a future version. Use pandas.concat instead.\n",
            "  param_df = param_df.append(param, ignore_index=True)\n",
            "<ipython-input-31-ad0933ab371e>:29: FutureWarning: The frame.append method is deprecated and will be removed from pandas in a future version. Use pandas.concat instead.\n",
            "  param_df = param_df.append(param, ignore_index=True)\n"
          ]
        },
        {
          "name": "stdout",
          "output_type": "stream",
          "text": [
            "[LightGBM] [Warning] Unknown parameter: learning_rates\n",
            "[LightGBM] [Warning] Unknown parameter: learning_rates\n",
            "[LightGBM] [Warning] Unknown parameter: learning_rates\n",
            "[LightGBM] [Warning] Unknown parameter: learning_rates\n",
            "[LightGBM] [Warning] Unknown parameter: learning_rates\n"
          ]
        },
        {
          "name": "stderr",
          "output_type": "stream",
          "text": [
            "<ipython-input-31-ad0933ab371e>:29: FutureWarning: The frame.append method is deprecated and will be removed from pandas in a future version. Use pandas.concat instead.\n",
            "  param_df = param_df.append(param, ignore_index=True)\n",
            "<ipython-input-31-ad0933ab371e>:29: FutureWarning: The frame.append method is deprecated and will be removed from pandas in a future version. Use pandas.concat instead.\n",
            "  param_df = param_df.append(param, ignore_index=True)\n"
          ]
        },
        {
          "name": "stdout",
          "output_type": "stream",
          "text": [
            "[LightGBM] [Warning] Unknown parameter: learning_rates\n",
            "[LightGBM] [Warning] Unknown parameter: learning_rates\n",
            "[LightGBM] [Warning] Unknown parameter: learning_rates\n",
            "[LightGBM] [Warning] Unknown parameter: learning_rates\n",
            "[LightGBM] [Warning] Unknown parameter: learning_rates\n"
          ]
        },
        {
          "name": "stderr",
          "output_type": "stream",
          "text": [
            "<ipython-input-31-ad0933ab371e>:29: FutureWarning: The frame.append method is deprecated and will be removed from pandas in a future version. Use pandas.concat instead.\n",
            "  param_df = param_df.append(param, ignore_index=True)\n",
            "<ipython-input-31-ad0933ab371e>:29: FutureWarning: The frame.append method is deprecated and will be removed from pandas in a future version. Use pandas.concat instead.\n",
            "  param_df = param_df.append(param, ignore_index=True)\n"
          ]
        },
        {
          "name": "stdout",
          "output_type": "stream",
          "text": [
            "[LightGBM] [Warning] Unknown parameter: learning_rates\n",
            "[LightGBM] [Warning] Unknown parameter: learning_rates\n",
            "[LightGBM] [Warning] Unknown parameter: learning_rates\n",
            "[LightGBM] [Warning] Unknown parameter: learning_rates\n",
            "[LightGBM] [Warning] Unknown parameter: learning_rates\n"
          ]
        },
        {
          "name": "stderr",
          "output_type": "stream",
          "text": [
            "<ipython-input-31-ad0933ab371e>:29: FutureWarning: The frame.append method is deprecated and will be removed from pandas in a future version. Use pandas.concat instead.\n",
            "  param_df = param_df.append(param, ignore_index=True)\n",
            "<ipython-input-31-ad0933ab371e>:29: FutureWarning: The frame.append method is deprecated and will be removed from pandas in a future version. Use pandas.concat instead.\n",
            "  param_df = param_df.append(param, ignore_index=True)\n"
          ]
        },
        {
          "name": "stdout",
          "output_type": "stream",
          "text": [
            "[LightGBM] [Warning] Unknown parameter: learning_rates\n",
            "[LightGBM] [Warning] Unknown parameter: learning_rates\n",
            "[LightGBM] [Warning] Unknown parameter: learning_rates\n",
            "[LightGBM] [Warning] Unknown parameter: learning_rates\n",
            "[LightGBM] [Warning] Unknown parameter: learning_rates\n",
            "[LightGBM] [Warning] Unknown parameter: learning_rates\n"
          ]
        },
        {
          "name": "stderr",
          "output_type": "stream",
          "text": [
            "<ipython-input-31-ad0933ab371e>:29: FutureWarning: The frame.append method is deprecated and will be removed from pandas in a future version. Use pandas.concat instead.\n",
            "  param_df = param_df.append(param, ignore_index=True)\n",
            "<ipython-input-31-ad0933ab371e>:29: FutureWarning: The frame.append method is deprecated and will be removed from pandas in a future version. Use pandas.concat instead.\n",
            "  param_df = param_df.append(param, ignore_index=True)\n"
          ]
        },
        {
          "name": "stdout",
          "output_type": "stream",
          "text": [
            "[LightGBM] [Warning] Unknown parameter: learning_rates\n",
            "[LightGBM] [Warning] Unknown parameter: learning_rates\n",
            "[LightGBM] [Warning] Unknown parameter: learning_rates\n",
            "[LightGBM] [Warning] Unknown parameter: learning_rates\n",
            "[LightGBM] [Warning] Unknown parameter: learning_rates\n",
            "[LightGBM] [Warning] Unknown parameter: learning_rates\n",
            "[LightGBM] [Warning] Unknown parameter: learning_rates\n",
            "[LightGBM] [Warning] Unknown parameter: learning_rates\n",
            "[LightGBM] [Warning] Unknown parameter: learning_rates\n",
            "[LightGBM] [Warning] Unknown parameter: learning_rates\n",
            "[LightGBM] [Warning] Unknown parameter: learning_rates\n",
            "[LightGBM] [Warning] Unknown parameter: learning_rates\n",
            "[LightGBM] [Warning] Unknown parameter: learning_rates\n",
            "[LightGBM] [Warning] Unknown parameter: learning_rates\n",
            "[LightGBM] [Warning] Unknown parameter: learning_rates\n",
            "[LightGBM] [Warning] Unknown parameter: learning_rates\n",
            "[LightGBM] [Warning] Unknown parameter: learning_rates\n",
            "[LightGBM] [Warning] Unknown parameter: learning_rates\n",
            "[LightGBM] [Warning] Unknown parameter: learning_rates\n"
          ]
        },
        {
          "name": "stderr",
          "output_type": "stream",
          "text": [
            "<ipython-input-31-ad0933ab371e>:29: FutureWarning: The frame.append method is deprecated and will be removed from pandas in a future version. Use pandas.concat instead.\n",
            "  param_df = param_df.append(param, ignore_index=True)\n",
            "<ipython-input-31-ad0933ab371e>:29: FutureWarning: The frame.append method is deprecated and will be removed from pandas in a future version. Use pandas.concat instead.\n",
            "  param_df = param_df.append(param, ignore_index=True)\n",
            "<ipython-input-31-ad0933ab371e>:29: FutureWarning: The frame.append method is deprecated and will be removed from pandas in a future version. Use pandas.concat instead.\n",
            "  param_df = param_df.append(param, ignore_index=True)\n",
            "<ipython-input-31-ad0933ab371e>:29: FutureWarning: The frame.append method is deprecated and will be removed from pandas in a future version. Use pandas.concat instead.\n",
            "  param_df = param_df.append(param, ignore_index=True)\n",
            "<ipython-input-31-ad0933ab371e>:29: FutureWarning: The frame.append method is deprecated and will be removed from pandas in a future version. Use pandas.concat instead.\n",
            "  param_df = param_df.append(param, ignore_index=True)\n",
            "<ipython-input-31-ad0933ab371e>:29: FutureWarning: The frame.append method is deprecated and will be removed from pandas in a future version. Use pandas.concat instead.\n",
            "  param_df = param_df.append(param, ignore_index=True)\n"
          ]
        },
        {
          "name": "stdout",
          "output_type": "stream",
          "text": [
            "[LightGBM] [Warning] Unknown parameter: learning_rates\n",
            "[LightGBM] [Warning] Unknown parameter: learning_rates\n",
            "[LightGBM] [Warning] Unknown parameter: learning_rates\n",
            "[LightGBM] [Warning] Unknown parameter: learning_rates\n",
            "[LightGBM] [Warning] Unknown parameter: learning_rates\n",
            "[LightGBM] [Warning] Unknown parameter: learning_rates\n",
            "[LightGBM] [Warning] Unknown parameter: learning_rates\n",
            "[LightGBM] [Warning] Unknown parameter: learning_rates\n",
            "[LightGBM] [Warning] Unknown parameter: learning_rates\n",
            "[LightGBM] [Warning] Unknown parameter: learning_rates\n",
            "[LightGBM] [Warning] Unknown parameter: learning_rates\n",
            "[LightGBM] [Warning] Unknown parameter: learning_rates\n",
            "[LightGBM] [Warning] Unknown parameter: learning_rates\n",
            "[LightGBM] [Warning] Unknown parameter: learning_rates\n",
            "[LightGBM] [Warning] Unknown parameter: learning_rates\n",
            "[LightGBM] [Warning] Unknown parameter: learning_rates\n",
            "[LightGBM] [Warning] Unknown parameter: learning_rates\n"
          ]
        },
        {
          "name": "stderr",
          "output_type": "stream",
          "text": [
            "<ipython-input-31-ad0933ab371e>:29: FutureWarning: The frame.append method is deprecated and will be removed from pandas in a future version. Use pandas.concat instead.\n",
            "  param_df = param_df.append(param, ignore_index=True)\n",
            "<ipython-input-31-ad0933ab371e>:29: FutureWarning: The frame.append method is deprecated and will be removed from pandas in a future version. Use pandas.concat instead.\n",
            "  param_df = param_df.append(param, ignore_index=True)\n",
            "<ipython-input-31-ad0933ab371e>:29: FutureWarning: The frame.append method is deprecated and will be removed from pandas in a future version. Use pandas.concat instead.\n",
            "  param_df = param_df.append(param, ignore_index=True)\n",
            "<ipython-input-31-ad0933ab371e>:29: FutureWarning: The frame.append method is deprecated and will be removed from pandas in a future version. Use pandas.concat instead.\n",
            "  param_df = param_df.append(param, ignore_index=True)\n",
            "<ipython-input-31-ad0933ab371e>:29: FutureWarning: The frame.append method is deprecated and will be removed from pandas in a future version. Use pandas.concat instead.\n",
            "  param_df = param_df.append(param, ignore_index=True)\n"
          ]
        },
        {
          "name": "stdout",
          "output_type": "stream",
          "text": [
            "[LightGBM] [Warning] Unknown parameter: learning_rates\n",
            "[LightGBM] [Warning] Unknown parameter: learning_rates\n",
            "[LightGBM] [Warning] Unknown parameter: learning_rates\n",
            "[LightGBM] [Warning] Unknown parameter: learning_rates\n",
            "[LightGBM] [Warning] Unknown parameter: learning_rates\n",
            "[LightGBM] [Warning] Unknown parameter: learning_rates\n",
            "[LightGBM] [Warning] Unknown parameter: learning_rates\n",
            "[LightGBM] [Warning] Unknown parameter: learning_rates\n",
            "[LightGBM] [Warning] Unknown parameter: learning_rates\n",
            "[LightGBM] [Warning] Unknown parameter: learning_rates\n",
            "[LightGBM] [Warning] Unknown parameter: learning_rates\n"
          ]
        },
        {
          "name": "stderr",
          "output_type": "stream",
          "text": [
            "<ipython-input-31-ad0933ab371e>:29: FutureWarning: The frame.append method is deprecated and will be removed from pandas in a future version. Use pandas.concat instead.\n",
            "  param_df = param_df.append(param, ignore_index=True)\n",
            "<ipython-input-31-ad0933ab371e>:29: FutureWarning: The frame.append method is deprecated and will be removed from pandas in a future version. Use pandas.concat instead.\n",
            "  param_df = param_df.append(param, ignore_index=True)\n",
            "<ipython-input-31-ad0933ab371e>:29: FutureWarning: The frame.append method is deprecated and will be removed from pandas in a future version. Use pandas.concat instead.\n",
            "  param_df = param_df.append(param, ignore_index=True)\n",
            "<ipython-input-31-ad0933ab371e>:29: FutureWarning: The frame.append method is deprecated and will be removed from pandas in a future version. Use pandas.concat instead.\n",
            "  param_df = param_df.append(param, ignore_index=True)\n"
          ]
        },
        {
          "name": "stdout",
          "output_type": "stream",
          "text": [
            "[LightGBM] [Warning] Unknown parameter: learning_rates\n",
            "[LightGBM] [Warning] Unknown parameter: learning_rates\n",
            "[LightGBM] [Warning] Unknown parameter: learning_rates\n",
            "[LightGBM] [Warning] Unknown parameter: learning_rates\n",
            "[LightGBM] [Warning] Unknown parameter: learning_rates\n",
            "[LightGBM] [Warning] Unknown parameter: learning_rates\n",
            "[LightGBM] [Warning] Unknown parameter: learning_rates\n",
            "[LightGBM] [Warning] Unknown parameter: learning_rates\n",
            "[LightGBM] [Warning] Unknown parameter: learning_rates\n",
            "[LightGBM] [Warning] Unknown parameter: learning_rates\n",
            "[LightGBM] [Warning] Unknown parameter: learning_rates\n"
          ]
        },
        {
          "name": "stderr",
          "output_type": "stream",
          "text": [
            "<ipython-input-31-ad0933ab371e>:29: FutureWarning: The frame.append method is deprecated and will be removed from pandas in a future version. Use pandas.concat instead.\n",
            "  param_df = param_df.append(param, ignore_index=True)\n",
            "<ipython-input-31-ad0933ab371e>:29: FutureWarning: The frame.append method is deprecated and will be removed from pandas in a future version. Use pandas.concat instead.\n",
            "  param_df = param_df.append(param, ignore_index=True)\n",
            "<ipython-input-31-ad0933ab371e>:29: FutureWarning: The frame.append method is deprecated and will be removed from pandas in a future version. Use pandas.concat instead.\n",
            "  param_df = param_df.append(param, ignore_index=True)\n",
            "<ipython-input-31-ad0933ab371e>:29: FutureWarning: The frame.append method is deprecated and will be removed from pandas in a future version. Use pandas.concat instead.\n",
            "  param_df = param_df.append(param, ignore_index=True)\n"
          ]
        },
        {
          "name": "stdout",
          "output_type": "stream",
          "text": [
            "[LightGBM] [Warning] Unknown parameter: learning_rates\n",
            "[LightGBM] [Warning] Unknown parameter: learning_rates\n",
            "[LightGBM] [Warning] Unknown parameter: learning_rates\n",
            "[LightGBM] [Warning] Unknown parameter: learning_rates\n",
            "[LightGBM] [Warning] Unknown parameter: learning_rates\n",
            "[LightGBM] [Warning] Unknown parameter: learning_rates\n"
          ]
        },
        {
          "name": "stderr",
          "output_type": "stream",
          "text": [
            "<ipython-input-31-ad0933ab371e>:29: FutureWarning: The frame.append method is deprecated and will be removed from pandas in a future version. Use pandas.concat instead.\n",
            "  param_df = param_df.append(param, ignore_index=True)\n"
          ]
        },
        {
          "name": "stdout",
          "output_type": "stream",
          "text": [
            "[LightGBM] [Warning] Unknown parameter: learning_rates\n",
            "[LightGBM] [Warning] Unknown parameter: learning_rates\n"
          ]
        },
        {
          "name": "stderr",
          "output_type": "stream",
          "text": [
            "<ipython-input-31-ad0933ab371e>:29: FutureWarning: The frame.append method is deprecated and will be removed from pandas in a future version. Use pandas.concat instead.\n",
            "  param_df = param_df.append(param, ignore_index=True)\n"
          ]
        },
        {
          "name": "stdout",
          "output_type": "stream",
          "text": [
            "[LightGBM] [Warning] Unknown parameter: learning_rates\n",
            "[LightGBM] [Warning] Unknown parameter: learning_rates\n",
            "[LightGBM] [Warning] Unknown parameter: learning_rates\n",
            "[LightGBM] [Warning] Unknown parameter: learning_rates\n",
            "[LightGBM] [Warning] Unknown parameter: learning_rates\n",
            "[LightGBM] [Warning] Unknown parameter: learning_rates\n",
            "[LightGBM] [Warning] Unknown parameter: learning_rates\n"
          ]
        },
        {
          "name": "stderr",
          "output_type": "stream",
          "text": [
            "<ipython-input-31-ad0933ab371e>:29: FutureWarning: The frame.append method is deprecated and will be removed from pandas in a future version. Use pandas.concat instead.\n",
            "  param_df = param_df.append(param, ignore_index=True)\n",
            "<ipython-input-31-ad0933ab371e>:29: FutureWarning: The frame.append method is deprecated and will be removed from pandas in a future version. Use pandas.concat instead.\n",
            "  param_df = param_df.append(param, ignore_index=True)\n"
          ]
        },
        {
          "name": "stdout",
          "output_type": "stream",
          "text": [
            "[LightGBM] [Warning] Unknown parameter: learning_rates\n",
            "[LightGBM] [Warning] Unknown parameter: learning_rates\n",
            "[LightGBM] [Warning] Unknown parameter: learning_rates\n",
            "[LightGBM] [Warning] Unknown parameter: learning_rates\n",
            "[LightGBM] [Warning] Unknown parameter: learning_rates\n"
          ]
        },
        {
          "name": "stderr",
          "output_type": "stream",
          "text": [
            "<ipython-input-31-ad0933ab371e>:29: FutureWarning: The frame.append method is deprecated and will be removed from pandas in a future version. Use pandas.concat instead.\n",
            "  param_df = param_df.append(param, ignore_index=True)\n",
            "<ipython-input-31-ad0933ab371e>:29: FutureWarning: The frame.append method is deprecated and will be removed from pandas in a future version. Use pandas.concat instead.\n",
            "  param_df = param_df.append(param, ignore_index=True)\n"
          ]
        },
        {
          "name": "stdout",
          "output_type": "stream",
          "text": [
            "[LightGBM] [Warning] Unknown parameter: learning_rates\n",
            "[LightGBM] [Warning] Unknown parameter: learning_rates\n",
            "[LightGBM] [Warning] Unknown parameter: learning_rates\n",
            "[LightGBM] [Warning] Unknown parameter: learning_rates\n",
            "[LightGBM] [Warning] Unknown parameter: learning_rates\n"
          ]
        },
        {
          "name": "stderr",
          "output_type": "stream",
          "text": [
            "<ipython-input-31-ad0933ab371e>:29: FutureWarning: The frame.append method is deprecated and will be removed from pandas in a future version. Use pandas.concat instead.\n",
            "  param_df = param_df.append(param, ignore_index=True)\n",
            "<ipython-input-31-ad0933ab371e>:29: FutureWarning: The frame.append method is deprecated and will be removed from pandas in a future version. Use pandas.concat instead.\n",
            "  param_df = param_df.append(param, ignore_index=True)\n"
          ]
        },
        {
          "name": "stdout",
          "output_type": "stream",
          "text": [
            "[LightGBM] [Warning] Unknown parameter: learning_rates\n",
            "[LightGBM] [Warning] Unknown parameter: learning_rates\n",
            "[LightGBM] [Warning] Unknown parameter: learning_rates\n",
            "[LightGBM] [Warning] Unknown parameter: learning_rates\n"
          ]
        },
        {
          "name": "stderr",
          "output_type": "stream",
          "text": [
            "<ipython-input-31-ad0933ab371e>:29: FutureWarning: The frame.append method is deprecated and will be removed from pandas in a future version. Use pandas.concat instead.\n",
            "  param_df = param_df.append(param, ignore_index=True)\n",
            "<ipython-input-31-ad0933ab371e>:29: FutureWarning: The frame.append method is deprecated and will be removed from pandas in a future version. Use pandas.concat instead.\n",
            "  param_df = param_df.append(param, ignore_index=True)\n",
            "<ipython-input-31-ad0933ab371e>:29: FutureWarning: The frame.append method is deprecated and will be removed from pandas in a future version. Use pandas.concat instead.\n",
            "  param_df = param_df.append(param, ignore_index=True)\n",
            "<ipython-input-31-ad0933ab371e>:29: FutureWarning: The frame.append method is deprecated and will be removed from pandas in a future version. Use pandas.concat instead.\n",
            "  param_df = param_df.append(param, ignore_index=True)\n",
            "<ipython-input-31-ad0933ab371e>:29: FutureWarning: The frame.append method is deprecated and will be removed from pandas in a future version. Use pandas.concat instead.\n",
            "  param_df = param_df.append(param, ignore_index=True)\n",
            "<ipython-input-31-ad0933ab371e>:29: FutureWarning: The frame.append method is deprecated and will be removed from pandas in a future version. Use pandas.concat instead.\n",
            "  param_df = param_df.append(param, ignore_index=True)\n"
          ]
        },
        {
          "name": "stdout",
          "output_type": "stream",
          "text": [
            "[LightGBM] [Warning] Unknown parameter: learning_rates\n",
            "[LightGBM] [Warning] Unknown parameter: learning_rates\n",
            "[LightGBM] [Warning] Unknown parameter: learning_rates\n",
            "[LightGBM] [Warning] Unknown parameter: learning_rates\n",
            "[LightGBM] [Warning] Unknown parameter: learning_rates\n",
            "[LightGBM] [Warning] Unknown parameter: learning_rates\n",
            "[LightGBM] [Warning] Unknown parameter: learning_rates\n",
            "[LightGBM] [Warning] Unknown parameter: learning_rates\n",
            "[LightGBM] [Warning] Unknown parameter: learning_rates\n",
            "[LightGBM] [Warning] Unknown parameter: learning_rates\n",
            "[LightGBM] [Warning] Unknown parameter: learning_rates\n",
            "[LightGBM] [Warning] Unknown parameter: learning_rates\n",
            "[LightGBM] [Warning] Unknown parameter: learning_rates\n",
            "[LightGBM] [Warning] Unknown parameter: learning_rates\n",
            "[LightGBM] [Warning] Unknown parameter: learning_rates\n",
            "[LightGBM] [Warning] Unknown parameter: learning_rates\n",
            "[LightGBM] [Warning] Unknown parameter: learning_rates\n",
            "[LightGBM] [Warning] Unknown parameter: learning_rates\n",
            "[LightGBM] [Warning] Unknown parameter: learning_rates\n",
            "[LightGBM] [Warning] Unknown parameter: learning_rates\n",
            "[LightGBM] [Warning] Unknown parameter: learning_rates\n",
            "[LightGBM] [Warning] Unknown parameter: learning_rates\n",
            "[LightGBM] [Warning] Unknown parameter: learning_rates\n",
            "[LightGBM] [Warning] Unknown parameter: learning_rates\n",
            "[LightGBM] [Warning] Unknown parameter: learning_rates\n",
            "[LightGBM] [Warning] Unknown parameter: learning_rates\n",
            "[LightGBM] [Warning] Unknown parameter: learning_rates\n",
            "[LightGBM] [Warning] Unknown parameter: learning_rates\n",
            "[LightGBM] [Warning] Unknown parameter: learning_rates\n",
            "[LightGBM] [Warning] Unknown parameter: learning_rates\n",
            "[LightGBM] [Warning] Unknown parameter: learning_rates\n",
            "[LightGBM] [Warning] Unknown parameter: learning_rates\n"
          ]
        },
        {
          "name": "stderr",
          "output_type": "stream",
          "text": [
            "<ipython-input-31-ad0933ab371e>:29: FutureWarning: The frame.append method is deprecated and will be removed from pandas in a future version. Use pandas.concat instead.\n",
            "  param_df = param_df.append(param, ignore_index=True)\n",
            "<ipython-input-31-ad0933ab371e>:29: FutureWarning: The frame.append method is deprecated and will be removed from pandas in a future version. Use pandas.concat instead.\n",
            "  param_df = param_df.append(param, ignore_index=True)\n",
            "<ipython-input-31-ad0933ab371e>:29: FutureWarning: The frame.append method is deprecated and will be removed from pandas in a future version. Use pandas.concat instead.\n",
            "  param_df = param_df.append(param, ignore_index=True)\n",
            "<ipython-input-31-ad0933ab371e>:29: FutureWarning: The frame.append method is deprecated and will be removed from pandas in a future version. Use pandas.concat instead.\n",
            "  param_df = param_df.append(param, ignore_index=True)\n",
            "<ipython-input-31-ad0933ab371e>:29: FutureWarning: The frame.append method is deprecated and will be removed from pandas in a future version. Use pandas.concat instead.\n",
            "  param_df = param_df.append(param, ignore_index=True)\n"
          ]
        },
        {
          "name": "stdout",
          "output_type": "stream",
          "text": [
            "[LightGBM] [Warning] Unknown parameter: learning_rates\n",
            "[LightGBM] [Warning] Unknown parameter: learning_rates\n",
            "[LightGBM] [Warning] Unknown parameter: learning_rates\n",
            "[LightGBM] [Warning] Unknown parameter: learning_rates\n",
            "[LightGBM] [Warning] Unknown parameter: learning_rates\n",
            "[LightGBM] [Warning] Unknown parameter: learning_rates\n",
            "[LightGBM] [Warning] Unknown parameter: learning_rates\n",
            "[LightGBM] [Warning] Unknown parameter: learning_rates\n",
            "[LightGBM] [Warning] Unknown parameter: learning_rates\n",
            "[LightGBM] [Warning] Unknown parameter: learning_rates\n",
            "[LightGBM] [Warning] Unknown parameter: learning_rates\n"
          ]
        },
        {
          "name": "stderr",
          "output_type": "stream",
          "text": [
            "<ipython-input-31-ad0933ab371e>:29: FutureWarning: The frame.append method is deprecated and will be removed from pandas in a future version. Use pandas.concat instead.\n",
            "  param_df = param_df.append(param, ignore_index=True)\n",
            "<ipython-input-31-ad0933ab371e>:29: FutureWarning: The frame.append method is deprecated and will be removed from pandas in a future version. Use pandas.concat instead.\n",
            "  param_df = param_df.append(param, ignore_index=True)\n",
            "<ipython-input-31-ad0933ab371e>:29: FutureWarning: The frame.append method is deprecated and will be removed from pandas in a future version. Use pandas.concat instead.\n",
            "  param_df = param_df.append(param, ignore_index=True)\n",
            "<ipython-input-31-ad0933ab371e>:29: FutureWarning: The frame.append method is deprecated and will be removed from pandas in a future version. Use pandas.concat instead.\n",
            "  param_df = param_df.append(param, ignore_index=True)\n"
          ]
        },
        {
          "name": "stdout",
          "output_type": "stream",
          "text": [
            "[LightGBM] [Warning] Unknown parameter: learning_rates\n",
            "[LightGBM] [Warning] Unknown parameter: learning_rates\n",
            "[LightGBM] [Warning] Unknown parameter: learning_rates\n",
            "[LightGBM] [Warning] Unknown parameter: learning_rates\n",
            "[LightGBM] [Warning] Unknown parameter: learning_rates\n",
            "[LightGBM] [Warning] Unknown parameter: learning_rates\n",
            "[LightGBM] [Warning] Unknown parameter: learning_rates\n",
            "[LightGBM] [Warning] Unknown parameter: learning_rates\n",
            "[LightGBM] [Warning] Unknown parameter: learning_rates\n",
            "[LightGBM] [Warning] Unknown parameter: learning_rates\n",
            "[LightGBM] [Warning] Unknown parameter: learning_rates\n"
          ]
        },
        {
          "name": "stderr",
          "output_type": "stream",
          "text": [
            "<ipython-input-31-ad0933ab371e>:29: FutureWarning: The frame.append method is deprecated and will be removed from pandas in a future version. Use pandas.concat instead.\n",
            "  param_df = param_df.append(param, ignore_index=True)\n",
            "<ipython-input-31-ad0933ab371e>:29: FutureWarning: The frame.append method is deprecated and will be removed from pandas in a future version. Use pandas.concat instead.\n",
            "  param_df = param_df.append(param, ignore_index=True)\n",
            "<ipython-input-31-ad0933ab371e>:29: FutureWarning: The frame.append method is deprecated and will be removed from pandas in a future version. Use pandas.concat instead.\n",
            "  param_df = param_df.append(param, ignore_index=True)\n",
            "<ipython-input-31-ad0933ab371e>:29: FutureWarning: The frame.append method is deprecated and will be removed from pandas in a future version. Use pandas.concat instead.\n",
            "  param_df = param_df.append(param, ignore_index=True)\n"
          ]
        },
        {
          "name": "stdout",
          "output_type": "stream",
          "text": [
            "[LightGBM] [Warning] Unknown parameter: learning_rates\n",
            "[LightGBM] [Warning] Unknown parameter: learning_rates\n",
            "[LightGBM] [Warning] Unknown parameter: learning_rates\n",
            "[LightGBM] [Warning] Unknown parameter: learning_rates\n",
            "[LightGBM] [Warning] Unknown parameter: learning_rates\n"
          ]
        },
        {
          "name": "stderr",
          "output_type": "stream",
          "text": [
            "<ipython-input-31-ad0933ab371e>:29: FutureWarning: The frame.append method is deprecated and will be removed from pandas in a future version. Use pandas.concat instead.\n",
            "  param_df = param_df.append(param, ignore_index=True)\n",
            "<ipython-input-31-ad0933ab371e>:29: FutureWarning: The frame.append method is deprecated and will be removed from pandas in a future version. Use pandas.concat instead.\n",
            "  param_df = param_df.append(param, ignore_index=True)\n"
          ]
        },
        {
          "name": "stdout",
          "output_type": "stream",
          "text": [
            "[LightGBM] [Warning] Unknown parameter: learning_rates\n",
            "[LightGBM] [Warning] Unknown parameter: learning_rates\n",
            "[LightGBM] [Warning] Unknown parameter: learning_rates\n",
            "[LightGBM] [Warning] Unknown parameter: learning_rates\n"
          ]
        },
        {
          "name": "stderr",
          "output_type": "stream",
          "text": [
            "<ipython-input-31-ad0933ab371e>:29: FutureWarning: The frame.append method is deprecated and will be removed from pandas in a future version. Use pandas.concat instead.\n",
            "  param_df = param_df.append(param, ignore_index=True)\n",
            "<ipython-input-31-ad0933ab371e>:29: FutureWarning: The frame.append method is deprecated and will be removed from pandas in a future version. Use pandas.concat instead.\n",
            "  param_df = param_df.append(param, ignore_index=True)\n"
          ]
        },
        {
          "name": "stdout",
          "output_type": "stream",
          "text": [
            "[LightGBM] [Warning] Unknown parameter: learning_rates\n",
            "[LightGBM] [Warning] Unknown parameter: learning_rates\n",
            "[LightGBM] [Warning] Unknown parameter: learning_rates\n",
            "[LightGBM] [Warning] Unknown parameter: learning_rates\n",
            "[LightGBM] [Warning] Unknown parameter: learning_rates\n",
            "[LightGBM] [Warning] Unknown parameter: learning_rates\n",
            "[LightGBM] [Warning] Unknown parameter: learning_rates\n",
            "[LightGBM] [Warning] Unknown parameter: learning_rates\n",
            "[LightGBM] [Warning] Unknown parameter: learning_rates\n",
            "[LightGBM] [Warning] Unknown parameter: learning_rates\n"
          ]
        },
        {
          "name": "stderr",
          "output_type": "stream",
          "text": [
            "<ipython-input-31-ad0933ab371e>:29: FutureWarning: The frame.append method is deprecated and will be removed from pandas in a future version. Use pandas.concat instead.\n",
            "  param_df = param_df.append(param, ignore_index=True)\n",
            "<ipython-input-31-ad0933ab371e>:29: FutureWarning: The frame.append method is deprecated and will be removed from pandas in a future version. Use pandas.concat instead.\n",
            "  param_df = param_df.append(param, ignore_index=True)\n"
          ]
        },
        {
          "name": "stdout",
          "output_type": "stream",
          "text": [
            "[LightGBM] [Warning] Unknown parameter: learning_rates\n",
            "[LightGBM] [Warning] Unknown parameter: learning_rates\n",
            "[LightGBM] [Warning] Unknown parameter: learning_rates\n",
            "[LightGBM] [Warning] Unknown parameter: learning_rates\n",
            "[LightGBM] [Warning] Unknown parameter: learning_rates\n"
          ]
        },
        {
          "name": "stderr",
          "output_type": "stream",
          "text": [
            "<ipython-input-31-ad0933ab371e>:29: FutureWarning: The frame.append method is deprecated and will be removed from pandas in a future version. Use pandas.concat instead.\n",
            "  param_df = param_df.append(param, ignore_index=True)\n",
            "<ipython-input-31-ad0933ab371e>:29: FutureWarning: The frame.append method is deprecated and will be removed from pandas in a future version. Use pandas.concat instead.\n",
            "  param_df = param_df.append(param, ignore_index=True)\n"
          ]
        },
        {
          "name": "stdout",
          "output_type": "stream",
          "text": [
            "[LightGBM] [Warning] Unknown parameter: learning_rates\n",
            "[LightGBM] [Warning] Unknown parameter: learning_rates\n",
            "[LightGBM] [Warning] Unknown parameter: learning_rates\n"
          ]
        },
        {
          "name": "stderr",
          "output_type": "stream",
          "text": [
            "<ipython-input-31-ad0933ab371e>:29: FutureWarning: The frame.append method is deprecated and will be removed from pandas in a future version. Use pandas.concat instead.\n",
            "  param_df = param_df.append(param, ignore_index=True)\n"
          ]
        },
        {
          "data": {
            "text/html": [
              "\n",
              "  <div id=\"df-d2ee78c8-80ba-4641-999a-920e2161ec59\">\n",
              "    <div class=\"colab-df-container\">\n",
              "      <div>\n",
              "<style scoped>\n",
              "    .dataframe tbody tr th:only-of-type {\n",
              "        vertical-align: middle;\n",
              "    }\n",
              "\n",
              "    .dataframe tbody tr th {\n",
              "        vertical-align: top;\n",
              "    }\n",
              "\n",
              "    .dataframe thead th {\n",
              "        text-align: right;\n",
              "    }\n",
              "</style>\n",
              "<table border=\"1\" class=\"dataframe\">\n",
              "  <thead>\n",
              "    <tr style=\"text-align: right;\">\n",
              "      <th></th>\n",
              "      <th>num_leave</th>\n",
              "      <th>learning_rate</th>\n",
              "      <th>n_estimator</th>\n",
              "      <th>reg_alpha</th>\n",
              "      <th>reg_lambda</th>\n",
              "      <th>rmse</th>\n",
              "    </tr>\n",
              "  </thead>\n",
              "  <tbody>\n",
              "    <tr>\n",
              "      <th>0</th>\n",
              "      <td>3</td>\n",
              "      <td>0.100</td>\n",
              "      <td>10</td>\n",
              "      <td>2</td>\n",
              "      <td>10</td>\n",
              "      <td>74.495317</td>\n",
              "    </tr>\n",
              "    <tr>\n",
              "      <th>1</th>\n",
              "      <td>3</td>\n",
              "      <td>0.100</td>\n",
              "      <td>10</td>\n",
              "      <td>2</td>\n",
              "      <td>20</td>\n",
              "      <td>74.559757</td>\n",
              "    </tr>\n",
              "    <tr>\n",
              "      <th>2</th>\n",
              "      <td>3</td>\n",
              "      <td>0.100</td>\n",
              "      <td>10</td>\n",
              "      <td>2</td>\n",
              "      <td>30</td>\n",
              "      <td>74.586660</td>\n",
              "    </tr>\n",
              "    <tr>\n",
              "      <th>3</th>\n",
              "      <td>3</td>\n",
              "      <td>0.100</td>\n",
              "      <td>10</td>\n",
              "      <td>5</td>\n",
              "      <td>10</td>\n",
              "      <td>74.564095</td>\n",
              "    </tr>\n",
              "    <tr>\n",
              "      <th>4</th>\n",
              "      <td>3</td>\n",
              "      <td>0.100</td>\n",
              "      <td>10</td>\n",
              "      <td>5</td>\n",
              "      <td>20</td>\n",
              "      <td>74.576328</td>\n",
              "    </tr>\n",
              "    <tr>\n",
              "      <th>...</th>\n",
              "      <td>...</td>\n",
              "      <td>...</td>\n",
              "      <td>...</td>\n",
              "      <td>...</td>\n",
              "      <td>...</td>\n",
              "      <td>...</td>\n",
              "    </tr>\n",
              "    <tr>\n",
              "      <th>238</th>\n",
              "      <td>7</td>\n",
              "      <td>0.001</td>\n",
              "      <td>100</td>\n",
              "      <td>5</td>\n",
              "      <td>20</td>\n",
              "      <td>73.537687</td>\n",
              "    </tr>\n",
              "    <tr>\n",
              "      <th>239</th>\n",
              "      <td>7</td>\n",
              "      <td>0.001</td>\n",
              "      <td>100</td>\n",
              "      <td>5</td>\n",
              "      <td>30</td>\n",
              "      <td>73.540384</td>\n",
              "    </tr>\n",
              "    <tr>\n",
              "      <th>240</th>\n",
              "      <td>7</td>\n",
              "      <td>0.001</td>\n",
              "      <td>100</td>\n",
              "      <td>10</td>\n",
              "      <td>10</td>\n",
              "      <td>73.545316</td>\n",
              "    </tr>\n",
              "    <tr>\n",
              "      <th>241</th>\n",
              "      <td>7</td>\n",
              "      <td>0.001</td>\n",
              "      <td>100</td>\n",
              "      <td>10</td>\n",
              "      <td>20</td>\n",
              "      <td>73.549278</td>\n",
              "    </tr>\n",
              "    <tr>\n",
              "      <th>242</th>\n",
              "      <td>7</td>\n",
              "      <td>0.001</td>\n",
              "      <td>100</td>\n",
              "      <td>10</td>\n",
              "      <td>30</td>\n",
              "      <td>73.552129</td>\n",
              "    </tr>\n",
              "  </tbody>\n",
              "</table>\n",
              "<p>243 rows × 6 columns</p>\n",
              "</div>\n",
              "      <button class=\"colab-df-convert\" onclick=\"convertToInteractive('df-d2ee78c8-80ba-4641-999a-920e2161ec59')\"\n",
              "              title=\"Convert this dataframe to an interactive table.\"\n",
              "              style=\"display:none;\">\n",
              "        \n",
              "  <svg xmlns=\"http://www.w3.org/2000/svg\" height=\"24px\"viewBox=\"0 0 24 24\"\n",
              "       width=\"24px\">\n",
              "    <path d=\"M0 0h24v24H0V0z\" fill=\"none\"/>\n",
              "    <path d=\"M18.56 5.44l.94 2.06.94-2.06 2.06-.94-2.06-.94-.94-2.06-.94 2.06-2.06.94zm-11 1L8.5 8.5l.94-2.06 2.06-.94-2.06-.94L8.5 2.5l-.94 2.06-2.06.94zm10 10l.94 2.06.94-2.06 2.06-.94-2.06-.94-.94-2.06-.94 2.06-2.06.94z\"/><path d=\"M17.41 7.96l-1.37-1.37c-.4-.4-.92-.59-1.43-.59-.52 0-1.04.2-1.43.59L10.3 9.45l-7.72 7.72c-.78.78-.78 2.05 0 2.83L4 21.41c.39.39.9.59 1.41.59.51 0 1.02-.2 1.41-.59l7.78-7.78 2.81-2.81c.8-.78.8-2.07 0-2.86zM5.41 20L4 18.59l7.72-7.72 1.47 1.35L5.41 20z\"/>\n",
              "  </svg>\n",
              "      </button>\n",
              "      \n",
              "  <style>\n",
              "    .colab-df-container {\n",
              "      display:flex;\n",
              "      flex-wrap:wrap;\n",
              "      gap: 12px;\n",
              "    }\n",
              "\n",
              "    .colab-df-convert {\n",
              "      background-color: #E8F0FE;\n",
              "      border: none;\n",
              "      border-radius: 50%;\n",
              "      cursor: pointer;\n",
              "      display: none;\n",
              "      fill: #1967D2;\n",
              "      height: 32px;\n",
              "      padding: 0 0 0 0;\n",
              "      width: 32px;\n",
              "    }\n",
              "\n",
              "    .colab-df-convert:hover {\n",
              "      background-color: #E2EBFA;\n",
              "      box-shadow: 0px 1px 2px rgba(60, 64, 67, 0.3), 0px 1px 3px 1px rgba(60, 64, 67, 0.15);\n",
              "      fill: #174EA6;\n",
              "    }\n",
              "\n",
              "    [theme=dark] .colab-df-convert {\n",
              "      background-color: #3B4455;\n",
              "      fill: #D2E3FC;\n",
              "    }\n",
              "\n",
              "    [theme=dark] .colab-df-convert:hover {\n",
              "      background-color: #434B5C;\n",
              "      box-shadow: 0px 1px 3px 1px rgba(0, 0, 0, 0.15);\n",
              "      filter: drop-shadow(0px 1px 2px rgba(0, 0, 0, 0.3));\n",
              "      fill: #FFFFFF;\n",
              "    }\n",
              "  </style>\n",
              "\n",
              "      <script>\n",
              "        const buttonEl =\n",
              "          document.querySelector('#df-d2ee78c8-80ba-4641-999a-920e2161ec59 button.colab-df-convert');\n",
              "        buttonEl.style.display =\n",
              "          google.colab.kernel.accessAllowed ? 'block' : 'none';\n",
              "\n",
              "        async function convertToInteractive(key) {\n",
              "          const element = document.querySelector('#df-d2ee78c8-80ba-4641-999a-920e2161ec59');\n",
              "          const dataTable =\n",
              "            await google.colab.kernel.invokeFunction('convertToInteractive',\n",
              "                                                     [key], {});\n",
              "          if (!dataTable) return;\n",
              "\n",
              "          const docLinkHtml = 'Like what you see? Visit the ' +\n",
              "            '<a target=\"_blank\" href=https://colab.research.google.com/notebooks/data_table.ipynb>data table notebook</a>'\n",
              "            + ' to learn more about interactive tables.';\n",
              "          element.innerHTML = '';\n",
              "          dataTable['output_type'] = 'display_data';\n",
              "          await google.colab.output.renderOutput(dataTable, element);\n",
              "          const docLink = document.createElement('div');\n",
              "          docLink.innerHTML = docLinkHtml;\n",
              "          element.appendChild(docLink);\n",
              "        }\n",
              "      </script>\n",
              "    </div>\n",
              "  </div>\n",
              "  "
            ],
            "text/plain": [
              "     num_leave  learning_rate  n_estimator  reg_alpha  reg_lambda       rmse\n",
              "0            3          0.100           10          2          10  74.495317\n",
              "1            3          0.100           10          2          20  74.559757\n",
              "2            3          0.100           10          2          30  74.586660\n",
              "3            3          0.100           10          5          10  74.564095\n",
              "4            3          0.100           10          5          20  74.576328\n",
              "..         ...            ...          ...        ...         ...        ...\n",
              "238          7          0.001          100          5          20  73.537687\n",
              "239          7          0.001          100          5          30  73.540384\n",
              "240          7          0.001          100         10          10  73.545316\n",
              "241          7          0.001          100         10          20  73.549278\n",
              "242          7          0.001          100         10          30  73.552129\n",
              "\n",
              "[243 rows x 6 columns]"
            ]
          },
          "execution_count": 31,
          "metadata": {},
          "output_type": "execute_result"
        }
      ],
      "source": [
        "for num_leave in num_leaves:\n",
        "  for learning_rate in learning_rates:\n",
        "    for n_estimator in n_estimators:\n",
        "      for reg_alpha in reg_alphas:\n",
        "        for reg_lambda in reg_lambdas:\n",
        "          rmse_cv = []\n",
        "          for train, test in tscv.split(train_df):\n",
        "            x_train = train_df.iloc[train]\n",
        "            x_test = train_df.iloc[test]\n",
        "\n",
        "            y_train = x_train[\"y\"]\n",
        "            x_train = x_train.drop(columns=[\"date_y\", \"y\"])\n",
        "            y_test = x_test[\"y\"]\n",
        "            x_test = x_test.drop(columns=[\"date_y\", \"y\"])\n",
        "\n",
        "            # 以下、動画のコードを修正済み（結果に変化なし）\n",
        "            # for i in range(split_num):\n",
        "            lgb_model = lgb.LGBMRegressor(\n",
        "                objective = \"regression\"\n",
        "                , num_leaves = num_leave\n",
        "                , learning_rates = learning_rate\n",
        "                , n_estimators = n_estimator\n",
        "                , reg_alpha = reg_alpha\n",
        "                , reg_lambda = reg_lambda\n",
        "            )\n",
        "            lgb_model.fit(x_train, y_train)\n",
        "\n",
        "            lgb_pred = lgb_model.predict(x_test)\n",
        "            rmse_cv.append(np.sqrt(mean_squared_error(y_test.values, lgb_pred)))\n",
        "            #本行までインデントを1段階下げている（動画のコードからの変化）\n",
        "            \n",
        "          param.append([num_leave, learning_rate, n_estimator, reg_alpha, reg_lambda, np.mean(rmse_cv)])\n",
        "          param_df = param_df.append(param, ignore_index=True)\n",
        "          param = []\n",
        "\n",
        "param_df.columns = [\"num_leave\", \"learning_rate\", \"n_estimator\", \"reg_alpha\", \"reg_lambda\", \"rmse\"]\n",
        "param_df"
      ]
    },
    {
      "cell_type": "code",
      "execution_count": 14,
      "metadata": {
        "colab": {
          "base_uri": "https://localhost:8080/"
        },
        "id": "M3N_8kpac0K1",
        "outputId": "bbee7202-0111-45d1-bab2-67f0af6b5be4"
      },
      "outputs": [
        {
          "data": {
            "text/plain": [
              "num_leave         5.000000\n",
              "learning_rate     0.001000\n",
              "n_estimator      30.000000\n",
              "reg_alpha        10.000000\n",
              "reg_lambda       30.000000\n",
              "rmse             73.419307\n",
              "Name: 152, dtype: float64"
            ]
          },
          "execution_count": 14,
          "metadata": {},
          "output_type": "execute_result"
        }
      ],
      "source": [
        "param_df.loc[param_df[\"rmse\"].idxmin()]"
      ]
    },
    {
      "cell_type": "code",
      "execution_count": 15,
      "metadata": {
        "colab": {
          "base_uri": "https://localhost:8080/",
          "height": 109
        },
        "id": "WVTjytjzghhg",
        "outputId": "788dea60-e9f1-490c-8429-4baad177db6a"
      },
      "outputs": [
        {
          "name": "stdout",
          "output_type": "stream",
          "text": [
            "[LightGBM] [Warning] Unknown parameter: learning_rates\n"
          ]
        },
        {
          "data": {
            "text/html": [
              "<style>#sk-container-id-1 {color: black;background-color: white;}#sk-container-id-1 pre{padding: 0;}#sk-container-id-1 div.sk-toggleable {background-color: white;}#sk-container-id-1 label.sk-toggleable__label {cursor: pointer;display: block;width: 100%;margin-bottom: 0;padding: 0.3em;box-sizing: border-box;text-align: center;}#sk-container-id-1 label.sk-toggleable__label-arrow:before {content: \"▸\";float: left;margin-right: 0.25em;color: #696969;}#sk-container-id-1 label.sk-toggleable__label-arrow:hover:before {color: black;}#sk-container-id-1 div.sk-estimator:hover label.sk-toggleable__label-arrow:before {color: black;}#sk-container-id-1 div.sk-toggleable__content {max-height: 0;max-width: 0;overflow: hidden;text-align: left;background-color: #f0f8ff;}#sk-container-id-1 div.sk-toggleable__content pre {margin: 0.2em;color: black;border-radius: 0.25em;background-color: #f0f8ff;}#sk-container-id-1 input.sk-toggleable__control:checked~div.sk-toggleable__content {max-height: 200px;max-width: 100%;overflow: auto;}#sk-container-id-1 input.sk-toggleable__control:checked~label.sk-toggleable__label-arrow:before {content: \"▾\";}#sk-container-id-1 div.sk-estimator input.sk-toggleable__control:checked~label.sk-toggleable__label {background-color: #d4ebff;}#sk-container-id-1 div.sk-label input.sk-toggleable__control:checked~label.sk-toggleable__label {background-color: #d4ebff;}#sk-container-id-1 input.sk-hidden--visually {border: 0;clip: rect(1px 1px 1px 1px);clip: rect(1px, 1px, 1px, 1px);height: 1px;margin: -1px;overflow: hidden;padding: 0;position: absolute;width: 1px;}#sk-container-id-1 div.sk-estimator {font-family: monospace;background-color: #f0f8ff;border: 1px dotted black;border-radius: 0.25em;box-sizing: border-box;margin-bottom: 0.5em;}#sk-container-id-1 div.sk-estimator:hover {background-color: #d4ebff;}#sk-container-id-1 div.sk-parallel-item::after {content: \"\";width: 100%;border-bottom: 1px solid gray;flex-grow: 1;}#sk-container-id-1 div.sk-label:hover label.sk-toggleable__label {background-color: #d4ebff;}#sk-container-id-1 div.sk-serial::before {content: \"\";position: absolute;border-left: 1px solid gray;box-sizing: border-box;top: 0;bottom: 0;left: 50%;z-index: 0;}#sk-container-id-1 div.sk-serial {display: flex;flex-direction: column;align-items: center;background-color: white;padding-right: 0.2em;padding-left: 0.2em;position: relative;}#sk-container-id-1 div.sk-item {position: relative;z-index: 1;}#sk-container-id-1 div.sk-parallel {display: flex;align-items: stretch;justify-content: center;background-color: white;position: relative;}#sk-container-id-1 div.sk-item::before, #sk-container-id-1 div.sk-parallel-item::before {content: \"\";position: absolute;border-left: 1px solid gray;box-sizing: border-box;top: 0;bottom: 0;left: 50%;z-index: -1;}#sk-container-id-1 div.sk-parallel-item {display: flex;flex-direction: column;z-index: 1;position: relative;background-color: white;}#sk-container-id-1 div.sk-parallel-item:first-child::after {align-self: flex-end;width: 50%;}#sk-container-id-1 div.sk-parallel-item:last-child::after {align-self: flex-start;width: 50%;}#sk-container-id-1 div.sk-parallel-item:only-child::after {width: 0;}#sk-container-id-1 div.sk-dashed-wrapped {border: 1px dashed gray;margin: 0 0.4em 0.5em 0.4em;box-sizing: border-box;padding-bottom: 0.4em;background-color: white;}#sk-container-id-1 div.sk-label label {font-family: monospace;font-weight: bold;display: inline-block;line-height: 1.2em;}#sk-container-id-1 div.sk-label-container {text-align: center;}#sk-container-id-1 div.sk-container {/* jupyter's `normalize.less` sets `[hidden] { display: none; }` but bootstrap.min.css set `[hidden] { display: none !important; }` so we also need the `!important` here to be able to override the default hidden behavior on the sphinx rendered scikit-learn.org. See: https://github.com/scikit-learn/scikit-learn/issues/21755 */display: inline-block !important;position: relative;}#sk-container-id-1 div.sk-text-repr-fallback {display: none;}</style><div id=\"sk-container-id-1\" class=\"sk-top-container\"><div class=\"sk-text-repr-fallback\"><pre>LGBMRegressor(learning_rates=0.001, n_estimators=30, num_leaves=5,\n",
              "              objective=&#x27;regression&#x27;, reg_alpha=10, reg_lambda=30)</pre><b>In a Jupyter environment, please rerun this cell to show the HTML representation or trust the notebook. <br />On GitHub, the HTML representation is unable to render, please try loading this page with nbviewer.org.</b></div><div class=\"sk-container\" hidden><div class=\"sk-item\"><div class=\"sk-estimator sk-toggleable\"><input class=\"sk-toggleable__control sk-hidden--visually\" id=\"sk-estimator-id-1\" type=\"checkbox\" checked><label for=\"sk-estimator-id-1\" class=\"sk-toggleable__label sk-toggleable__label-arrow\">LGBMRegressor</label><div class=\"sk-toggleable__content\"><pre>LGBMRegressor(learning_rates=0.001, n_estimators=30, num_leaves=5,\n",
              "              objective=&#x27;regression&#x27;, reg_alpha=10, reg_lambda=30)</pre></div></div></div></div></div>"
            ],
            "text/plain": [
              "LGBMRegressor(learning_rates=0.001, n_estimators=30, num_leaves=5,\n",
              "              objective='regression', reg_alpha=10, reg_lambda=30)"
            ]
          },
          "execution_count": 15,
          "metadata": {},
          "output_type": "execute_result"
        }
      ],
      "source": [
        "y_train = train_df[\"y\"]\n",
        "x_train = train_df.drop(columns=[\"date_y\", \"y\"])\n",
        "\n",
        "y_test = test_df[\"y\"]\n",
        "x_test = test_df.drop(columns=[\"date_y\", \"y\"])\n",
        "\n",
        "lgb_model = lgb.LGBMRegressor(\n",
        "    objective=\"regression\"\n",
        "    , num_leaves = 5\n",
        "    , learning_rates = 0.001\n",
        "    , n_estimators = 30\n",
        "    , reg_alpha = 10\n",
        "    , reg_lambda = 30\n",
        ")\n",
        "\n",
        "lgb_model.fit(x_train, y_train)\n"
      ]
    },
    {
      "cell_type": "code",
      "execution_count": 16,
      "metadata": {
        "colab": {
          "base_uri": "https://localhost:8080/",
          "height": 391
        },
        "id": "GcpIm6GjhXt0",
        "outputId": "ea89c1d3-0e66-49c9-8b3e-560c0a535773"
      },
      "outputs": [
        {
          "data": {
            "text/plain": [
              "<Axes: >"
            ]
          },
          "execution_count": 16,
          "metadata": {},
          "output_type": "execute_result"
        },
        {
          "data": {
            "image/png": "[encoded data removed]",
            "text/plain": [
              "<Figure size 1080x432 with 1 Axes>"
            ]
          },
          "metadata": {
            "needs_background": "light"
          },
          "output_type": "display_data"
        }
      ],
      "source": [
        "lgb_pred = lgb_model.predict(x_test)\n",
        "result_df = pd.DataFrame(data=pd.concat([y_test, pd.Series(lgb_pred)], axis=1))\n",
        "result_df.columns= [\"y\", \"pred\"]\n",
        "result_df.plot(figsize=(15, 6))"
      ]
    },
    {
      "cell_type": "code",
      "execution_count": 17,
      "metadata": {
        "colab": {
          "base_uri": "https://localhost:8080/"
        },
        "id": "i2OF4jv9huO2",
        "outputId": "7965578b-de66-4512-b3ec-041990a8b691"
      },
      "outputs": [
        {
          "name": "stdout",
          "output_type": "stream",
          "text": [
            "RMSE:62.46\n"
          ]
        }
      ],
      "source": [
        "from sklearn.metrics import mean_squared_error\n",
        "rmse = np.sqrt(mean_squared_error(result_df[\"y\"], result_df[\"pred\"]))\n",
        "print(\"RMSE:{:.2f}\".format(rmse))"
      ]
    },
    {
      "cell_type": "code",
      "execution_count": null,
      "metadata": {
        "id": "Xz6Hs02oiGza"
      },
      "outputs": [],
      "source": []
    }
  ],
  "metadata": {
    "colab": {
      "provenance": []
    },
    "kernelspec": {
      "display_name": "Python 3",
      "name": "python3"
    },
    "language_info": {
      "name": "python"
    }
  },
  "nbformat": 4,
  "nbformat_minor": 0
}
