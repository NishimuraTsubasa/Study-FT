{
 "cells": [
  {
   "cell_type": "markdown",
   "metadata": {
    "papermill": {
     "duration": 0.006568,
     "end_time": "2021-03-25T01:43:10.226339",
     "exception": false,
     "start_time": "2021-03-25T01:43:10.219771",
     "status": "completed"
    },
    "tags": []
   },
   "source": [
    "# アンサンブル"
   ]
  },
  {
   "cell_type": "code",
   "execution_count": 1,
   "metadata": {
    "execution": {
     "iopub.execute_input": "2021-03-25T01:43:10.249520Z",
     "iopub.status.busy": "2021-03-25T01:43:10.248799Z",
     "iopub.status.idle": "2021-03-25T01:43:10.272147Z",
     "shell.execute_reply": "2021-03-25T01:43:10.271400Z"
    },
    "papermill": {
     "duration": 0.040083,
     "end_time": "2021-03-25T01:43:10.272273",
     "exception": false,
     "start_time": "2021-03-25T01:43:10.232190",
     "status": "completed"
    },
    "tags": []
   },
   "outputs": [],
   "source": [
    "#Submitした各ファイルを読み込む\n",
    "import pandas as pd\n",
    "\n",
    "submit1 = pd.read_csv('../input/submit/randomForest_submit.csv')\n",
    "submit2 = pd.read_csv('../input/submit/kfold_submit.csv')\n",
    "submit3 = pd.read_csv('../input/submit/stratified_kfold_submit.csv')"
   ]
  },
  {
   "cell_type": "code",
   "execution_count": 2,
   "metadata": {
    "execution": {
     "iopub.execute_input": "2021-03-25T01:43:10.306693Z",
     "iopub.status.busy": "2021-03-25T01:43:10.305965Z",
     "iopub.status.idle": "2021-03-25T01:43:10.315990Z",
     "shell.execute_reply": "2021-03-25T01:43:10.315271Z"
    },
    "papermill": {
     "duration": 0.037773,
     "end_time": "2021-03-25T01:43:10.316119",
     "exception": false,
     "start_time": "2021-03-25T01:43:10.278346",
     "status": "completed"
    },
    "tags": []
   },
   "outputs": [
    {
     "data": {
      "text/html": [
       "<div>\n",
       "<style scoped>\n",
       "    .dataframe tbody tr th:only-of-type {\n",
       "        vertical-align: middle;\n",
       "    }\n",
       "\n",
       "    .dataframe tbody tr th {\n",
       "        vertical-align: top;\n",
       "    }\n",
       "\n",
       "    .dataframe thead th {\n",
       "        text-align: right;\n",
       "    }\n",
       "</style>\n",
       "<table border=\"1\" class=\"dataframe\">\n",
       "  <thead>\n",
       "    <tr style=\"text-align: right;\">\n",
       "      <th></th>\n",
       "      <th>submit1</th>\n",
       "      <th>submit2</th>\n",
       "      <th>submit3</th>\n",
       "    </tr>\n",
       "  </thead>\n",
       "  <tbody>\n",
       "    <tr>\n",
       "      <th>0</th>\n",
       "      <td>0</td>\n",
       "      <td>0</td>\n",
       "      <td>0</td>\n",
       "    </tr>\n",
       "    <tr>\n",
       "      <th>1</th>\n",
       "      <td>0</td>\n",
       "      <td>0</td>\n",
       "      <td>0</td>\n",
       "    </tr>\n",
       "    <tr>\n",
       "      <th>2</th>\n",
       "      <td>0</td>\n",
       "      <td>0</td>\n",
       "      <td>0</td>\n",
       "    </tr>\n",
       "    <tr>\n",
       "      <th>3</th>\n",
       "      <td>0</td>\n",
       "      <td>0</td>\n",
       "      <td>0</td>\n",
       "    </tr>\n",
       "    <tr>\n",
       "      <th>4</th>\n",
       "      <td>1</td>\n",
       "      <td>0</td>\n",
       "      <td>0</td>\n",
       "    </tr>\n",
       "  </tbody>\n",
       "</table>\n",
       "</div>"
      ],
      "text/plain": [
       "   submit1  submit2  submit3\n",
       "0        0        0        0\n",
       "1        0        0        0\n",
       "2        0        0        0\n",
       "3        0        0        0\n",
       "4        1        0        0"
      ]
     },
     "execution_count": 2,
     "metadata": {},
     "output_type": "execute_result"
    }
   ],
   "source": [
    "#各値を確認\n",
    "submit_all = pd.DataFrame({'submit1': submit1['Survived'].values,\n",
    "                           'submit2': submit2['Survived'].values,\n",
    "                           'submit3': submit3['Survived'].values})\n",
    "\n",
    "submit_all.head()"
   ]
  },
  {
   "cell_type": "code",
   "execution_count": 3,
   "metadata": {
    "execution": {
     "iopub.execute_input": "2021-03-25T01:43:10.342905Z",
     "iopub.status.busy": "2021-03-25T01:43:10.334114Z",
     "iopub.status.idle": "2021-03-25T01:43:10.348262Z",
     "shell.execute_reply": "2021-03-25T01:43:10.347673Z"
    },
    "papermill": {
     "duration": 0.02543,
     "end_time": "2021-03-25T01:43:10.348439",
     "exception": false,
     "start_time": "2021-03-25T01:43:10.323009",
     "status": "completed"
    },
    "tags": []
   },
   "outputs": [
    {
     "data": {
      "text/html": [
       "<div>\n",
       "<style scoped>\n",
       "    .dataframe tbody tr th:only-of-type {\n",
       "        vertical-align: middle;\n",
       "    }\n",
       "\n",
       "    .dataframe tbody tr th {\n",
       "        vertical-align: top;\n",
       "    }\n",
       "\n",
       "    .dataframe thead th {\n",
       "        text-align: right;\n",
       "    }\n",
       "</style>\n",
       "<table border=\"1\" class=\"dataframe\">\n",
       "  <thead>\n",
       "    <tr style=\"text-align: right;\">\n",
       "      <th></th>\n",
       "      <th>submit1</th>\n",
       "      <th>submit2</th>\n",
       "      <th>submit3</th>\n",
       "    </tr>\n",
       "  </thead>\n",
       "  <tbody>\n",
       "    <tr>\n",
       "      <th>submit1</th>\n",
       "      <td>1.000000</td>\n",
       "      <td>0.711683</td>\n",
       "      <td>0.696102</td>\n",
       "    </tr>\n",
       "    <tr>\n",
       "      <th>submit2</th>\n",
       "      <td>0.711683</td>\n",
       "      <td>1.000000</td>\n",
       "      <td>0.941454</td>\n",
       "    </tr>\n",
       "    <tr>\n",
       "      <th>submit3</th>\n",
       "      <td>0.696102</td>\n",
       "      <td>0.941454</td>\n",
       "      <td>1.000000</td>\n",
       "    </tr>\n",
       "  </tbody>\n",
       "</table>\n",
       "</div>"
      ],
      "text/plain": [
       "          submit1   submit2   submit3\n",
       "submit1  1.000000  0.711683  0.696102\n",
       "submit2  0.711683  1.000000  0.941454\n",
       "submit3  0.696102  0.941454  1.000000"
      ]
     },
     "execution_count": 3,
     "metadata": {},
     "output_type": "execute_result"
    }
   ],
   "source": [
    "#相関を確認\n",
    "submit_all.corr()"
   ]
  },
  {
   "cell_type": "code",
   "execution_count": 4,
   "metadata": {
    "execution": {
     "iopub.execute_input": "2021-03-25T01:43:10.369907Z",
     "iopub.status.busy": "2021-03-25T01:43:10.369164Z",
     "iopub.status.idle": "2021-03-25T01:43:10.408402Z",
     "shell.execute_reply": "2021-03-25T01:43:10.407606Z"
    },
    "papermill": {
     "duration": 0.052888,
     "end_time": "2021-03-25T01:43:10.408531",
     "exception": false,
     "start_time": "2021-03-25T01:43:10.355643",
     "status": "completed"
    },
    "tags": []
   },
   "outputs": [
    {
     "data": {
      "text/html": [
       "<div>\n",
       "<style scoped>\n",
       "    .dataframe tbody tr th:only-of-type {\n",
       "        vertical-align: middle;\n",
       "    }\n",
       "\n",
       "    .dataframe tbody tr th {\n",
       "        vertical-align: top;\n",
       "    }\n",
       "\n",
       "    .dataframe thead th {\n",
       "        text-align: right;\n",
       "    }\n",
       "</style>\n",
       "<table border=\"1\" class=\"dataframe\">\n",
       "  <thead>\n",
       "    <tr style=\"text-align: right;\">\n",
       "      <th></th>\n",
       "      <th>PassengerId</th>\n",
       "      <th>Survived</th>\n",
       "    </tr>\n",
       "  </thead>\n",
       "  <tbody>\n",
       "    <tr>\n",
       "      <th>0</th>\n",
       "      <td>892</td>\n",
       "      <td>0</td>\n",
       "    </tr>\n",
       "    <tr>\n",
       "      <th>1</th>\n",
       "      <td>893</td>\n",
       "      <td>0</td>\n",
       "    </tr>\n",
       "    <tr>\n",
       "      <th>2</th>\n",
       "      <td>894</td>\n",
       "      <td>0</td>\n",
       "    </tr>\n",
       "    <tr>\n",
       "      <th>3</th>\n",
       "      <td>895</td>\n",
       "      <td>0</td>\n",
       "    </tr>\n",
       "    <tr>\n",
       "      <th>4</th>\n",
       "      <td>896</td>\n",
       "      <td>1</td>\n",
       "    </tr>\n",
       "  </tbody>\n",
       "</table>\n",
       "</div>"
      ],
      "text/plain": [
       "   PassengerId  Survived\n",
       "0          892         0\n",
       "1          893         0\n",
       "2          894         0\n",
       "3          895         0\n",
       "4          896         1"
      ]
     },
     "execution_count": 4,
     "metadata": {},
     "output_type": "execute_result"
    }
   ],
   "source": [
    "#3つの結果を加算\n",
    "submit_ansemble = pd.read_csv('../input/titanic/gender_submission.csv')\n",
    "submit_ansemble['Survived'] = submit1['Survived'] + submit2['Survived'] + submit3['Survived']\n",
    "\n",
    "submit_ansemble.head()"
   ]
  },
  {
   "cell_type": "code",
   "execution_count": 5,
   "metadata": {
    "execution": {
     "iopub.execute_input": "2021-03-25T01:43:10.431741Z",
     "iopub.status.busy": "2021-03-25T01:43:10.430905Z",
     "iopub.status.idle": "2021-03-25T01:43:10.792300Z",
     "shell.execute_reply": "2021-03-25T01:43:10.791656Z"
    },
    "papermill": {
     "duration": 0.375859,
     "end_time": "2021-03-25T01:43:10.792437",
     "exception": false,
     "start_time": "2021-03-25T01:43:10.416578",
     "status": "completed"
    },
    "tags": []
   },
   "outputs": [],
   "source": [
    "#結果が2以上なら1とみなす\n",
    "submit_ansemble['Survived'] = (submit_ansemble['Survived'] >= 2).astype(int)\n",
    "submit_ansemble.to_csv('ansemble_submit.csv', index=False)"
   ]
  },
  {
   "cell_type": "code",
   "execution_count": null,
   "metadata": {
    "papermill": {
     "duration": 0.007522,
     "end_time": "2021-03-25T01:43:10.808261",
     "exception": false,
     "start_time": "2021-03-25T01:43:10.800739",
     "status": "completed"
    },
    "tags": []
   },
   "outputs": [],
   "source": []
  }
 ],
 "metadata": {
  "kernelspec": {
   "display_name": "Python 3",
   "language": "python",
   "name": "python3"
  },
  "language_info": {
   "codemirror_mode": {
    "name": "ipython",
    "version": 3
   },
   "file_extension": ".py",
   "mimetype": "text/x-python",
   "name": "python",
   "nbconvert_exporter": "python",
   "pygments_lexer": "ipython3",
   "version": "3.7.6"
  },
  "papermill": {
   "duration": 5.705566,
   "end_time": "2021-03-25T01:43:10.923673",
   "environment_variables": {},
   "exception": null,
   "input_path": "__notebook__.ipynb",
   "output_path": "__notebook__.ipynb",
   "parameters": {},
   "start_time": "2021-03-25T01:43:05.218107",
   "version": "2.1.0"
  }
 },
 "nbformat": 4,
 "nbformat_minor": 4
}
