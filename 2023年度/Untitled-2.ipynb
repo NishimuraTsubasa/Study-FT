{
 "cells": [
  {
   "cell_type": "code",
   "execution_count": null,
   "metadata": {},
   "outputs": [],
   "source": []
  },
  {
   "cell_type": "code",
   "execution_count": 1,
   "metadata": {},
   "outputs": [
    {
     "name": "stdout",
     "output_type": "stream",
     "text": [
      "Threshold: 0.9\n",
      "Number of components above threshold: 1\n",
      "Eigen vectors:\n",
      "Component 1: [-0.57735027  0.57735027 -0.57735027]\n",
      "Explained variance ratio (cumulative):\n",
      "[1. 1. 1.]\n"
     ]
    },
    {
     "data": {
      "text/plain": [
       "(1, array([[-0.57735027,  0.57735027, -0.57735027]]))"
      ]
     },
     "execution_count": 1,
     "metadata": {},
     "output_type": "execute_result"
    }
   ],
   "source": [
    "import numpy as np\n",
    "import pandas as pd\n",
    "from sklearn.decomposition import PCA\n",
    "\n",
    "def pca_analysis(dataframe, threshold):\n",
    "    # 主成分分析を実行\n",
    "    pca = PCA()\n",
    "    pca.fit(dataframe)\n",
    "    \n",
    "    # 寄与度の累積を計算\n",
    "    cumulative_variance_ratio = np.cumsum(pca.explained_variance_ratio_)\n",
    "    \n",
    "    # 寄与度が閾値以上となる主成分の数を特定\n",
    "    n_components_above_threshold = np.argmax(cumulative_variance_ratio >= threshold) + 1\n",
    "    \n",
    "    # 閾値以上の主成分の固有ベクトルを取得\n",
    "    eigenvectors_above_threshold = pca.components_[:n_components_above_threshold]\n",
    "    \n",
    "    # 結果を表示\n",
    "    print(f\"Threshold: {threshold}\")\n",
    "    print(f\"Number of components above threshold: {n_components_above_threshold}\")\n",
    "    print(\"Eigen vectors:\")\n",
    "    for i, vec in enumerate(eigenvectors_above_threshold):\n",
    "        print(f\"Component {i+1}: {vec}\")\n",
    "    \n",
    "    # 既存の指標を出力\n",
    "    print(\"Explained variance ratio (cumulative):\")\n",
    "    print(cumulative_variance_ratio)\n",
    "    \n",
    "    return n_components_above_threshold, eigenvectors_above_threshold\n",
    "\n",
    "# テスト用のデータフレーム\n",
    "data = {\n",
    "    'feature1': [1, 2, 3, 4, 5],\n",
    "    'feature2': [5, 4, 3, 2, 1],\n",
    "    'feature3': [2, 3, 4, 5, 6]\n",
    "}\n",
    "df = pd.DataFrame(data)\n",
    "\n",
    "# 関数の呼び出し\n",
    "threshold = 0.9\n",
    "pca_analysis(df, threshold)\n"
   ]
  },
  {
   "cell_type": "code",
   "execution_count": 2,
   "metadata": {},
   "outputs": [
    {
     "name": "stdout",
     "output_type": "stream",
     "text": [
      "Variable importance (loadings):\n",
      "feature1: [-1.58113883e+00  1.95447689e-16  0.00000000e+00]\n",
      "feature2: [1.58113883e+00 9.77238443e-17 2.61736306e-32]\n",
      "feature3: [-1.58113883e+00 -9.77238443e-17  2.61736306e-32]\n",
      "Threshold: 0.9\n",
      "Number of components above threshold: 1\n",
      "Eigen vectors:\n",
      "Component 1: [-0.57735027  0.57735027 -0.57735027]\n",
      "Explained variance ratio (cumulative):\n",
      "[1. 1. 1.]\n"
     ]
    },
    {
     "data": {
      "text/plain": [
       "(1, array([[-0.57735027,  0.57735027, -0.57735027]]))"
      ]
     },
     "execution_count": 2,
     "metadata": {},
     "output_type": "execute_result"
    }
   ],
   "source": [
    "import numpy as np\n",
    "import pandas as pd\n",
    "from sklearn.decomposition import PCA\n",
    "\n",
    "def pca_analysis(dataframe, threshold):\n",
    "    # 主成分分析を実行\n",
    "    pca = PCA()\n",
    "    pca.fit(dataframe)\n",
    "    \n",
    "    # 寄与度の累積を計算\n",
    "    cumulative_variance_ratio = np.cumsum(pca.explained_variance_ratio_)\n",
    "    \n",
    "    # 寄与度が閾値以上となる主成分の数を特定\n",
    "    n_components_above_threshold = np.argmax(cumulative_variance_ratio >= threshold) + 1\n",
    "    \n",
    "    # 閾値以上の主成分の固有ベクトルを取得\n",
    "    eigenvectors_above_threshold = pca.components_[:n_components_above_threshold]\n",
    "    \n",
    "    # 主成分の負荷量を取得\n",
    "    loadings = pca.components_.T * np.sqrt(pca.explained_variance_)\n",
    "    \n",
    "    # 各変数の重要度を表示\n",
    "    print(\"Variable importance (loadings):\")\n",
    "    for i, var in enumerate(dataframe.columns):\n",
    "        print(f\"{var}: {loadings[i]}\")\n",
    "    \n",
    "    # 結果を表示\n",
    "    print(f\"Threshold: {threshold}\")\n",
    "    print(f\"Number of components above threshold: {n_components_above_threshold}\")\n",
    "    print(\"Eigen vectors:\")\n",
    "    for i, vec in enumerate(eigenvectors_above_threshold):\n",
    "        print(f\"Component {i+1}: {vec}\")\n",
    "    \n",
    "    # 既存の指標を出力\n",
    "    print(\"Explained variance ratio (cumulative):\")\n",
    "    print(cumulative_variance_ratio)\n",
    "    \n",
    "    return n_components_above_threshold, eigenvectors_above_threshold\n",
    "\n",
    "# テスト用のデータフレーム\n",
    "data = {\n",
    "    'feature1': [1, 2, 3, 4, 5],\n",
    "    'feature2': [5, 4, 3, 2, 1],\n",
    "    'feature3': [2, 3, 4, 5, 6]\n",
    "}\n",
    "df = pd.DataFrame(data)\n",
    "\n",
    "# 関数の呼び出し\n",
    "threshold = 0.9\n",
    "pca_analysis(df, threshold)\n"
   ]
  },
  {
   "cell_type": "markdown",
   "metadata": {},
   "source": [
    "主成分分析（PCA）によって得られた結果から、各元の変数が主成分にどの程度重要かを判断するためには、主成分負荷量を見る必要があります。主成分負荷量は、各変数が主成分に対してどの程度関連しているかを示す指標です。値が大きいほど、その変数が主成分を説明するのに重要であると言えます。\n",
    "\n",
    "以下の主成分負荷量を見ると、feature1とfeature3は負の値を持ち、feature2は正の値を持っています。これは、feature1とfeature3が負の相関、feature2が正の相関を持っていることを示しています。つまり、主成分1に対してはfeature1とfeature3が、主成分2に対してはfeature2が重要であると解釈できます。\n",
    "\n",
    "feature1: [-1.58113883e+00 1.95447689e-16 0.00000000e+00]\n",
    "feature2: [1.58113883e+00 9.77238443e-17 2.61736306e-32]\n",
    "feature3: [-1.58113883e+00 -9.77238443e-17 2.61736306e-32]\n",
    "したがって、この結果からは、feature1とfeature3が主成分1において重要であり、feature2が主成分2において重要であるということが判断できます。"
   ]
  },
  {
   "cell_type": "code",
   "execution_count": null,
   "metadata": {},
   "outputs": [],
   "source": []
  }
 ],
 "metadata": {
  "kernelspec": {
   "display_name": "machine_learning",
   "language": "python",
   "name": "python3"
  },
  "language_info": {
   "codemirror_mode": {
    "name": "ipython",
    "version": 3
   },
   "file_extension": ".py",
   "mimetype": "text/x-python",
   "name": "python",
   "nbconvert_exporter": "python",
   "pygments_lexer": "ipython3",
   "version": "3.10.13"
  }
 },
 "nbformat": 4,
 "nbformat_minor": 2
}
